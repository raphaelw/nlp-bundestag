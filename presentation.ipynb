{
 "cells": [
  {
   "cell_type": "markdown",
   "id": "fb402d62-7015-4fbe-a7ff-6106d96a49cc",
   "metadata": {
    "slideshow": {
     "slide_type": "slide"
    },
    "tags": []
   },
   "source": [
    "# *How to read 500'000 text pages in 1 week?*"
   ]
  },
  {
   "cell_type": "markdown",
   "id": "7d5c9899",
   "metadata": {
    "slideshow": {
     "slide_type": "slide"
    },
    "tags": []
   },
   "source": [
    "# Topic Modelling\n",
    "\n",
    "## Speeches by German Parliament (Bundestag)\n",
    "\n",
    "*github.com/raphaelw*"
   ]
  },
  {
   "cell_type": "markdown",
   "id": "bff975b3",
   "metadata": {
    "slideshow": {
     "slide_type": "slide"
    },
    "tags": []
   },
   "source": [
    "## Project Overview (Blackbox)\n",
    "\n",
    "![Image](doc/figures/pipeline_blackbox.png)"
   ]
  },
  {
   "cell_type": "markdown",
   "id": "2d5d937c-c9bd-4e48-8f0e-dd2b1bcd7e49",
   "metadata": {
    "slideshow": {
     "slide_type": "fragment"
    },
    "tags": []
   },
   "source": [
    "- An algorithm works out topics\n",
    "- Topics are inspected and manually annotated"
   ]
  },
  {
   "cell_type": "markdown",
   "id": "3d3a7116-869a-40f3-b5f1-8a671049394a",
   "metadata": {
    "slideshow": {
     "slide_type": "slide"
    },
    "tags": []
   },
   "source": [
    "## Explore Dataset\n",
    "\n",
    "> [opendiscourse.de](https://opendiscourse.de/): Richter, F.; Koch, P.; Franke, O.; Kraus, J.; Kuruc, F.; Thiem, A.; Högerl, J.; Heine, S.; Schöps, K. (2020). Open Discourse. https://doi.org/10.7910/DVN/FIKIBO. Harvard Dataverse. V3."
   ]
  },
  {
   "cell_type": "markdown",
   "id": "8652656f-8ee5-472d-9c52-4e915b06be91",
   "metadata": {
    "slideshow": {
     "slide_type": "subslide"
    },
    "tags": []
   },
   "source": [
    "## Exploration: Text amount by parliamentary fraction\n",
    "\n",
    "![Image](doc/figures/plot_text_mass.png)\n",
    "\n",
    "*\"not found\" are speeches by members of government (chancellor, ministers)*"
   ]
  },
  {
   "cell_type": "markdown",
   "id": "1429b420-d285-45f6-8b80-a4a9338d1c43",
   "metadata": {
    "slideshow": {
     "slide_type": "subslide"
    },
    "tags": []
   },
   "source": [
    "## Exploration: Speech lengths\n",
    "\n",
    "![Image](doc/figures/plot_speech_lengths.png)\n",
    "\n",
    "**Longest speech** by the first minister of finance **Fritz Schäffer**. December 7, 1956. *[PDF, Page 2](https://dserver.bundestag.de/btp/02/02178.pdf)*.\n",
    "- 160k characters, 21k Words, over 2 1/2 hours reading time (estimated)."
   ]
  },
  {
   "cell_type": "markdown",
   "id": "a64f628f-16bf-4c6a-bb80-df328347bc10",
   "metadata": {
    "slideshow": {
     "slide_type": "slide"
    },
    "tags": []
   },
   "source": [
    "## Project Overview (Greybox)\n",
    "\n",
    "![Image](doc/figures/pipeline_greybox.png)"
   ]
  },
  {
   "cell_type": "markdown",
   "id": "7be3294b-77b0-4e69-bc60-5f1b46fe44d2",
   "metadata": {
    "slideshow": {
     "slide_type": "fragment"
    },
    "tags": []
   },
   "source": [
    "Preprocessing ([spaCy](https://spacy.io/), [Gensim](https://radimrehurek.com/gensim/))\n",
    "- Lemmatization (_better_ → _good_; _walking_ → _walk_)"
   ]
  },
  {
   "cell_type": "markdown",
   "id": "368b74ed-5830-4620-81d5-7ff69b5b3d2b",
   "metadata": {
    "slideshow": {
     "slide_type": "fragment"
    },
    "tags": []
   },
   "source": [
    "- Remove stop words (*the, of, and, ...*)"
   ]
  },
  {
   "cell_type": "markdown",
   "id": "656c1f24-060a-4c95-9b3a-28372e4a76db",
   "metadata": {
    "slideshow": {
     "slide_type": "fragment"
    },
    "tags": []
   },
   "source": [
    "- Generate bigrams (word pairs)"
   ]
  },
  {
   "cell_type": "markdown",
   "id": "f1100060-4c7b-4c5c-a020-4a852bbdcfca",
   "metadata": {
    "slideshow": {
     "slide_type": "fragment"
    },
    "tags": []
   },
   "source": [
    "- Vectorization (bag-of-words)"
   ]
  },
  {
   "cell_type": "markdown",
   "id": "57ab13ca-f484-42a7-87e6-af8bdcc2dd7d",
   "metadata": {
    "slideshow": {
     "slide_type": "fragment"
    },
    "tags": []
   },
   "source": [
    "- Remove rare and common words"
   ]
  },
  {
   "cell_type": "markdown",
   "id": "f2142f5a-5ed8-4814-b7dc-bffcf0454982",
   "metadata": {
    "slideshow": {
     "slide_type": "slide"
    },
    "tags": []
   },
   "source": [
    "## Topic 16: Family policy (Familienpolitik)\n",
    "\n",
    "![Topic 16](wordclouds/wordcloud_16.png \"Topic 16\")"
   ]
  },
  {
   "cell_type": "markdown",
   "id": "9c4fe950-9be6-4935-8487-7d74736368c1",
   "metadata": {
    "slideshow": {
     "slide_type": "slide"
    },
    "tags": []
   },
   "source": [
    "next"
   ]
  },
  {
   "cell_type": "code",
   "execution_count": null,
   "id": "f2651535-fa27-4854-aff7-ce4abf021f3f",
   "metadata": {},
   "outputs": [],
   "source": []
  }
 ],
 "metadata": {
  "kernelspec": {
   "display_name": "Python 3",
   "language": "python",
   "name": "python3"
  },
  "language_info": {
   "codemirror_mode": {
    "name": "ipython",
    "version": 3
   },
   "file_extension": ".py",
   "mimetype": "text/x-python",
   "name": "python",
   "nbconvert_exporter": "python",
   "pygments_lexer": "ipython3",
   "version": "3.8.10"
  }
 },
 "nbformat": 4,
 "nbformat_minor": 5
}
