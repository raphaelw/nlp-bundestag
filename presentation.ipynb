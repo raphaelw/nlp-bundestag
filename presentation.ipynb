{
 "cells": [
  {
   "cell_type": "markdown",
   "id": "fb402d62-7015-4fbe-a7ff-6106d96a49cc",
   "metadata": {
    "slideshow": {
     "slide_type": "slide"
    },
    "tags": []
   },
   "source": [
    "# *How to read 500'000 text pages in 1 week?*"
   ]
  },
  {
   "cell_type": "markdown",
   "id": "7d5c9899",
   "metadata": {
    "slideshow": {
     "slide_type": "slide"
    },
    "tags": []
   },
   "source": [
    "# Topic Modelling\n",
    "\n",
    "## Speeches by German Parliament (Bundestag)\n",
    "\n",
    "*github.com/raphaelw*"
   ]
  },
  {
   "cell_type": "markdown",
   "id": "bff975b3",
   "metadata": {
    "slideshow": {
     "slide_type": "slide"
    },
    "tags": []
   },
   "source": [
    "## Project Overview (Blackbox)\n",
    "\n",
    "![Image](doc/figures/pipeline_blackbox.png)"
   ]
  },
  {
   "cell_type": "markdown",
   "id": "2d5d937c-c9bd-4e48-8f0e-dd2b1bcd7e49",
   "metadata": {
    "slideshow": {
     "slide_type": "fragment"
    },
    "tags": []
   },
   "source": [
    "- An algorithm works out topics\n",
    "- Topics are inspected and manually annotated"
   ]
  },
  {
   "cell_type": "markdown",
   "id": "3d3a7116-869a-40f3-b5f1-8a671049394a",
   "metadata": {
    "slideshow": {
     "slide_type": "slide"
    },
    "tags": []
   },
   "source": [
    "## Explore Dataset\n",
    "\n",
    "> [opendiscourse.de](https://opendiscourse.de/): Richter, F.; Koch, P.; Franke, O.; Kraus, J.; Kuruc, F.; Thiem, A.; Högerl, J.; Heine, S.; Schöps, K. (2020). Open Discourse. https://doi.org/10.7910/DVN/FIKIBO. Harvard Dataverse. V3."
   ]
  },
  {
   "cell_type": "markdown",
   "id": "8652656f-8ee5-472d-9c52-4e915b06be91",
   "metadata": {
    "slideshow": {
     "slide_type": "subslide"
    },
    "tags": []
   },
   "source": [
    "### Exploration: Text amount by parliamentary fraction\n",
    "\n",
    "![Image](doc/figures/plot_text_mass.png)\n",
    "\n",
    "*\"not found\" are speeches by members of government (chancellor, ministers)*"
   ]
  },
  {
   "cell_type": "markdown",
   "id": "1429b420-d285-45f6-8b80-a4a9338d1c43",
   "metadata": {
    "slideshow": {
     "slide_type": "subslide"
    },
    "tags": []
   },
   "source": [
    "### Exploration: Speech lengths\n",
    "\n",
    "![Image](doc/figures/plot_speech_lengths.png)\n",
    "\n",
    "**Longest speech** by the first minister of finance **Fritz Schäffer**. December 7, 1956. *[PDF, Page 2](https://dserver.bundestag.de/btp/02/02178.pdf)*.\n",
    "- 160k characters, 21k Words, over 2 1/2 hours reading time (estimated)."
   ]
  },
  {
   "cell_type": "markdown",
   "id": "a64f628f-16bf-4c6a-bb80-df328347bc10",
   "metadata": {
    "slideshow": {
     "slide_type": "slide"
    },
    "tags": []
   },
   "source": [
    "## Project Overview (Greybox)\n",
    "\n",
    "![Image](doc/figures/pipeline_greybox.png)"
   ]
  },
  {
   "cell_type": "markdown",
   "id": "7be3294b-77b0-4e69-bc60-5f1b46fe44d2",
   "metadata": {
    "slideshow": {
     "slide_type": "fragment"
    },
    "tags": []
   },
   "source": [
    "Preprocessing ([spaCy](https://spacy.io/), [Gensim](https://radimrehurek.com/gensim/))\n",
    "- Lemmatization (_better_ → _good_; _walking_ → _walk_)"
   ]
  },
  {
   "cell_type": "markdown",
   "id": "368b74ed-5830-4620-81d5-7ff69b5b3d2b",
   "metadata": {
    "slideshow": {
     "slide_type": "fragment"
    },
    "tags": []
   },
   "source": [
    "- Remove stop words (*the, of, and, ...*)"
   ]
  },
  {
   "cell_type": "markdown",
   "id": "656c1f24-060a-4c95-9b3a-28372e4a76db",
   "metadata": {
    "slideshow": {
     "slide_type": "fragment"
    },
    "tags": []
   },
   "source": [
    "- Generate bigrams (word pairs)"
   ]
  },
  {
   "cell_type": "markdown",
   "id": "f1100060-4c7b-4c5c-a020-4a852bbdcfca",
   "metadata": {
    "slideshow": {
     "slide_type": "fragment"
    },
    "tags": []
   },
   "source": [
    "- Vectorization (bag-of-words)"
   ]
  },
  {
   "cell_type": "markdown",
   "id": "57ab13ca-f484-42a7-87e6-af8bdcc2dd7d",
   "metadata": {
    "slideshow": {
     "slide_type": "fragment"
    },
    "tags": []
   },
   "source": [
    "- Remove rare and common words"
   ]
  },
  {
   "cell_type": "markdown",
   "id": "278df191-be05-4c50-8f60-72dbfea39a9b",
   "metadata": {
    "slideshow": {
     "slide_type": "slide"
    },
    "tags": []
   },
   "source": [
    "## Tech Details\n",
    "- Number of topics specified: 50\n",
    "- Computation time:\n",
    "    - Preprocessing: 10 hours\n",
    "    - LDA: 7 hours"
   ]
  },
  {
   "cell_type": "markdown",
   "id": "f1ad935f-6df8-449e-98c7-25d89d9765e6",
   "metadata": {
    "slideshow": {
     "slide_type": "fragment"
    },
    "tags": []
   },
   "source": [
    "## Tech Used\n",
    "- Hardware: Intel i7 (3rd Gen), 16 GB RAM\n",
    "- Scientific Python\n",
    "    - [JupyterLab](https://jupyter.org/), [pandas](https://pandas.pydata.org/), [matplotlib](https://matplotlib.org/)\n",
    "    - [Apache Arrow](https://arrow.apache.org/) (load serialized pandas DataFrames)\n",
    "- Natural Language Processing\n",
    "    - [spaCy](https://spacy.io/) (preprocessing)\n",
    "    - [Gensim](https://radimrehurek.com/gensim/) (preprocessing and LDA)\n",
    "- Visualization\n",
    "    - [WordCloud](https://github.com/amueller/word_cloud)"
   ]
  },
  {
   "cell_type": "markdown",
   "id": "79209933-194c-476c-96e6-04daa48abfea",
   "metadata": {
    "slideshow": {
     "slide_type": "slide"
    },
    "tags": []
   },
   "source": [
    "## Results\n",
    "\n",
    "Visit: [github.com/raphaelw/nlp-bundestag/blob/main/topics.md](https://github.com/raphaelw/nlp-bundestag/blob/main/topics.md)"
   ]
  },
  {
   "cell_type": "markdown",
   "id": "3f771cc5-b4b3-4b9a-ada6-bda35dcb4f47",
   "metadata": {
    "slideshow": {
     "slide_type": "subslide"
    },
    "tags": []
   },
   "source": [
    "### Topic 8: German reunification (Deutsche Wiedervereinigung)\n",
    "\n",
    "![Topic 8](wordclouds/wordcloud_8.png \"Topic 8\")"
   ]
  },
  {
   "cell_type": "markdown",
   "id": "e9a262a4-9fc6-4d69-b640-a88fbb37f32a",
   "metadata": {
    "slideshow": {
     "slide_type": "subslide"
    },
    "tags": []
   },
   "source": [
    "### Topic 9: Trade agreements (Handelsabkommen)\n",
    "\n",
    "![Topic 9](wordclouds/wordcloud_9.png \"Topic 9\")"
   ]
  },
  {
   "cell_type": "markdown",
   "id": "f2142f5a-5ed8-4814-b7dc-bffcf0454982",
   "metadata": {
    "slideshow": {
     "slide_type": "subslide"
    },
    "tags": []
   },
   "source": [
    "### Topic 16: Family policy (Familienpolitik)\n",
    "\n",
    "![Topic 16](wordclouds/wordcloud_16.png \"Topic 16\")"
   ]
  },
  {
   "cell_type": "markdown",
   "id": "fb6c51b2-1895-48f7-ab38-4d72ca852914",
   "metadata": {
    "slideshow": {
     "slide_type": "subslide"
    },
    "tags": []
   },
   "source": [
    "### Topic 29: Military missions (Militäreinsätze)\n",
    "\n",
    "![Topic 29](wordclouds/wordcloud_29.png \"Topic 29\")"
   ]
  },
  {
   "cell_type": "markdown",
   "id": "04fab34c-a715-4c58-a4fd-c1b189f492dd",
   "metadata": {
    "slideshow": {
     "slide_type": "fragment"
    },
    "tags": []
   },
   "source": [
    "jawohl - Yes, Sir!"
   ]
  },
  {
   "cell_type": "markdown",
   "id": "61399fe4-4ee8-4481-90f6-cc219ea910de",
   "metadata": {},
   "source": [
    "### Topic 34: Gender equality (Gleichberechtigung)\n",
    "\n",
    "![Topic 34](wordclouds/wordcloud_34.png \"Topic 34\")"
   ]
  },
  {
   "cell_type": "markdown",
   "id": "a38c06c6-8c0b-4a3f-a804-347c58f2a79c",
   "metadata": {},
   "source": [
    "## Final thoughts and room for improvement\n",
    "\n",
    "- Where are data protection / privacy speeches?\n",
    "- LDA Parameters\n",
    "- Try different number of topics\n",
    "- Improve lemmatization or use stemming\n",
    "- Split those long concatenated german words\n",
    "- Find stop words specific to this dataset"
   ]
  },
  {
   "cell_type": "markdown",
   "id": "e549a663-e484-4a37-b71c-b42852951daf",
   "metadata": {
    "slideshow": {
     "slide_type": "slide"
    },
    "tags": []
   },
   "source": [
    "# Thanks for listening!"
   ]
  }
 ],
 "metadata": {
  "kernelspec": {
   "display_name": "Python 3",
   "language": "python",
   "name": "python3"
  },
  "language_info": {
   "codemirror_mode": {
    "name": "ipython",
    "version": 3
   },
   "file_extension": ".py",
   "mimetype": "text/x-python",
   "name": "python",
   "nbconvert_exporter": "python",
   "pygments_lexer": "ipython3",
   "version": "3.8.10"
  }
 },
 "nbformat": 4,
 "nbformat_minor": 5
}
