{
 "cells": [
  {
   "cell_type": "markdown",
   "id": "fb402d62-7015-4fbe-a7ff-6106d96a49cc",
   "metadata": {
    "slideshow": {
     "slide_type": "slide"
    },
    "tags": []
   },
   "source": [
    "# *How to read 500'000 text pages in 1 week?*"
   ]
  },
  {
   "cell_type": "markdown",
   "id": "7d5c9899",
   "metadata": {
    "slideshow": {
     "slide_type": "slide"
    },
    "tags": []
   },
   "source": [
    "# Topic Modelling\n",
    "\n",
    "## Speeches by German Parliament (Bundestag)\n",
    "\n",
    "*github.com/raphaelw*"
   ]
  },
  {
   "cell_type": "markdown",
   "id": "bff975b3",
   "metadata": {
    "slideshow": {
     "slide_type": "slide"
    },
    "tags": []
   },
   "source": [
    "## Idea (Blackbox)\n",
    "\n",
    "![Image](doc/figures/pipeline_blackbox.png)"
   ]
  },
  {
   "cell_type": "markdown",
   "id": "3d3a7116-869a-40f3-b5f1-8a671049394a",
   "metadata": {
    "slideshow": {
     "slide_type": "slide"
    },
    "tags": []
   },
   "source": [
    "## Explore Dataset\n",
    "\n",
    "> [opendiscourse.de](https://opendiscourse.de/): Richter, F.; Koch, P.; Franke, O.; Kraus, J.; Kuruc, F.; Thiem, A.; Högerl, J.; Heine, S.; Schöps, K. (2020). Open Discourse. https://doi.org/10.7910/DVN/FIKIBO. Harvard Dataverse. V3."
   ]
  },
  {
   "cell_type": "markdown",
   "id": "8652656f-8ee5-472d-9c52-4e915b06be91",
   "metadata": {
    "slideshow": {
     "slide_type": "subslide"
    },
    "tags": []
   },
   "source": [
    "## Explore Dataset\n",
    "\n",
    "![Image](doc/figures/plot_text_mass.png)\n",
    "\n",
    "*\"not found\" are speeches by members of government (chancellor, ministers)*"
   ]
  },
  {
   "cell_type": "markdown",
   "id": "1429b420-d285-45f6-8b80-a4a9338d1c43",
   "metadata": {
    "slideshow": {
     "slide_type": "subslide"
    },
    "tags": []
   },
   "source": [
    "## Explore Dataset"
   ]
  },
  {
   "cell_type": "markdown",
   "id": "a64f628f-16bf-4c6a-bb80-df328347bc10",
   "metadata": {
    "slideshow": {
     "slide_type": "slide"
    },
    "tags": []
   },
   "source": [
    "## Idea (Greybox)\n",
    "\n",
    "![Image](doc/figures/plot_speech_lengths.png)"
   ]
  },
  {
   "cell_type": "markdown",
   "id": "f2142f5a-5ed8-4814-b7dc-bffcf0454982",
   "metadata": {
    "slideshow": {
     "slide_type": "slide"
    },
    "tags": []
   },
   "source": [
    "## Topic 16: Family policy (Familienpolitik)\n",
    "\n",
    "![Topic 16](wordclouds/wordcloud_16.png \"Topic 16\")"
   ]
  },
  {
   "cell_type": "markdown",
   "id": "9c4fe950-9be6-4935-8487-7d74736368c1",
   "metadata": {
    "slideshow": {
     "slide_type": "slide"
    },
    "tags": []
   },
   "source": [
    "next"
   ]
  },
  {
   "cell_type": "code",
   "execution_count": null,
   "id": "f2651535-fa27-4854-aff7-ce4abf021f3f",
   "metadata": {},
   "outputs": [],
   "source": []
  }
 ],
 "metadata": {
  "kernelspec": {
   "display_name": "Python 3",
   "language": "python",
   "name": "python3"
  },
  "language_info": {
   "codemirror_mode": {
    "name": "ipython",
    "version": 3
   },
   "file_extension": ".py",
   "mimetype": "text/x-python",
   "name": "python",
   "nbconvert_exporter": "python",
   "pygments_lexer": "ipython3",
   "version": "3.8.10"
  }
 },
 "nbformat": 4,
 "nbformat_minor": 5
}
