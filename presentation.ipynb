{
 "cells": [
  {
   "cell_type": "markdown",
   "id": "8f6bdc37",
   "metadata": {
    "slideshow": {
     "slide_type": "slide"
    },
    "tags": []
   },
   "source": [
    "# Topic Modelling\n",
    "\n",
    "## Speeches by German Parliament (Bundestag)\n",
    "\n",
    "*Repository: [github.com/raphaelw/nlp-bundestag](https://github.com/raphaelw/nlp-bundestag)*"
   ]
  },
  {
   "cell_type": "markdown",
   "id": "1739fbbf",
   "metadata": {
    "slideshow": {
     "slide_type": "slide"
    },
    "tags": []
   },
   "source": [
    "## Project Overview (Blackbox)\n",
    "\n",
    "![Image](doc/figures/pipeline_blackbox.png)"
   ]
  },
  {
   "cell_type": "markdown",
   "id": "f71f49be",
   "metadata": {
    "slideshow": {
     "slide_type": "fragment"
    },
    "tags": []
   },
   "source": [
    "- An algorithm works out topics\n",
    "- Topics are inspected and manually annotated"
   ]
  },
  {
   "cell_type": "markdown",
   "id": "9ccc2e6a",
   "metadata": {
    "slideshow": {
     "slide_type": "slide"
    },
    "tags": []
   },
   "source": [
    "## Explore Dataset\n",
    "\n",
    "> [opendiscourse.de](https://opendiscourse.de/): Richter, F.; Koch, P.; Franke, O.; Kraus, J.; Kuruc, F.; Thiem, A.; Högerl, J.; Heine, S.; Schöps, K. (2020). Open Discourse. https://doi.org/10.7910/DVN/FIKIBO. Harvard Dataverse. V3."
   ]
  },
  {
   "cell_type": "markdown",
   "id": "ecece015",
   "metadata": {
    "slideshow": {
     "slide_type": "subslide"
    },
    "tags": []
   },
   "source": [
    "### Exploration: Text amount by parliamentary fraction\n",
    "\n",
    "![Image](doc/figures/plot_text_mass.png)\n",
    "\n",
    "*\"not found\" are speeches by members of government (chancellor, ministers)*"
   ]
  },
  {
   "cell_type": "markdown",
   "id": "87574ccd",
   "metadata": {
    "slideshow": {
     "slide_type": "subslide"
    },
    "tags": []
   },
   "source": [
    "### Exploration: Speech lengths\n",
    "\n",
    "![Image](doc/figures/plot_speech_lengths.png)\n",
    "\n",
    "**Longest speech** by the first minister of finance **Fritz Schäffer**. December 7, 1956. *[PDF, Page 2](https://dserver.bundestag.de/btp/02/02178.pdf)*.\n",
    "- 160k characters, 21k Words, over 2 1/2 hours reading time (estimated)."
   ]
  },
  {
   "cell_type": "markdown",
   "id": "f859c88f",
   "metadata": {
    "slideshow": {
     "slide_type": "slide"
    },
    "tags": []
   },
   "source": [
    "## Project Overview (Greybox)\n",
    "\n",
    "![Image](doc/figures/pipeline_greybox.png)"
   ]
  },
  {
   "cell_type": "markdown",
   "id": "3c367c72",
   "metadata": {
    "slideshow": {
     "slide_type": "fragment"
    },
    "tags": []
   },
   "source": [
    "Preprocessing ([spaCy](https://spacy.io/), [Gensim](https://radimrehurek.com/gensim/))\n",
    "- Lemmatization (_better_ → _good_; _walking_ → _walk_)"
   ]
  },
  {
   "cell_type": "markdown",
   "id": "ae1156d1",
   "metadata": {
    "slideshow": {
     "slide_type": "fragment"
    },
    "tags": []
   },
   "source": [
    "- Remove stop words (*the, of, and, ...*)"
   ]
  },
  {
   "cell_type": "markdown",
   "id": "93e53719",
   "metadata": {
    "slideshow": {
     "slide_type": "fragment"
    },
    "tags": []
   },
   "source": [
    "- Generate bigrams (word pairs)"
   ]
  },
  {
   "cell_type": "markdown",
   "id": "c5e9aae3",
   "metadata": {
    "slideshow": {
     "slide_type": "fragment"
    },
    "tags": []
   },
   "source": [
    "- Vectorization (bag-of-words)"
   ]
  },
  {
   "cell_type": "markdown",
   "id": "d6ece35f",
   "metadata": {
    "slideshow": {
     "slide_type": "fragment"
    },
    "tags": []
   },
   "source": [
    "- Remove rare and common words"
   ]
  },
  {
   "cell_type": "markdown",
   "id": "6764e411",
   "metadata": {
    "slideshow": {
     "slide_type": "slide"
    },
    "tags": []
   },
   "source": [
    "## Tech Details\n",
    "- Number of topics specified: 50\n",
    "- Computation time:\n",
    "    - Preprocessing: 10 hours\n",
    "    - LDA: 7 hours"
   ]
  },
  {
   "cell_type": "markdown",
   "id": "01d76834",
   "metadata": {
    "slideshow": {
     "slide_type": "fragment"
    },
    "tags": []
   },
   "source": [
    "## Tech Used\n",
    "- Hardware: Intel i7 (3rd Gen), 16 GB RAM\n",
    "- Scientific Python\n",
    "    - [JupyterLab](https://jupyter.org/), [pandas](https://pandas.pydata.org/), [matplotlib](https://matplotlib.org/)\n",
    "    - [Apache Arrow](https://arrow.apache.org/) (load serialized pandas DataFrames)\n",
    "- Natural Language Processing\n",
    "    - [spaCy](https://spacy.io/) (preprocessing)\n",
    "    - [Gensim](https://radimrehurek.com/gensim/) (preprocessing and LDA)\n",
    "- Visualization\n",
    "    - [WordCloud](https://github.com/amueller/word_cloud)"
   ]
  },
  {
   "cell_type": "markdown",
   "id": "e8a4716a",
   "metadata": {
    "slideshow": {
     "slide_type": "slide"
    },
    "tags": []
   },
   "source": [
    "## Results\n",
    "\n",
    "Visit: [github.com/raphaelw/nlp-bundestag/blob/main/topics.md](https://github.com/raphaelw/nlp-bundestag/blob/main/topics.md)"
   ]
  },
  {
   "cell_type": "markdown",
   "id": "5b2d3f80",
   "metadata": {
    "slideshow": {
     "slide_type": "subslide"
    },
    "tags": []
   },
   "source": [
    "### Topic 8: German reunification (Deutsche Wiedervereinigung)\n",
    "\n",
    "![Topic 8](wordclouds/wordcloud_8.png \"Topic 8\")"
   ]
  },
  {
   "cell_type": "markdown",
   "id": "a9eafcb4",
   "metadata": {
    "slideshow": {
     "slide_type": "subslide"
    },
    "tags": []
   },
   "source": [
    "### Topic 9: Trade agreements (Handelsabkommen)\n",
    "\n",
    "![Topic 9](wordclouds/wordcloud_9.png \"Topic 9\")"
   ]
  },
  {
   "cell_type": "markdown",
   "id": "a4cad1fb",
   "metadata": {
    "slideshow": {
     "slide_type": "subslide"
    },
    "tags": []
   },
   "source": [
    "### Topic 16: Family policy (Familienpolitik)\n",
    "\n",
    "![Topic 16](wordclouds/wordcloud_16.png \"Topic 16\")"
   ]
  },
  {
   "cell_type": "markdown",
   "id": "5ed1273a",
   "metadata": {
    "slideshow": {
     "slide_type": "subslide"
    },
    "tags": []
   },
   "source": [
    "### Topic 29: Military missions (Militäreinsätze)\n",
    "\n",
    "![Topic 29](wordclouds/wordcloud_29.png \"Topic 29\")"
   ]
  },
  {
   "cell_type": "markdown",
   "id": "fc5c5534",
   "metadata": {
    "slideshow": {
     "slide_type": "fragment"
    },
    "tags": []
   },
   "source": [
    "jawohl - Yes, Sir!"
   ]
  },
  {
   "cell_type": "markdown",
   "id": "5e8926b4",
   "metadata": {
    "slideshow": {
     "slide_type": "subslide"
    },
    "tags": []
   },
   "source": [
    "### Topic 34: Gender equality (Gleichberechtigung)\n",
    "\n",
    "![Topic 34](wordclouds/wordcloud_34.png \"Topic 34\")"
   ]
  },
  {
   "cell_type": "markdown",
   "id": "74c0efed",
   "metadata": {
    "slideshow": {
     "slide_type": "slide"
    },
    "tags": []
   },
   "source": [
    "## Final thoughts and room for improvement\n",
    "\n",
    "- Where are data protection / privacy speeches?\n",
    "- LDA Parameters\n",
    "- Try different number of topics\n",
    "- Improve lemmatization or use stemming\n",
    "- Split those long concatenated german words\n",
    "- Find stop words specific to this dataset"
   ]
  },
  {
   "cell_type": "markdown",
   "id": "07e484bc",
   "metadata": {
    "slideshow": {
     "slide_type": "slide"
    },
    "tags": []
   },
   "source": [
    "# Thanks for listening!"
   ]
  }
 ],
 "metadata": {
  "kernelspec": {
   "display_name": "Python 3",
   "language": "python",
   "name": "python3"
  },
  "language_info": {
   "codemirror_mode": {
    "name": "ipython",
    "version": 3
   },
   "file_extension": ".py",
   "mimetype": "text/x-python",
   "name": "python",
   "nbconvert_exporter": "python",
   "pygments_lexer": "ipython3",
   "version": "3.8.8"
  }
 },
 "nbformat": 4,
 "nbformat_minor": 5
}
