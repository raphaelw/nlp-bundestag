{
 "cells": [
  {
   "cell_type": "markdown",
   "id": "31e64b3e-5fb8-4d55-8596-23d46f002c0a",
   "metadata": {},
   "source": [
    "# Topic modelling of Bundestag speeches\n",
    "\n",
    "Dataset from https://opendiscourse.de/\n",
    "\n",
    "> Richter, F.; Koch, P.; Franke, O.; Kraus, J.; Kuruc, F.; Thiem, A.; Högerl, J.; Heine, S.; Schöps, K. (2020). Open Discourse. https://doi.org/10.7910/DVN/FIKIBO. Harvard Dataverse. V3."
   ]
  },
  {
   "cell_type": "code",
   "execution_count": 1,
   "id": "753f0c1d-8d00-4898-83f3-f1533e146417",
   "metadata": {},
   "outputs": [],
   "source": [
    "import numpy as np\n",
    "import pandas as pd\n",
    "import matplotlib.pyplot as plt\n",
    "import seaborn as sns"
   ]
  },
  {
   "cell_type": "code",
   "execution_count": 2,
   "id": "8ea1706d-e7e7-47ea-a26c-6286fcba5edc",
   "metadata": {},
   "outputs": [],
   "source": [
    "import pyarrow.feather as feather"
   ]
  },
  {
   "cell_type": "markdown",
   "id": "10ec8f05-d1da-42c9-b980-33ba43069574",
   "metadata": {},
   "source": [
    "## Load Data\n",
    "\n",
    "*Data in feather format https://arrow.apache.org/docs/python/feather.html*"
   ]
  },
  {
   "cell_type": "code",
   "execution_count": 3,
   "id": "81d413a4-3e17-4267-9bb5-5910eb497a9e",
   "metadata": {},
   "outputs": [],
   "source": [
    "speeches_df = feather.read_feather('data/opendiscourse/feather/speeches.feather')\n",
    "fractions_df = feather.read_feather('data/opendiscourse/feather/factions.feather')"
   ]
  },
  {
   "cell_type": "markdown",
   "id": "22734c99-16c6-446d-bb1e-bcd896c334a8",
   "metadata": {},
   "source": [
    "## Prepare Data"
   ]
  },
  {
   "cell_type": "code",
   "execution_count": 4,
   "id": "d1916b80-ef06-4b2b-baa3-f240d1fe27f2",
   "metadata": {},
   "outputs": [
    {
     "data": {
      "text/html": [
       "<div>\n",
       "<style scoped>\n",
       "    .dataframe tbody tr th:only-of-type {\n",
       "        vertical-align: middle;\n",
       "    }\n",
       "\n",
       "    .dataframe tbody tr th {\n",
       "        vertical-align: top;\n",
       "    }\n",
       "\n",
       "    .dataframe thead th {\n",
       "        text-align: right;\n",
       "    }\n",
       "</style>\n",
       "<table border=\"1\" class=\"dataframe\">\n",
       "  <thead>\n",
       "    <tr style=\"text-align: right;\">\n",
       "      <th></th>\n",
       "      <th>id</th>\n",
       "      <th>session</th>\n",
       "      <th>electoralTerm</th>\n",
       "      <th>firstName</th>\n",
       "      <th>lastName</th>\n",
       "      <th>politicianId</th>\n",
       "      <th>speechContent</th>\n",
       "      <th>factionId</th>\n",
       "      <th>documentUrl</th>\n",
       "      <th>positionShort</th>\n",
       "      <th>positionLong</th>\n",
       "      <th>date</th>\n",
       "    </tr>\n",
       "  </thead>\n",
       "  <tbody>\n",
       "    <tr>\n",
       "      <th>0</th>\n",
       "      <td>0</td>\n",
       "      <td>2</td>\n",
       "      <td>1</td>\n",
       "      <td></td>\n",
       "      <td>Köhler</td>\n",
       "      <td>11001150</td>\n",
       "      <td>Meine Damen und Herren! Ich eröffne die 2. Sit...</td>\n",
       "      <td>-1</td>\n",
       "      <td>https://dip21.bundestag.de/dip21/btp/01/01002.pdf</td>\n",
       "      <td>Presidium of Parliament</td>\n",
       "      <td>präsident</td>\n",
       "      <td>1949-09-12</td>\n",
       "    </tr>\n",
       "    <tr>\n",
       "      <th>1</th>\n",
       "      <td>1</td>\n",
       "      <td>2</td>\n",
       "      <td>1</td>\n",
       "      <td></td>\n",
       "      <td>Arnold</td>\n",
       "      <td>-1</td>\n",
       "      <td>Der Bundesrat ist versammelt, Herr Präsident.\\n</td>\n",
       "      <td>-1</td>\n",
       "      <td>https://dip21.bundestag.de/dip21/btp/01/01002.pdf</td>\n",
       "      <td>Guest</td>\n",
       "      <td>präsident des bundesrats</td>\n",
       "      <td>1949-09-12</td>\n",
       "    </tr>\n",
       "    <tr>\n",
       "      <th>2</th>\n",
       "      <td>2</td>\n",
       "      <td>2</td>\n",
       "      <td>1</td>\n",
       "      <td></td>\n",
       "      <td>Köhler</td>\n",
       "      <td>11001150</td>\n",
       "      <td>Ich danke für diese Erklärung. Ich stelle dami...</td>\n",
       "      <td>-1</td>\n",
       "      <td>https://dip21.bundestag.de/dip21/btp/01/01002.pdf</td>\n",
       "      <td>Presidium of Parliament</td>\n",
       "      <td>präsident</td>\n",
       "      <td>1949-09-12</td>\n",
       "    </tr>\n",
       "    <tr>\n",
       "      <th>3</th>\n",
       "      <td>3</td>\n",
       "      <td>2</td>\n",
       "      <td>1</td>\n",
       "      <td></td>\n",
       "      <td>Heuss</td>\n",
       "      <td>-1</td>\n",
       "      <td>Ja, ich habe den Wunsch.\\n</td>\n",
       "      <td>-1</td>\n",
       "      <td>https://dip21.bundestag.de/dip21/btp/01/01002.pdf</td>\n",
       "      <td>Guest</td>\n",
       "      <td>bundespräsident</td>\n",
       "      <td>1949-09-12</td>\n",
       "    </tr>\n",
       "    <tr>\n",
       "      <th>4</th>\n",
       "      <td>4</td>\n",
       "      <td>2</td>\n",
       "      <td>1</td>\n",
       "      <td></td>\n",
       "      <td>Köhler</td>\n",
       "      <td>11001150</td>\n",
       "      <td>Ich erteile dem Herrn Bundespräsidenten das Wo...</td>\n",
       "      <td>-1</td>\n",
       "      <td>https://dip21.bundestag.de/dip21/btp/01/01002.pdf</td>\n",
       "      <td>Presidium of Parliament</td>\n",
       "      <td>präsident</td>\n",
       "      <td>1949-09-12</td>\n",
       "    </tr>\n",
       "  </tbody>\n",
       "</table>\n",
       "</div>"
      ],
      "text/plain": [
       "   id  session  electoralTerm firstName lastName  politicianId  \\\n",
       "0   0        2              1             Köhler      11001150   \n",
       "1   1        2              1             Arnold            -1   \n",
       "2   2        2              1             Köhler      11001150   \n",
       "3   3        2              1              Heuss            -1   \n",
       "4   4        2              1             Köhler      11001150   \n",
       "\n",
       "                                       speechContent  factionId  \\\n",
       "0  Meine Damen und Herren! Ich eröffne die 2. Sit...         -1   \n",
       "1    Der Bundesrat ist versammelt, Herr Präsident.\\n         -1   \n",
       "2  Ich danke für diese Erklärung. Ich stelle dami...         -1   \n",
       "3                         Ja, ich habe den Wunsch.\\n         -1   \n",
       "4  Ich erteile dem Herrn Bundespräsidenten das Wo...         -1   \n",
       "\n",
       "                                         documentUrl            positionShort  \\\n",
       "0  https://dip21.bundestag.de/dip21/btp/01/01002.pdf  Presidium of Parliament   \n",
       "1  https://dip21.bundestag.de/dip21/btp/01/01002.pdf                    Guest   \n",
       "2  https://dip21.bundestag.de/dip21/btp/01/01002.pdf  Presidium of Parliament   \n",
       "3  https://dip21.bundestag.de/dip21/btp/01/01002.pdf                    Guest   \n",
       "4  https://dip21.bundestag.de/dip21/btp/01/01002.pdf  Presidium of Parliament   \n",
       "\n",
       "               positionLong        date  \n",
       "0                 präsident  1949-09-12  \n",
       "1  präsident des bundesrats  1949-09-12  \n",
       "2                 präsident  1949-09-12  \n",
       "3           bundespräsident  1949-09-12  \n",
       "4                 präsident  1949-09-12  "
      ]
     },
     "execution_count": 4,
     "metadata": {},
     "output_type": "execute_result"
    }
   ],
   "source": [
    "speeches_df.head()"
   ]
  },
  {
   "cell_type": "code",
   "execution_count": 5,
   "id": "88e7d142-2c3e-4ee3-9519-4fcda84daa51",
   "metadata": {},
   "outputs": [],
   "source": [
    "fractions_df.replace(to_replace='not found', value=np.nan, inplace=True)\n",
    "fractions_df.rename(columns={'abbreviation':'fraction', 'fullName':'fractionFullName'}, inplace=True)"
   ]
  },
  {
   "cell_type": "code",
   "execution_count": 6,
   "id": "4dbf6ac0-d8a5-4801-bf98-fbf6851082b1",
   "metadata": {},
   "outputs": [
    {
     "data": {
      "text/html": [
       "<div>\n",
       "<style scoped>\n",
       "    .dataframe tbody tr th:only-of-type {\n",
       "        vertical-align: middle;\n",
       "    }\n",
       "\n",
       "    .dataframe tbody tr th {\n",
       "        vertical-align: top;\n",
       "    }\n",
       "\n",
       "    .dataframe thead th {\n",
       "        text-align: right;\n",
       "    }\n",
       "</style>\n",
       "<table border=\"1\" class=\"dataframe\">\n",
       "  <thead>\n",
       "    <tr style=\"text-align: right;\">\n",
       "      <th></th>\n",
       "      <th>id</th>\n",
       "      <th>fraction</th>\n",
       "      <th>fractionFullName</th>\n",
       "    </tr>\n",
       "  </thead>\n",
       "  <tbody>\n",
       "    <tr>\n",
       "      <th>0</th>\n",
       "      <td>-1</td>\n",
       "      <td>NaN</td>\n",
       "      <td>NaN</td>\n",
       "    </tr>\n",
       "    <tr>\n",
       "      <th>1</th>\n",
       "      <td>0</td>\n",
       "      <td>AfD</td>\n",
       "      <td>Alternative für Deutschland</td>\n",
       "    </tr>\n",
       "    <tr>\n",
       "      <th>2</th>\n",
       "      <td>1</td>\n",
       "      <td>BHE</td>\n",
       "      <td>Block der Heimatvertriebenen und Entrechteten</td>\n",
       "    </tr>\n",
       "    <tr>\n",
       "      <th>3</th>\n",
       "      <td>2</td>\n",
       "      <td>BP</td>\n",
       "      <td>Bayernpartei</td>\n",
       "    </tr>\n",
       "    <tr>\n",
       "      <th>4</th>\n",
       "      <td>3</td>\n",
       "      <td>Grüne</td>\n",
       "      <td>Bündnis 90/Die Grünen</td>\n",
       "    </tr>\n",
       "  </tbody>\n",
       "</table>\n",
       "</div>"
      ],
      "text/plain": [
       "   id fraction                               fractionFullName\n",
       "0  -1      NaN                                            NaN\n",
       "1   0      AfD                    Alternative für Deutschland\n",
       "2   1      BHE  Block der Heimatvertriebenen und Entrechteten\n",
       "3   2       BP                                   Bayernpartei\n",
       "4   3    Grüne                          Bündnis 90/Die Grünen"
      ]
     },
     "execution_count": 6,
     "metadata": {},
     "output_type": "execute_result"
    }
   ],
   "source": [
    "fractions_df.head()"
   ]
  },
  {
   "cell_type": "code",
   "execution_count": 7,
   "id": "bf004164-d205-4624-ab25-0f833b3ea5ae",
   "metadata": {},
   "outputs": [],
   "source": [
    "speeches_df = speeches_df.merge(fractions_df, left_on='factionId', right_on='id', how='left', suffixes=('_speech','_fraction'))"
   ]
  },
  {
   "cell_type": "code",
   "execution_count": 8,
   "id": "05e9c5c3-9a3e-405d-8a46-7f54a825c794",
   "metadata": {},
   "outputs": [
    {
     "data": {
      "text/html": [
       "<div>\n",
       "<style scoped>\n",
       "    .dataframe tbody tr th:only-of-type {\n",
       "        vertical-align: middle;\n",
       "    }\n",
       "\n",
       "    .dataframe tbody tr th {\n",
       "        vertical-align: top;\n",
       "    }\n",
       "\n",
       "    .dataframe thead th {\n",
       "        text-align: right;\n",
       "    }\n",
       "</style>\n",
       "<table border=\"1\" class=\"dataframe\">\n",
       "  <thead>\n",
       "    <tr style=\"text-align: right;\">\n",
       "      <th></th>\n",
       "      <th>id_speech</th>\n",
       "      <th>session</th>\n",
       "      <th>electoralTerm</th>\n",
       "      <th>firstName</th>\n",
       "      <th>lastName</th>\n",
       "      <th>politicianId</th>\n",
       "      <th>speechContent</th>\n",
       "      <th>factionId</th>\n",
       "      <th>documentUrl</th>\n",
       "      <th>positionShort</th>\n",
       "      <th>positionLong</th>\n",
       "      <th>date</th>\n",
       "      <th>id_fraction</th>\n",
       "      <th>fraction</th>\n",
       "      <th>fractionFullName</th>\n",
       "    </tr>\n",
       "  </thead>\n",
       "  <tbody>\n",
       "    <tr>\n",
       "      <th>0</th>\n",
       "      <td>0</td>\n",
       "      <td>2</td>\n",
       "      <td>1</td>\n",
       "      <td></td>\n",
       "      <td>Köhler</td>\n",
       "      <td>11001150</td>\n",
       "      <td>Meine Damen und Herren! Ich eröffne die 2. Sit...</td>\n",
       "      <td>-1</td>\n",
       "      <td>https://dip21.bundestag.de/dip21/btp/01/01002.pdf</td>\n",
       "      <td>Presidium of Parliament</td>\n",
       "      <td>präsident</td>\n",
       "      <td>1949-09-12</td>\n",
       "      <td>-1</td>\n",
       "      <td>NaN</td>\n",
       "      <td>NaN</td>\n",
       "    </tr>\n",
       "    <tr>\n",
       "      <th>1</th>\n",
       "      <td>1</td>\n",
       "      <td>2</td>\n",
       "      <td>1</td>\n",
       "      <td></td>\n",
       "      <td>Arnold</td>\n",
       "      <td>-1</td>\n",
       "      <td>Der Bundesrat ist versammelt, Herr Präsident.\\n</td>\n",
       "      <td>-1</td>\n",
       "      <td>https://dip21.bundestag.de/dip21/btp/01/01002.pdf</td>\n",
       "      <td>Guest</td>\n",
       "      <td>präsident des bundesrats</td>\n",
       "      <td>1949-09-12</td>\n",
       "      <td>-1</td>\n",
       "      <td>NaN</td>\n",
       "      <td>NaN</td>\n",
       "    </tr>\n",
       "    <tr>\n",
       "      <th>2</th>\n",
       "      <td>2</td>\n",
       "      <td>2</td>\n",
       "      <td>1</td>\n",
       "      <td></td>\n",
       "      <td>Köhler</td>\n",
       "      <td>11001150</td>\n",
       "      <td>Ich danke für diese Erklärung. Ich stelle dami...</td>\n",
       "      <td>-1</td>\n",
       "      <td>https://dip21.bundestag.de/dip21/btp/01/01002.pdf</td>\n",
       "      <td>Presidium of Parliament</td>\n",
       "      <td>präsident</td>\n",
       "      <td>1949-09-12</td>\n",
       "      <td>-1</td>\n",
       "      <td>NaN</td>\n",
       "      <td>NaN</td>\n",
       "    </tr>\n",
       "    <tr>\n",
       "      <th>3</th>\n",
       "      <td>3</td>\n",
       "      <td>2</td>\n",
       "      <td>1</td>\n",
       "      <td></td>\n",
       "      <td>Heuss</td>\n",
       "      <td>-1</td>\n",
       "      <td>Ja, ich habe den Wunsch.\\n</td>\n",
       "      <td>-1</td>\n",
       "      <td>https://dip21.bundestag.de/dip21/btp/01/01002.pdf</td>\n",
       "      <td>Guest</td>\n",
       "      <td>bundespräsident</td>\n",
       "      <td>1949-09-12</td>\n",
       "      <td>-1</td>\n",
       "      <td>NaN</td>\n",
       "      <td>NaN</td>\n",
       "    </tr>\n",
       "    <tr>\n",
       "      <th>4</th>\n",
       "      <td>4</td>\n",
       "      <td>2</td>\n",
       "      <td>1</td>\n",
       "      <td></td>\n",
       "      <td>Köhler</td>\n",
       "      <td>11001150</td>\n",
       "      <td>Ich erteile dem Herrn Bundespräsidenten das Wo...</td>\n",
       "      <td>-1</td>\n",
       "      <td>https://dip21.bundestag.de/dip21/btp/01/01002.pdf</td>\n",
       "      <td>Presidium of Parliament</td>\n",
       "      <td>präsident</td>\n",
       "      <td>1949-09-12</td>\n",
       "      <td>-1</td>\n",
       "      <td>NaN</td>\n",
       "      <td>NaN</td>\n",
       "    </tr>\n",
       "  </tbody>\n",
       "</table>\n",
       "</div>"
      ],
      "text/plain": [
       "   id_speech  session  electoralTerm firstName lastName  politicianId  \\\n",
       "0          0        2              1             Köhler      11001150   \n",
       "1          1        2              1             Arnold            -1   \n",
       "2          2        2              1             Köhler      11001150   \n",
       "3          3        2              1              Heuss            -1   \n",
       "4          4        2              1             Köhler      11001150   \n",
       "\n",
       "                                       speechContent  factionId  \\\n",
       "0  Meine Damen und Herren! Ich eröffne die 2. Sit...         -1   \n",
       "1    Der Bundesrat ist versammelt, Herr Präsident.\\n         -1   \n",
       "2  Ich danke für diese Erklärung. Ich stelle dami...         -1   \n",
       "3                         Ja, ich habe den Wunsch.\\n         -1   \n",
       "4  Ich erteile dem Herrn Bundespräsidenten das Wo...         -1   \n",
       "\n",
       "                                         documentUrl            positionShort  \\\n",
       "0  https://dip21.bundestag.de/dip21/btp/01/01002.pdf  Presidium of Parliament   \n",
       "1  https://dip21.bundestag.de/dip21/btp/01/01002.pdf                    Guest   \n",
       "2  https://dip21.bundestag.de/dip21/btp/01/01002.pdf  Presidium of Parliament   \n",
       "3  https://dip21.bundestag.de/dip21/btp/01/01002.pdf                    Guest   \n",
       "4  https://dip21.bundestag.de/dip21/btp/01/01002.pdf  Presidium of Parliament   \n",
       "\n",
       "               positionLong        date  id_fraction fraction fractionFullName  \n",
       "0                 präsident  1949-09-12           -1      NaN              NaN  \n",
       "1  präsident des bundesrats  1949-09-12           -1      NaN              NaN  \n",
       "2                 präsident  1949-09-12           -1      NaN              NaN  \n",
       "3           bundespräsident  1949-09-12           -1      NaN              NaN  \n",
       "4                 präsident  1949-09-12           -1      NaN              NaN  "
      ]
     },
     "execution_count": 8,
     "metadata": {},
     "output_type": "execute_result"
    }
   ],
   "source": [
    "speeches_df.head()"
   ]
  },
  {
   "cell_type": "markdown",
   "id": "05f8a554-ea25-4f77-a043-5675877e3415",
   "metadata": {},
   "source": [
    "## Basic Exploration"
   ]
  },
  {
   "cell_type": "code",
   "execution_count": 9,
   "id": "0619f5af-8acb-472a-8eb4-965e671d273a",
   "metadata": {},
   "outputs": [
    {
     "data": {
      "text/plain": [
       "(907644, 15)"
      ]
     },
     "execution_count": 9,
     "metadata": {},
     "output_type": "execute_result"
    }
   ],
   "source": [
    "speeches_df.shape"
   ]
  },
  {
   "cell_type": "code",
   "execution_count": 10,
   "id": "733938ec-48b5-4e96-9a19-c0db73c8dae3",
   "metadata": {},
   "outputs": [
    {
     "data": {
      "text/plain": [
       "<AxesSubplot:title={'center':'Number of speeches'}, ylabel='fraction'>"
      ]
     },
     "execution_count": 10,
     "metadata": {},
     "output_type": "execute_result"
    },
    {
     "data": {
      "image/png": "[encoded data removed]",
      "text/plain": [
       "<Figure size 432x288 with 1 Axes>"
      ]
     },
     "metadata": {
      "needs_background": "light"
     },
     "output_type": "display_data"
    }
   ],
   "source": [
    "speeches_df[['fraction','id_fraction']].groupby('fraction').count().sort_index(ascending=False).plot.barh(title=\"Number of speeches\", legend=False)"
   ]
  },
  {
   "cell_type": "code",
   "execution_count": 11,
   "id": "ecd4eb80-2bca-4996-99aa-4917cf78fdb2",
   "metadata": {},
   "outputs": [
    {
     "name": "stdout",
     "output_type": "stream",
     "text": [
      "\n",
      "\n",
      "Vielen Dank. – Frau Präsidentin! Liebe Kolleginnen und Kollegen! Meine Damen und Herren! Bereits im Januar 2021 hatten wir eine Aktuelle Stunde zu genau dem gleichen Thema. Damals ging es um Trump und die Sperrung seines Facebook-Accounts. Heute sollen wir hier im Parlament Kulisse für die Spitzenkandidatur von Frau Cotar für die bevorstehende Bundestagswahl sein. Das ist also alles sehr durchschaubar.\n",
      "\n",
      "({0})\n",
      "\n",
      "Regelmäßig versucht die AfD mit untauglichen Argumenten, die Meinungsfreiheit in unserem Land zu diskreditieren; das erleben wir auch wieder in dieser Aktuellen Stunde. Lassen Sie mich als letzten Redner in dieser Debatte die schlimmsten Falschaussagen hier kurz richtigstellen.\n",
      "\n",
      "Frau Cotar, von Ihnen kam der erste Redebeitrag. Sie sprachen von „Meinungsdiktatur 2021“. Völliger Blödsinn!\n",
      "\n",
      "({1})\n",
      "\n",
      "Die Meinungsdiktatur von rechts haben wir 1945 beendet – ich erinnere an den morgigen Tag der Befreiung, den die AfD natürlich bezeichnenderweise nicht begeht –, und die Meinungsdiktatur von links haben wir 1989 beendet. 2021 ist geprägt von Meinungsfreiheit und Demokratie. Philipp Amthor hat es richtig festgestellt: Widerspruch gegen eine Meinung ist keine Zensur und keine Begrenzung von Meinungsfreiheit, sondern einfach Ausdruck eines demokratischen Diskurses. Kollege Hoffmann hat in der Debatte das Prinzip der AfD dargestellt und ihre Stilmittel entlarvt.\n",
      "\n",
      "Liebe Kolleginnen und Kollegen, die Meinungsfreiheit schützt nicht Hass und Hetze, sie schützt nicht Beleidigung und Verleumdung. Dafür, dass Betroffene ihr allgemeines Persönlichkeitsrecht in diesem Bereich effektiv durchsetzen können, haben wir in Deutschland das Zivilrecht, das Strafrecht, das NetzDG und in Kürze auch den Digital Services Act; Kollegin Tabea Rößner hat darauf zu Recht hingewiesen.\n",
      "\n",
      "Die Meinungsfreiheit schützt keine unwahren Tatsachenbehauptungen, also keine Fake News. Es gibt kein Recht auf Fake News oder sogenannte alternative Fakten, wie es von der AfD immer wieder wahrheitswidrig behauptet wird.\n",
      "\n",
      "({2})\n",
      "\n",
      "Das, was die AfD diesbezüglich betreibt, ist schlichtweg Missbrauch der Meinungsfreiheit, und diesem begegnen wir gegenwärtig mit Medienkompetenz und Medienresilienz – beides ist ausbaufähig –; die Beispiele von Anke Domscheit-Berg haben das in dieser Debatte noch mal sehr eindrücklich gezeigt. Ich begrüße daher ausdrücklich den Europäischen Aktionsplan für Demokratie. Wir haben da drei Säulen: Stärkung der Medienfreiheit und des Medienpluralismus, Schutz der Integrität von Wahlen und die Bekämpfung von Desinformation. Schauen Sie sich das einfach mal an; das ist aus dem Dezember letzten Jahres.\n",
      "\n",
      "Meine Damen und Herren, die AfD ist digitaler Brandbeschleuniger von Fake News und Hass im Netz. Damit sich soziale Netzwerke nicht zu Handlangern dieser Brandstifter machen, haben wir nunmehr eine Forschungsklausel im NetzDG etabliert, die unseren Wissenschaftlern Auskunft über den Umfang dieser geistigen Brandstiftung und deren Art und Weise der Verbreitung gewähren.\n",
      "\n",
      "Die Behauptungen von der AfD, insbesondere heute von Frau Cotar und gestern von Herrn Brandner, dass Rundfunkräte oder gar Landesmedienanstalten die Meinungsfreiheit begrenzen, ist schlichtweg absurd, zumal man wissen sollte, dass in all diesen Gremien auch Vertreter der AfD zu finden sind.\n",
      "\n",
      "({3})\n",
      "\n",
      "Diese Einrichtungen sollen Meinungsvielfalt und Meinungspluralismus sichern – ein verfassungsrechtliches Gebot des Artikels 5 unseres Grundgesetzes.\n",
      "\n",
      "Dass die AfD Vielfalt bekämpft, ist in dieser Aktuellen Stunde mehr als deutlich geworden.\n",
      "\n",
      "({4})\n",
      "\n",
      "Sie fühlen sich in geschlossenen Benutzergruppen mit Echokammern wohl, wo Sie unwidersprochen Hass, Hetze und Unwahrheiten verbreiten können.\n",
      "\n",
      "({5})\n",
      "\n",
      "Ich verwehre mich gegen Verdrehungen der AfD, die die Gesetze zur Sicherung von Vielfalt und zum Erhalt von Meinungsfreiheit und der Pflege der Debattenkultur als Begrenzung der Meinungsfreiheit darstellen. Werte Kollegen der AfD, Sie erzählen hier, Jugendschutzvorschriften seien Zensur. Das ist schlichtweg schizophren, was Sie da behaupten.\n",
      "\n",
      "({6})\n",
      "\n",
      "Das GWB, das NetzDG, das Urheberrecht, der Medienstaatsvertrag: All diese Vorschriften sollen Meinungsvielfalt und Meinungsfreiheit stärken. Dafür treten wir als Unionsfraktion weiter ein. Das gilt insbesondere auch für die Wissenschaftsfreiheit. Ich bin dem Kollegen Ploß sehr dankbar, dass er das in dieser Debatte noch mal betont hat.\n",
      "\n",
      "Abschließend, liebe Frau Cotar: Ich lasse mir von der AfD nicht vorschreiben, ob ich am Sonntagabend einen „Tatort“ – und wenn ja, welchen – sehe. Der „Tatort“ aus Weimar ist mindestens so witzig wie der aus Münster.\n",
      "\n",
      "In diesem Sinne wünsche ich Ihnen ein schönes Wochenende.\n",
      "\n",
      "({7})\n"
     ]
    }
   ],
   "source": [
    "print( speeches_df.iloc[-1]['speechContent'] )"
   ]
  },
  {
   "cell_type": "code",
   "execution_count": null,
   "id": "d4142c49-e991-472a-be67-0c35ca36e9d4",
   "metadata": {},
   "outputs": [],
   "source": []
  }
 ],
 "metadata": {
  "kernelspec": {
   "display_name": "Python 3",
   "language": "python",
   "name": "python3"
  },
  "language_info": {
   "codemirror_mode": {
    "name": "ipython",
    "version": 3
   },
   "file_extension": ".py",
   "mimetype": "text/x-python",
   "name": "python",
   "nbconvert_exporter": "python",
   "pygments_lexer": "ipython3",
   "version": "3.8.10"
  }
 },
 "nbformat": 4,
 "nbformat_minor": 5
}
