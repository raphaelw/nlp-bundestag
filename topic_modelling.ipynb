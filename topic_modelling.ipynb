{
 "cells": [
  {
   "cell_type": "markdown",
   "id": "31e64b3e-5fb8-4d55-8596-23d46f002c0a",
   "metadata": {},
   "source": [
    "# Topic modelling of Bundestag speeches\n",
    "\n",
    "Dataset from https://opendiscourse.de/\n",
    "\n",
    "> Richter, F.; Koch, P.; Franke, O.; Kraus, J.; Kuruc, F.; Thiem, A.; Högerl, J.; Heine, S.; Schöps, K. (2020). Open Discourse. https://doi.org/10.7910/DVN/FIKIBO. Harvard Dataverse. V3."
   ]
  },
  {
   "cell_type": "code",
   "execution_count": 1,
   "id": "753f0c1d-8d00-4898-83f3-f1533e146417",
   "metadata": {},
   "outputs": [],
   "source": [
    "import numpy as np\n",
    "import pandas as pd\n",
    "import matplotlib.pyplot as plt\n",
    "import seaborn as sns"
   ]
  },
  {
   "cell_type": "code",
   "execution_count": 2,
   "id": "8ea1706d-e7e7-47ea-a26c-6286fcba5edc",
   "metadata": {},
   "outputs": [],
   "source": [
    "import pyarrow.feather as feather"
   ]
  },
  {
   "cell_type": "code",
   "execution_count": 3,
   "id": "730502e8-fe17-439f-ab2b-5ab81ca9a0b3",
   "metadata": {},
   "outputs": [],
   "source": [
    "plt.rcParams['figure.figsize'] = (14,5)"
   ]
  },
  {
   "cell_type": "markdown",
   "id": "10ec8f05-d1da-42c9-b980-33ba43069574",
   "metadata": {},
   "source": [
    "## Load Data\n",
    "\n",
    "*Data in feather format https://arrow.apache.org/docs/python/feather.html*"
   ]
  },
  {
   "cell_type": "code",
   "execution_count": 4,
   "id": "81d413a4-3e17-4267-9bb5-5910eb497a9e",
   "metadata": {},
   "outputs": [],
   "source": [
    "speeches_df = feather.read_feather('data/opendiscourse/feather/speeches.feather')\n",
    "fractions_df = feather.read_feather('data/opendiscourse/feather/factions.feather')\n",
    "#contributions_df = feather.read_feather('data/opendiscourse/feather/contributions_extended.feather')"
   ]
  },
  {
   "cell_type": "markdown",
   "id": "22734c99-16c6-446d-bb1e-bcd896c334a8",
   "metadata": {},
   "source": [
    "## Prepare Data"
   ]
  },
  {
   "cell_type": "code",
   "execution_count": 5,
   "id": "88e7d142-2c3e-4ee3-9519-4fcda84daa51",
   "metadata": {},
   "outputs": [],
   "source": [
    "fractions_df.replace(to_replace='not found', value=np.nan, inplace=True)\n",
    "fractions_df.rename(columns={'abbreviation':'fraction', 'fullName':'fractionFullName'}, inplace=True)"
   ]
  },
  {
   "cell_type": "code",
   "execution_count": 6,
   "id": "4dbf6ac0-d8a5-4801-bf98-fbf6851082b1",
   "metadata": {},
   "outputs": [
    {
     "data": {
      "text/html": [
       "<div>\n",
       "<style scoped>\n",
       "    .dataframe tbody tr th:only-of-type {\n",
       "        vertical-align: middle;\n",
       "    }\n",
       "\n",
       "    .dataframe tbody tr th {\n",
       "        vertical-align: top;\n",
       "    }\n",
       "\n",
       "    .dataframe thead th {\n",
       "        text-align: right;\n",
       "    }\n",
       "</style>\n",
       "<table border=\"1\" class=\"dataframe\">\n",
       "  <thead>\n",
       "    <tr style=\"text-align: right;\">\n",
       "      <th></th>\n",
       "      <th>id</th>\n",
       "      <th>fraction</th>\n",
       "      <th>fractionFullName</th>\n",
       "    </tr>\n",
       "  </thead>\n",
       "  <tbody>\n",
       "    <tr>\n",
       "      <th>0</th>\n",
       "      <td>-1</td>\n",
       "      <td>NaN</td>\n",
       "      <td>NaN</td>\n",
       "    </tr>\n",
       "    <tr>\n",
       "      <th>1</th>\n",
       "      <td>0</td>\n",
       "      <td>AfD</td>\n",
       "      <td>Alternative für Deutschland</td>\n",
       "    </tr>\n",
       "    <tr>\n",
       "      <th>2</th>\n",
       "      <td>1</td>\n",
       "      <td>BHE</td>\n",
       "      <td>Block der Heimatvertriebenen und Entrechteten</td>\n",
       "    </tr>\n",
       "    <tr>\n",
       "      <th>3</th>\n",
       "      <td>2</td>\n",
       "      <td>BP</td>\n",
       "      <td>Bayernpartei</td>\n",
       "    </tr>\n",
       "    <tr>\n",
       "      <th>4</th>\n",
       "      <td>3</td>\n",
       "      <td>Grüne</td>\n",
       "      <td>Bündnis 90/Die Grünen</td>\n",
       "    </tr>\n",
       "  </tbody>\n",
       "</table>\n",
       "</div>"
      ],
      "text/plain": [
       "   id fraction                               fractionFullName\n",
       "0  -1      NaN                                            NaN\n",
       "1   0      AfD                    Alternative für Deutschland\n",
       "2   1      BHE  Block der Heimatvertriebenen und Entrechteten\n",
       "3   2       BP                                   Bayernpartei\n",
       "4   3    Grüne                          Bündnis 90/Die Grünen"
      ]
     },
     "execution_count": 6,
     "metadata": {},
     "output_type": "execute_result"
    }
   ],
   "source": [
    "fractions_df.head()"
   ]
  },
  {
   "cell_type": "code",
   "execution_count": 7,
   "id": "bf004164-d205-4624-ab25-0f833b3ea5ae",
   "metadata": {},
   "outputs": [],
   "source": [
    "speeches_df['speechLength'] = speeches_df['speechContent'].str.strip().str.len()\n",
    "speeches_df = speeches_df.merge(fractions_df, left_on='factionId', right_on='id', how='left', suffixes=('_speech','_fraction'))"
   ]
  },
  {
   "cell_type": "code",
   "execution_count": 8,
   "id": "05e9c5c3-9a3e-405d-8a46-7f54a825c794",
   "metadata": {},
   "outputs": [],
   "source": [
    "#speeches_df.head()"
   ]
  },
  {
   "cell_type": "markdown",
   "id": "111e051c-568a-4f50-9fea-51e1ac2c3225",
   "metadata": {},
   "source": [
    "Get rid of conribution (Zwischenrufe) symbols like `({1})`"
   ]
  },
  {
   "cell_type": "code",
   "execution_count": 9,
   "id": "ecd4eb80-2bca-4996-99aa-4917cf78fdb2",
   "metadata": {},
   "outputs": [
    {
     "name": "stdout",
     "output_type": "stream",
     "text": [
      "... Vielen Dank. – Frau Präsidentin! Liebe Kolleginnen und Kollegen! Meine Damen und Herren! Bereits im Januar 2021 hatten wir eine Aktuelle Stunde zu genau dem gleichen Thema. Damals ging es um Trump und die Sperrung seines Facebook-Accounts. Heute sollen wir hier im Parlament Kulisse für die Spitzenkandidatur von Frau Cotar für die bevorstehende Bundestagswahl sein. Das ist also alles sehr durchschaubar.\n",
      "\n",
      "({0})\n",
      "\n",
      "Regelmäßig versucht die AfD mit untauglichen Argumenten, die Meinungsfreiheit in unserem Land zu diskreditieren; das erleben wir auch wieder in dieser Aktuellen Stunde. Lassen Sie mich als letzten Redner in dieser Debatte die schlimmsten Falschaussagen hier kurz richtigstellen.\n",
      "\n",
      "Frau Cotar, von Ihnen kam der erste Redebeitrag. Sie sprachen von „Meinungsdiktatur 2021“. Völliger Blödsinn!\n",
      "\n",
      "({1})\n",
      "\n",
      "Die Meinungsdiktatur von rechts haben wir 1945 beendet – ich erinnere an den morgigen Tag der Befreiung, den die AfD natürlich bezeichnenderweise nicht begeht –, und die Meinungsdiktatur ...\n"
     ]
    }
   ],
   "source": [
    "print('...', speeches_df.iloc[-1]['speechContent'][:1000].strip(), '...')"
   ]
  },
  {
   "cell_type": "code",
   "execution_count": 10,
   "id": "2853ac92-0831-433c-9f5d-2292cffa3a59",
   "metadata": {},
   "outputs": [],
   "source": [
    "speeches_df['speechContentInclContributions'] = speeches_df['speechContent']\n",
    "speeches_df['speechContent'] = speeches_df['speechContent'].str.replace(pat=r\"\\(\\s*\\{\\s*\\d*\\s*\\}\\s*\\)\", repl='', regex=True)"
   ]
  },
  {
   "cell_type": "code",
   "execution_count": 11,
   "id": "0c8b4ebd-d73b-455e-a092-ab7b6aba30c0",
   "metadata": {},
   "outputs": [
    {
     "data": {
      "text/html": [
       "<div>\n",
       "<style scoped>\n",
       "    .dataframe tbody tr th:only-of-type {\n",
       "        vertical-align: middle;\n",
       "    }\n",
       "\n",
       "    .dataframe tbody tr th {\n",
       "        vertical-align: top;\n",
       "    }\n",
       "\n",
       "    .dataframe thead th {\n",
       "        text-align: right;\n",
       "    }\n",
       "</style>\n",
       "<table border=\"1\" class=\"dataframe\">\n",
       "  <thead>\n",
       "    <tr style=\"text-align: right;\">\n",
       "      <th></th>\n",
       "      <th>id_speech</th>\n",
       "      <th>session</th>\n",
       "      <th>electoralTerm</th>\n",
       "      <th>firstName</th>\n",
       "      <th>lastName</th>\n",
       "      <th>politicianId</th>\n",
       "      <th>speechContent</th>\n",
       "      <th>factionId</th>\n",
       "      <th>documentUrl</th>\n",
       "      <th>positionShort</th>\n",
       "      <th>positionLong</th>\n",
       "      <th>date</th>\n",
       "      <th>speechLength</th>\n",
       "      <th>id_fraction</th>\n",
       "      <th>fraction</th>\n",
       "      <th>fractionFullName</th>\n",
       "      <th>speechContentInclContributions</th>\n",
       "    </tr>\n",
       "  </thead>\n",
       "  <tbody>\n",
       "    <tr>\n",
       "      <th>0</th>\n",
       "      <td>0</td>\n",
       "      <td>2</td>\n",
       "      <td>1</td>\n",
       "      <td></td>\n",
       "      <td>Köhler</td>\n",
       "      <td>11001150</td>\n",
       "      <td>Meine Damen und Herren! Ich eröffne die 2. Sit...</td>\n",
       "      <td>-1</td>\n",
       "      <td>https://dip21.bundestag.de/dip21/btp/01/01002.pdf</td>\n",
       "      <td>Presidium of Parliament</td>\n",
       "      <td>präsident</td>\n",
       "      <td>1949-09-12</td>\n",
       "      <td>546</td>\n",
       "      <td>-1</td>\n",
       "      <td>NaN</td>\n",
       "      <td>NaN</td>\n",
       "      <td>Meine Damen und Herren! Ich eröffne die 2. Sit...</td>\n",
       "    </tr>\n",
       "    <tr>\n",
       "      <th>1</th>\n",
       "      <td>1</td>\n",
       "      <td>2</td>\n",
       "      <td>1</td>\n",
       "      <td></td>\n",
       "      <td>Arnold</td>\n",
       "      <td>-1</td>\n",
       "      <td>Der Bundesrat ist versammelt, Herr Präsident.\\n</td>\n",
       "      <td>-1</td>\n",
       "      <td>https://dip21.bundestag.de/dip21/btp/01/01002.pdf</td>\n",
       "      <td>Guest</td>\n",
       "      <td>präsident des bundesrats</td>\n",
       "      <td>1949-09-12</td>\n",
       "      <td>45</td>\n",
       "      <td>-1</td>\n",
       "      <td>NaN</td>\n",
       "      <td>NaN</td>\n",
       "      <td>Der Bundesrat ist versammelt, Herr Präsident.\\n</td>\n",
       "    </tr>\n",
       "    <tr>\n",
       "      <th>2</th>\n",
       "      <td>2</td>\n",
       "      <td>2</td>\n",
       "      <td>1</td>\n",
       "      <td></td>\n",
       "      <td>Köhler</td>\n",
       "      <td>11001150</td>\n",
       "      <td>Ich danke für diese Erklärung. Ich stelle dami...</td>\n",
       "      <td>-1</td>\n",
       "      <td>https://dip21.bundestag.de/dip21/btp/01/01002.pdf</td>\n",
       "      <td>Presidium of Parliament</td>\n",
       "      <td>präsident</td>\n",
       "      <td>1949-09-12</td>\n",
       "      <td>901</td>\n",
       "      <td>-1</td>\n",
       "      <td>NaN</td>\n",
       "      <td>NaN</td>\n",
       "      <td>Ich danke für diese Erklärung. Ich stelle dami...</td>\n",
       "    </tr>\n",
       "    <tr>\n",
       "      <th>3</th>\n",
       "      <td>3</td>\n",
       "      <td>2</td>\n",
       "      <td>1</td>\n",
       "      <td></td>\n",
       "      <td>Heuss</td>\n",
       "      <td>-1</td>\n",
       "      <td>Ja, ich habe den Wunsch.\\n</td>\n",
       "      <td>-1</td>\n",
       "      <td>https://dip21.bundestag.de/dip21/btp/01/01002.pdf</td>\n",
       "      <td>Guest</td>\n",
       "      <td>bundespräsident</td>\n",
       "      <td>1949-09-12</td>\n",
       "      <td>24</td>\n",
       "      <td>-1</td>\n",
       "      <td>NaN</td>\n",
       "      <td>NaN</td>\n",
       "      <td>Ja, ich habe den Wunsch.\\n</td>\n",
       "    </tr>\n",
       "    <tr>\n",
       "      <th>4</th>\n",
       "      <td>4</td>\n",
       "      <td>2</td>\n",
       "      <td>1</td>\n",
       "      <td></td>\n",
       "      <td>Köhler</td>\n",
       "      <td>11001150</td>\n",
       "      <td>Ich erteile dem Herrn Bundespräsidenten das Wo...</td>\n",
       "      <td>-1</td>\n",
       "      <td>https://dip21.bundestag.de/dip21/btp/01/01002.pdf</td>\n",
       "      <td>Presidium of Parliament</td>\n",
       "      <td>präsident</td>\n",
       "      <td>1949-09-12</td>\n",
       "      <td>49</td>\n",
       "      <td>-1</td>\n",
       "      <td>NaN</td>\n",
       "      <td>NaN</td>\n",
       "      <td>Ich erteile dem Herrn Bundespräsidenten das Wo...</td>\n",
       "    </tr>\n",
       "  </tbody>\n",
       "</table>\n",
       "</div>"
      ],
      "text/plain": [
       "   id_speech  session  electoralTerm firstName lastName  politicianId  \\\n",
       "0          0        2              1             Köhler      11001150   \n",
       "1          1        2              1             Arnold            -1   \n",
       "2          2        2              1             Köhler      11001150   \n",
       "3          3        2              1              Heuss            -1   \n",
       "4          4        2              1             Köhler      11001150   \n",
       "\n",
       "                                       speechContent  factionId  \\\n",
       "0  Meine Damen und Herren! Ich eröffne die 2. Sit...         -1   \n",
       "1    Der Bundesrat ist versammelt, Herr Präsident.\\n         -1   \n",
       "2  Ich danke für diese Erklärung. Ich stelle dami...         -1   \n",
       "3                         Ja, ich habe den Wunsch.\\n         -1   \n",
       "4  Ich erteile dem Herrn Bundespräsidenten das Wo...         -1   \n",
       "\n",
       "                                         documentUrl            positionShort  \\\n",
       "0  https://dip21.bundestag.de/dip21/btp/01/01002.pdf  Presidium of Parliament   \n",
       "1  https://dip21.bundestag.de/dip21/btp/01/01002.pdf                    Guest   \n",
       "2  https://dip21.bundestag.de/dip21/btp/01/01002.pdf  Presidium of Parliament   \n",
       "3  https://dip21.bundestag.de/dip21/btp/01/01002.pdf                    Guest   \n",
       "4  https://dip21.bundestag.de/dip21/btp/01/01002.pdf  Presidium of Parliament   \n",
       "\n",
       "               positionLong        date  speechLength  id_fraction fraction  \\\n",
       "0                 präsident  1949-09-12           546           -1      NaN   \n",
       "1  präsident des bundesrats  1949-09-12            45           -1      NaN   \n",
       "2                 präsident  1949-09-12           901           -1      NaN   \n",
       "3           bundespräsident  1949-09-12            24           -1      NaN   \n",
       "4                 präsident  1949-09-12            49           -1      NaN   \n",
       "\n",
       "  fractionFullName                     speechContentInclContributions  \n",
       "0              NaN  Meine Damen und Herren! Ich eröffne die 2. Sit...  \n",
       "1              NaN    Der Bundesrat ist versammelt, Herr Präsident.\\n  \n",
       "2              NaN  Ich danke für diese Erklärung. Ich stelle dami...  \n",
       "3              NaN                         Ja, ich habe den Wunsch.\\n  \n",
       "4              NaN  Ich erteile dem Herrn Bundespräsidenten das Wo...  "
      ]
     },
     "execution_count": 11,
     "metadata": {},
     "output_type": "execute_result"
    }
   ],
   "source": [
    "speeches_df.head()"
   ]
  },
  {
   "cell_type": "markdown",
   "id": "05f8a554-ea25-4f77-a043-5675877e3415",
   "metadata": {},
   "source": [
    "## Basic Exploration"
   ]
  },
  {
   "cell_type": "code",
   "execution_count": 12,
   "id": "0619f5af-8acb-472a-8eb4-965e671d273a",
   "metadata": {},
   "outputs": [
    {
     "data": {
      "text/plain": [
       "(907644, 17)"
      ]
     },
     "execution_count": 12,
     "metadata": {},
     "output_type": "execute_result"
    }
   ],
   "source": [
    "speeches_df.shape"
   ]
  },
  {
   "cell_type": "code",
   "execution_count": 13,
   "id": "733938ec-48b5-4e96-9a19-c0db73c8dae3",
   "metadata": {},
   "outputs": [
    {
     "data": {
      "text/plain": [
       "<AxesSubplot:title={'center':'Number of speeches'}, ylabel='fraction'>"
      ]
     },
     "execution_count": 13,
     "metadata": {},
     "output_type": "execute_result"
    },
    {
     "data": {
      "image/png": "[encoded data removed]",
      "text/plain": [
       "<Figure size 1008x360 with 1 Axes>"
      ]
     },
     "metadata": {
      "needs_background": "light"
     },
     "output_type": "display_data"
    }
   ],
   "source": [
    "speeches_df[['fraction','id_fraction']].groupby('fraction').count().sort_index(ascending=False).plot.barh(title=\"Number of speeches\", legend=False)"
   ]
  },
  {
   "cell_type": "code",
   "execution_count": 14,
   "id": "d4142c49-e991-472a-be67-0c35ca36e9d4",
   "metadata": {},
   "outputs": [
    {
     "data": {
      "text/plain": [
       "Text(0.5, 0, 'Nth speech')"
      ]
     },
     "execution_count": 14,
     "metadata": {},
     "output_type": "execute_result"
    },
    {
     "data": {
      "image/png": "[encoded data removed]",
      "text/plain": [
       "<Figure size 1008x360 with 1 Axes>"
      ]
     },
     "metadata": {
      "needs_background": "light"
     },
     "output_type": "display_data"
    }
   ],
   "source": [
    "fig, ax = plt.subplots(figsize=(14,5))\n",
    "speeches_df['speechLength'].sort_values(ascending=False).reset_index()['speechLength'][:].plot.line(ax=ax)\n",
    "ax.set_ylabel('Length of speech')\n",
    "ax.set_xlabel('Nth speech')"
   ]
  },
  {
   "cell_type": "code",
   "execution_count": null,
   "id": "4b3cde77-865b-4ba1-a817-1c4bbebd399a",
   "metadata": {},
   "outputs": [],
   "source": []
  }
 ],
 "metadata": {
  "kernelspec": {
   "display_name": "Python 3",
   "language": "python",
   "name": "python3"
  },
  "language_info": {
   "codemirror_mode": {
    "name": "ipython",
    "version": 3
   },
   "file_extension": ".py",
   "mimetype": "text/x-python",
   "name": "python",
   "nbconvert_exporter": "python",
   "pygments_lexer": "ipython3",
   "version": "3.8.10"
  }
 },
 "nbformat": 4,
 "nbformat_minor": 5
}
