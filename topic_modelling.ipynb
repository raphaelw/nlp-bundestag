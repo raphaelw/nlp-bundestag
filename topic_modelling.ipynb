{
 "cells": [
  {
   "cell_type": "markdown",
   "id": "31e64b3e-5fb8-4d55-8596-23d46f002c0a",
   "metadata": {},
   "source": [
    "# Topic modelling of Bundestag speeches\n",
    "\n",
    "Dataset from https://opendiscourse.de/\n",
    "\n",
    "> Richter, F.; Koch, P.; Franke, O.; Kraus, J.; Kuruc, F.; Thiem, A.; Högerl, J.; Heine, S.; Schöps, K. (2020). Open Discourse. https://doi.org/10.7910/DVN/FIKIBO. Harvard Dataverse. V3."
   ]
  },
  {
   "cell_type": "code",
   "execution_count": 1,
   "id": "753f0c1d-8d00-4898-83f3-f1533e146417",
   "metadata": {},
   "outputs": [],
   "source": [
    "import numpy as np\n",
    "import pandas as pd\n",
    "import matplotlib.pyplot as plt\n",
    "import seaborn as sns"
   ]
  },
  {
   "cell_type": "code",
   "execution_count": 2,
   "id": "8aae6e22-818b-4039-95d0-9dd791ca8fd8",
   "metadata": {},
   "outputs": [],
   "source": [
    "import re\n",
    "import spacy\n",
    "# from spacy.lang.de.stop_words import STOP_WORDS as STOP_WORDS_DE"
   ]
  },
  {
   "cell_type": "code",
   "execution_count": 3,
   "id": "8ea1706d-e7e7-47ea-a26c-6286fcba5edc",
   "metadata": {},
   "outputs": [],
   "source": [
    "import pyarrow.feather as feather\n",
    "import json"
   ]
  },
  {
   "cell_type": "code",
   "execution_count": 4,
   "id": "b6966a23-37ce-4aa0-b186-1dbaf8f069bd",
   "metadata": {},
   "outputs": [],
   "source": [
    "from IPython.display import clear_output"
   ]
  },
  {
   "cell_type": "code",
   "execution_count": 5,
   "id": "730502e8-fe17-439f-ab2b-5ab81ca9a0b3",
   "metadata": {},
   "outputs": [],
   "source": [
    "plt.rcParams['figure.figsize'] = (14,5)"
   ]
  },
  {
   "cell_type": "markdown",
   "id": "10ec8f05-d1da-42c9-b980-33ba43069574",
   "metadata": {},
   "source": [
    "## Load Data\n",
    "\n",
    "*Data in feather format https://arrow.apache.org/docs/python/feather.html*"
   ]
  },
  {
   "cell_type": "code",
   "execution_count": 6,
   "id": "81d413a4-3e17-4267-9bb5-5910eb497a9e",
   "metadata": {},
   "outputs": [],
   "source": [
    "speeches_df = feather.read_feather('data/opendiscourse/feather/speeches.feather')\n",
    "fractions_df = feather.read_feather('data/opendiscourse/feather/factions.feather')\n",
    "#contributions_df = feather.read_feather('data/opendiscourse/feather/contributions_extended.feather')"
   ]
  },
  {
   "cell_type": "markdown",
   "id": "22734c99-16c6-446d-bb1e-bcd896c334a8",
   "metadata": {},
   "source": [
    "## Prepare Data"
   ]
  },
  {
   "cell_type": "code",
   "execution_count": 7,
   "id": "88e7d142-2c3e-4ee3-9519-4fcda84daa51",
   "metadata": {},
   "outputs": [],
   "source": [
    "#fractions_df.replace(to_replace='not found', value=np.nan, inplace=True)\n",
    "fractions_df.rename(columns={'abbreviation':'fraction', 'fullName':'fractionFullName'}, inplace=True)"
   ]
  },
  {
   "cell_type": "code",
   "execution_count": 8,
   "id": "4dbf6ac0-d8a5-4801-bf98-fbf6851082b1",
   "metadata": {},
   "outputs": [
    {
     "data": {
      "text/html": [
       "<div>\n",
       "<style scoped>\n",
       "    .dataframe tbody tr th:only-of-type {\n",
       "        vertical-align: middle;\n",
       "    }\n",
       "\n",
       "    .dataframe tbody tr th {\n",
       "        vertical-align: top;\n",
       "    }\n",
       "\n",
       "    .dataframe thead th {\n",
       "        text-align: right;\n",
       "    }\n",
       "</style>\n",
       "<table border=\"1\" class=\"dataframe\">\n",
       "  <thead>\n",
       "    <tr style=\"text-align: right;\">\n",
       "      <th></th>\n",
       "      <th>id</th>\n",
       "      <th>fraction</th>\n",
       "      <th>fractionFullName</th>\n",
       "    </tr>\n",
       "  </thead>\n",
       "  <tbody>\n",
       "    <tr>\n",
       "      <th>0</th>\n",
       "      <td>-1</td>\n",
       "      <td>not found</td>\n",
       "      <td>not found</td>\n",
       "    </tr>\n",
       "    <tr>\n",
       "      <th>1</th>\n",
       "      <td>0</td>\n",
       "      <td>AfD</td>\n",
       "      <td>Alternative für Deutschland</td>\n",
       "    </tr>\n",
       "    <tr>\n",
       "      <th>2</th>\n",
       "      <td>1</td>\n",
       "      <td>BHE</td>\n",
       "      <td>Block der Heimatvertriebenen und Entrechteten</td>\n",
       "    </tr>\n",
       "    <tr>\n",
       "      <th>3</th>\n",
       "      <td>2</td>\n",
       "      <td>BP</td>\n",
       "      <td>Bayernpartei</td>\n",
       "    </tr>\n",
       "    <tr>\n",
       "      <th>4</th>\n",
       "      <td>3</td>\n",
       "      <td>Grüne</td>\n",
       "      <td>Bündnis 90/Die Grünen</td>\n",
       "    </tr>\n",
       "  </tbody>\n",
       "</table>\n",
       "</div>"
      ],
      "text/plain": [
       "   id   fraction                               fractionFullName\n",
       "0  -1  not found                                      not found\n",
       "1   0        AfD                    Alternative für Deutschland\n",
       "2   1        BHE  Block der Heimatvertriebenen und Entrechteten\n",
       "3   2         BP                                   Bayernpartei\n",
       "4   3      Grüne                          Bündnis 90/Die Grünen"
      ]
     },
     "execution_count": 8,
     "metadata": {},
     "output_type": "execute_result"
    }
   ],
   "source": [
    "fractions_df.head()"
   ]
  },
  {
   "cell_type": "code",
   "execution_count": 9,
   "id": "bf004164-d205-4624-ab25-0f833b3ea5ae",
   "metadata": {},
   "outputs": [],
   "source": [
    "speeches_df['speechLength'] = speeches_df['speechContent'].str.strip().str.len()\n",
    "speeches_df = speeches_df.merge(fractions_df, left_on='factionId', right_on='id', how='left', suffixes=('_speech','_fraction'))"
   ]
  },
  {
   "cell_type": "code",
   "execution_count": 10,
   "id": "05e9c5c3-9a3e-405d-8a46-7f54a825c794",
   "metadata": {},
   "outputs": [],
   "source": [
    "#speeches_df.head()"
   ]
  },
  {
   "cell_type": "markdown",
   "id": "111e051c-568a-4f50-9fea-51e1ac2c3225",
   "metadata": {},
   "source": [
    "Get rid of contribution (Zwischenrufe) symbols like `({1})`"
   ]
  },
  {
   "cell_type": "code",
   "execution_count": 11,
   "id": "ecd4eb80-2bca-4996-99aa-4917cf78fdb2",
   "metadata": {},
   "outputs": [
    {
     "name": "stdout",
     "output_type": "stream",
     "text": [
      "... Vielen Dank. – Frau Präsidentin! Liebe Kolleginnen und Kollegen! Meine Damen und Herren! Bereits im Januar 2021 hatten wir eine Aktuelle Stunde zu genau dem gleichen Thema. Damals ging es um Trump und die Sperrung seines Facebook-Accounts. Heute sollen wir hier im Parlament Kulisse für die Spitzenkandidatur von Frau Cotar für die bevorstehende Bundestagswahl sein. Das ist also alles sehr durchschaubar.\n",
      "\n",
      "({0})\n",
      "\n",
      "Regelmäßig versucht die AfD mit untauglichen Argumenten, die Meinungsfreiheit in unserem Land zu diskreditieren; das erleben wir auch wieder in dieser Aktuellen Stunde. Lassen Sie mich als letzten Redner in dieser Debatte die schlimmsten Falschaussagen hier kurz richtigstellen.\n",
      "\n",
      "Frau Cotar, von Ihnen kam der erste Redebeitrag. Sie sprachen von „Meinungsdiktatur 2021“. Völliger Blödsinn!\n",
      "\n",
      "({1})\n",
      "\n",
      "Die Meinungsdiktatur von rechts haben wir 1945 beendet – ich erinnere an den morgigen Tag der Befreiung, den die AfD natürlich bezeichnenderweise nicht begeht –, und die Meinungsdiktatur ...\n"
     ]
    }
   ],
   "source": [
    "print('...', speeches_df.iloc[-1]['speechContent'][:1000].strip(), '...')"
   ]
  },
  {
   "cell_type": "code",
   "execution_count": 12,
   "id": "2853ac92-0831-433c-9f5d-2292cffa3a59",
   "metadata": {},
   "outputs": [],
   "source": [
    "speeches_df['speechContentInclContributions'] = speeches_df['speechContent']\n",
    "speeches_df['speechContent'] = speeches_df['speechContent'].str.replace(pat=r\"\\(\\s*\\{\\s*\\d*\\s*\\}\\s*\\)\", repl='', regex=True)"
   ]
  },
  {
   "cell_type": "code",
   "execution_count": 13,
   "id": "0c8b4ebd-d73b-455e-a092-ab7b6aba30c0",
   "metadata": {},
   "outputs": [
    {
     "data": {
      "text/html": [
       "<div>\n",
       "<style scoped>\n",
       "    .dataframe tbody tr th:only-of-type {\n",
       "        vertical-align: middle;\n",
       "    }\n",
       "\n",
       "    .dataframe tbody tr th {\n",
       "        vertical-align: top;\n",
       "    }\n",
       "\n",
       "    .dataframe thead th {\n",
       "        text-align: right;\n",
       "    }\n",
       "</style>\n",
       "<table border=\"1\" class=\"dataframe\">\n",
       "  <thead>\n",
       "    <tr style=\"text-align: right;\">\n",
       "      <th></th>\n",
       "      <th>id_speech</th>\n",
       "      <th>session</th>\n",
       "      <th>electoralTerm</th>\n",
       "      <th>firstName</th>\n",
       "      <th>lastName</th>\n",
       "      <th>politicianId</th>\n",
       "      <th>speechContent</th>\n",
       "      <th>factionId</th>\n",
       "      <th>documentUrl</th>\n",
       "      <th>positionShort</th>\n",
       "      <th>positionLong</th>\n",
       "      <th>date</th>\n",
       "      <th>speechLength</th>\n",
       "      <th>id_fraction</th>\n",
       "      <th>fraction</th>\n",
       "      <th>fractionFullName</th>\n",
       "      <th>speechContentInclContributions</th>\n",
       "    </tr>\n",
       "  </thead>\n",
       "  <tbody>\n",
       "    <tr>\n",
       "      <th>0</th>\n",
       "      <td>0</td>\n",
       "      <td>2</td>\n",
       "      <td>1</td>\n",
       "      <td></td>\n",
       "      <td>Köhler</td>\n",
       "      <td>11001150</td>\n",
       "      <td>Meine Damen und Herren! Ich eröffne die 2. Sit...</td>\n",
       "      <td>-1</td>\n",
       "      <td>https://dip21.bundestag.de/dip21/btp/01/01002.pdf</td>\n",
       "      <td>Presidium of Parliament</td>\n",
       "      <td>präsident</td>\n",
       "      <td>1949-09-12</td>\n",
       "      <td>546</td>\n",
       "      <td>-1</td>\n",
       "      <td>not found</td>\n",
       "      <td>not found</td>\n",
       "      <td>Meine Damen und Herren! Ich eröffne die 2. Sit...</td>\n",
       "    </tr>\n",
       "    <tr>\n",
       "      <th>1</th>\n",
       "      <td>1</td>\n",
       "      <td>2</td>\n",
       "      <td>1</td>\n",
       "      <td></td>\n",
       "      <td>Arnold</td>\n",
       "      <td>-1</td>\n",
       "      <td>Der Bundesrat ist versammelt, Herr Präsident.\\n</td>\n",
       "      <td>-1</td>\n",
       "      <td>https://dip21.bundestag.de/dip21/btp/01/01002.pdf</td>\n",
       "      <td>Guest</td>\n",
       "      <td>präsident des bundesrats</td>\n",
       "      <td>1949-09-12</td>\n",
       "      <td>45</td>\n",
       "      <td>-1</td>\n",
       "      <td>not found</td>\n",
       "      <td>not found</td>\n",
       "      <td>Der Bundesrat ist versammelt, Herr Präsident.\\n</td>\n",
       "    </tr>\n",
       "    <tr>\n",
       "      <th>2</th>\n",
       "      <td>2</td>\n",
       "      <td>2</td>\n",
       "      <td>1</td>\n",
       "      <td></td>\n",
       "      <td>Köhler</td>\n",
       "      <td>11001150</td>\n",
       "      <td>Ich danke für diese Erklärung. Ich stelle dami...</td>\n",
       "      <td>-1</td>\n",
       "      <td>https://dip21.bundestag.de/dip21/btp/01/01002.pdf</td>\n",
       "      <td>Presidium of Parliament</td>\n",
       "      <td>präsident</td>\n",
       "      <td>1949-09-12</td>\n",
       "      <td>901</td>\n",
       "      <td>-1</td>\n",
       "      <td>not found</td>\n",
       "      <td>not found</td>\n",
       "      <td>Ich danke für diese Erklärung. Ich stelle dami...</td>\n",
       "    </tr>\n",
       "    <tr>\n",
       "      <th>3</th>\n",
       "      <td>3</td>\n",
       "      <td>2</td>\n",
       "      <td>1</td>\n",
       "      <td></td>\n",
       "      <td>Heuss</td>\n",
       "      <td>-1</td>\n",
       "      <td>Ja, ich habe den Wunsch.\\n</td>\n",
       "      <td>-1</td>\n",
       "      <td>https://dip21.bundestag.de/dip21/btp/01/01002.pdf</td>\n",
       "      <td>Guest</td>\n",
       "      <td>bundespräsident</td>\n",
       "      <td>1949-09-12</td>\n",
       "      <td>24</td>\n",
       "      <td>-1</td>\n",
       "      <td>not found</td>\n",
       "      <td>not found</td>\n",
       "      <td>Ja, ich habe den Wunsch.\\n</td>\n",
       "    </tr>\n",
       "    <tr>\n",
       "      <th>4</th>\n",
       "      <td>4</td>\n",
       "      <td>2</td>\n",
       "      <td>1</td>\n",
       "      <td></td>\n",
       "      <td>Köhler</td>\n",
       "      <td>11001150</td>\n",
       "      <td>Ich erteile dem Herrn Bundespräsidenten das Wo...</td>\n",
       "      <td>-1</td>\n",
       "      <td>https://dip21.bundestag.de/dip21/btp/01/01002.pdf</td>\n",
       "      <td>Presidium of Parliament</td>\n",
       "      <td>präsident</td>\n",
       "      <td>1949-09-12</td>\n",
       "      <td>49</td>\n",
       "      <td>-1</td>\n",
       "      <td>not found</td>\n",
       "      <td>not found</td>\n",
       "      <td>Ich erteile dem Herrn Bundespräsidenten das Wo...</td>\n",
       "    </tr>\n",
       "  </tbody>\n",
       "</table>\n",
       "</div>"
      ],
      "text/plain": [
       "   id_speech  session  electoralTerm firstName lastName  politicianId  \\\n",
       "0          0        2              1             Köhler      11001150   \n",
       "1          1        2              1             Arnold            -1   \n",
       "2          2        2              1             Köhler      11001150   \n",
       "3          3        2              1              Heuss            -1   \n",
       "4          4        2              1             Köhler      11001150   \n",
       "\n",
       "                                       speechContent  factionId  \\\n",
       "0  Meine Damen und Herren! Ich eröffne die 2. Sit...         -1   \n",
       "1    Der Bundesrat ist versammelt, Herr Präsident.\\n         -1   \n",
       "2  Ich danke für diese Erklärung. Ich stelle dami...         -1   \n",
       "3                         Ja, ich habe den Wunsch.\\n         -1   \n",
       "4  Ich erteile dem Herrn Bundespräsidenten das Wo...         -1   \n",
       "\n",
       "                                         documentUrl            positionShort  \\\n",
       "0  https://dip21.bundestag.de/dip21/btp/01/01002.pdf  Presidium of Parliament   \n",
       "1  https://dip21.bundestag.de/dip21/btp/01/01002.pdf                    Guest   \n",
       "2  https://dip21.bundestag.de/dip21/btp/01/01002.pdf  Presidium of Parliament   \n",
       "3  https://dip21.bundestag.de/dip21/btp/01/01002.pdf                    Guest   \n",
       "4  https://dip21.bundestag.de/dip21/btp/01/01002.pdf  Presidium of Parliament   \n",
       "\n",
       "               positionLong        date  speechLength  id_fraction   fraction  \\\n",
       "0                 präsident  1949-09-12           546           -1  not found   \n",
       "1  präsident des bundesrats  1949-09-12            45           -1  not found   \n",
       "2                 präsident  1949-09-12           901           -1  not found   \n",
       "3           bundespräsident  1949-09-12            24           -1  not found   \n",
       "4                 präsident  1949-09-12            49           -1  not found   \n",
       "\n",
       "  fractionFullName                     speechContentInclContributions  \n",
       "0        not found  Meine Damen und Herren! Ich eröffne die 2. Sit...  \n",
       "1        not found    Der Bundesrat ist versammelt, Herr Präsident.\\n  \n",
       "2        not found  Ich danke für diese Erklärung. Ich stelle dami...  \n",
       "3        not found                         Ja, ich habe den Wunsch.\\n  \n",
       "4        not found  Ich erteile dem Herrn Bundespräsidenten das Wo...  "
      ]
     },
     "execution_count": 13,
     "metadata": {},
     "output_type": "execute_result"
    }
   ],
   "source": [
    "speeches_df.head()"
   ]
  },
  {
   "cell_type": "markdown",
   "id": "05f8a554-ea25-4f77-a043-5675877e3415",
   "metadata": {},
   "source": [
    "## Basic Exploration"
   ]
  },
  {
   "cell_type": "code",
   "execution_count": 14,
   "id": "0619f5af-8acb-472a-8eb4-965e671d273a",
   "metadata": {},
   "outputs": [
    {
     "data": {
      "text/plain": [
       "(907644, 17)"
      ]
     },
     "execution_count": 14,
     "metadata": {},
     "output_type": "execute_result"
    }
   ],
   "source": [
    "speeches_df.shape"
   ]
  },
  {
   "cell_type": "code",
   "execution_count": 15,
   "id": "733938ec-48b5-4e96-9a19-c0db73c8dae3",
   "metadata": {},
   "outputs": [
    {
     "data": {
      "text/plain": [
       "<AxesSubplot:title={'center':'Mass of text'}, ylabel='fraction'>"
      ]
     },
     "execution_count": 15,
     "metadata": {},
     "output_type": "execute_result"
    },
    {
     "data": {
      "image/png": "[encoded data removed]",
      "text/plain": [
       "<Figure size 1008x360 with 1 Axes>"
      ]
     },
     "metadata": {
      "needs_background": "light"
     },
     "output_type": "display_data"
    }
   ],
   "source": [
    "speeches_df[['fraction', 'speechLength']].groupby('fraction').sum().sort_index(ascending=False).plot.barh(title=\"Mass of text\", legend=False)"
   ]
  },
  {
   "cell_type": "markdown",
   "id": "4032403e-63bf-41fa-83fe-60c43f03bd4f",
   "metadata": {},
   "source": [
    "Quite a few texts in \"not found\" fraction. This category contains also minister's speeches.\n",
    "\n",
    "Future TODO: They could be mapped to their parties using information about the governing parties at the time."
   ]
  },
  {
   "cell_type": "code",
   "execution_count": 16,
   "id": "d4142c49-e991-472a-be67-0c35ca36e9d4",
   "metadata": {},
   "outputs": [
    {
     "data": {
      "text/plain": [
       "Text(0.5, 0, 'Nth speech')"
      ]
     },
     "execution_count": 16,
     "metadata": {},
     "output_type": "execute_result"
    },
    {
     "data": {
      "image/png": "[encoded data removed]",
      "text/plain": [
       "<Figure size 1008x360 with 1 Axes>"
      ]
     },
     "metadata": {
      "needs_background": "light"
     },
     "output_type": "display_data"
    }
   ],
   "source": [
    "fig, ax = plt.subplots(figsize=(14,5))\n",
    "speeches_df['speechLength'].sort_values(ascending=False).reset_index()['speechLength'][:].plot.line(ax=ax)\n",
    "ax.set_ylabel('Length of speech')\n",
    "ax.set_xlabel('Nth speech')"
   ]
  },
  {
   "cell_type": "code",
   "execution_count": 17,
   "id": "36503638-ae46-4cb3-bcc1-3673bcc5ad64",
   "metadata": {},
   "outputs": [],
   "source": [
    "# longest_speech = speeches_df.sort_values(by='speechLength', ascending=False).iloc[0]['speechContent']"
   ]
  },
  {
   "cell_type": "markdown",
   "id": "e8b09335-9f90-46e2-988b-a9b2fecc982a",
   "metadata": {},
   "source": [
    "## Topic Modelling\n",
    "\n",
    "### Preprocessing Pt. 1\n",
    "\n",
    "- Load Documents\n",
    "- Split into words\n",
    "- Remove stop words, punctuation and other symbols.\n",
    "- Lemmatization or Stemming\n",
    "\n",
    "After that use topic modelling algorithm **LDA** available with gensim."
   ]
  },
  {
   "cell_type": "code",
   "execution_count": 18,
   "id": "0854d801-db63-45bf-835e-d5f5b2e01066",
   "metadata": {},
   "outputs": [],
   "source": [
    "# STOP_WORDS_DE\n",
    "# spacy.lang.de.stop_words.STOP_WORDS"
   ]
  },
  {
   "cell_type": "code",
   "execution_count": 19,
   "id": "69552bae-a6ba-4b6a-923d-8b83ce6c1ac0",
   "metadata": {},
   "outputs": [],
   "source": [
    "nlp = spacy.load('de_core_news_lg') # install beforehand with: python -m spacy download de_core_news_lg"
   ]
  },
  {
   "cell_type": "code",
   "execution_count": 20,
   "id": "01a716ca-cbb7-4bb4-9730-171240c4d56d",
   "metadata": {},
   "outputs": [],
   "source": [
    "test_text = 'Hallo, ich bin ein Vorratsdatenspeicherer! \\tDas ist ein Bindestrich-Wort.\\r\\nWäre das ein Satz, welcher gut klingt? Das sind zehntausend 123 und die 111. Möglichkeit.'"
   ]
  },
  {
   "cell_type": "code",
   "execution_count": 21,
   "id": "c31d2ff0-4669-41a2-a1ba-90c368fa23d2",
   "metadata": {},
   "outputs": [
    {
     "name": "stdout",
     "output_type": "stream",
     "text": [
      "lemma 'Hallo'\t\t\tstopword \"False\"\t\t\tpart-of-speech \"PART\"\n",
      "lemma ','\t\t\tstopword \"False\"\t\t\tpart-of-speech \"PUNCT\"\n",
      "lemma 'ich'\t\t\tstopword \"True\"\t\t\tpart-of-speech \"PRON\"\n",
      "lemma 'sein'\t\t\tstopword \"True\"\t\t\tpart-of-speech \"AUX\"\n",
      "lemma 'einen'\t\t\tstopword \"True\"\t\t\tpart-of-speech \"DET\"\n",
      "lemma 'Vorratsdatenspeicherer'\t\t\tstopword \"False\"\t\t\tpart-of-speech \"NOUN\"\n",
      "lemma '!'\t\t\tstopword \"False\"\t\t\tpart-of-speech \"PUNCT\"\n",
      "lemma '\\t'\t\t\tstopword \"False\"\t\t\tpart-of-speech \"SPACE\"\n",
      "lemma 'der'\t\t\tstopword \"True\"\t\t\tpart-of-speech \"PRON\"\n",
      "lemma 'sein'\t\t\tstopword \"True\"\t\t\tpart-of-speech \"AUX\"\n",
      "lemma 'einen'\t\t\tstopword \"True\"\t\t\tpart-of-speech \"DET\"\n",
      "lemma 'Bindestrich-Wort'\t\t\tstopword \"False\"\t\t\tpart-of-speech \"NOUN\"\n",
      "lemma '.'\t\t\tstopword \"False\"\t\t\tpart-of-speech \"PUNCT\"\n",
      "lemma '\\r\\n'\t\t\tstopword \"False\"\t\t\tpart-of-speech \"SPACE\"\n",
      "lemma 'sein'\t\t\tstopword \"True\"\t\t\tpart-of-speech \"AUX\"\n",
      "lemma 'der'\t\t\tstopword \"True\"\t\t\tpart-of-speech \"PRON\"\n",
      "lemma 'einen'\t\t\tstopword \"True\"\t\t\tpart-of-speech \"DET\"\n",
      "lemma 'Satz'\t\t\tstopword \"False\"\t\t\tpart-of-speech \"NOUN\"\n",
      "lemma ','\t\t\tstopword \"False\"\t\t\tpart-of-speech \"PUNCT\"\n",
      "lemma 'welch'\t\t\tstopword \"True\"\t\t\tpart-of-speech \"PRON\"\n",
      "lemma 'gut'\t\t\tstopword \"True\"\t\t\tpart-of-speech \"ADJ\"\n",
      "lemma 'klingen'\t\t\tstopword \"False\"\t\t\tpart-of-speech \"VERB\"\n",
      "lemma '?'\t\t\tstopword \"False\"\t\t\tpart-of-speech \"PUNCT\"\n",
      "lemma 'der'\t\t\tstopword \"True\"\t\t\tpart-of-speech \"PRON\"\n",
      "lemma 'sein'\t\t\tstopword \"True\"\t\t\tpart-of-speech \"AUX\"\n",
      "lemma 'zehntausend'\t\t\tstopword \"False\"\t\t\tpart-of-speech \"NUM\"\n",
      "lemma '123'\t\t\tstopword \"False\"\t\t\tpart-of-speech \"NUM\"\n",
      "lemma 'und'\t\t\tstopword \"True\"\t\t\tpart-of-speech \"CCONJ\"\n",
      "lemma 'der'\t\t\tstopword \"True\"\t\t\tpart-of-speech \"DET\"\n",
      "lemma '111.'\t\t\tstopword \"False\"\t\t\tpart-of-speech \"ADJ\"\n",
      "lemma 'Möglichkeit'\t\t\tstopword \"False\"\t\t\tpart-of-speech \"NOUN\"\n",
      "lemma '.'\t\t\tstopword \"False\"\t\t\tpart-of-speech \"PUNCT\"\n"
     ]
    }
   ],
   "source": [
    "doc = nlp(test_text)\n",
    "for t in doc:\n",
    "    # Token Attributes: https://spacy.io/api/token\n",
    "    print(f'lemma {repr(t.lemma_)}\\t\\t\\tstopword \"{t.is_stop}\"\\t\\t\\tpart-of-speech \"{t.pos_}\"')"
   ]
  },
  {
   "cell_type": "code",
   "execution_count": 22,
   "id": "061e470e-d1c0-4601-ac39-4b8d85460247",
   "metadata": {},
   "outputs": [],
   "source": [
    "def preprocess_for_topic_modelling(texts):\n",
    "    \"\"\"texts : iterable of str (doc text)\"\"\"\n",
    "    pos_blacklist = ('PUNCT','SYM','X','SPACE','NUM')\n",
    "    pattern_digits = re.compile(r\"\\d+\\.\")\n",
    "    \n",
    "    for doc in nlp.pipe(texts, batch_size=50):\n",
    "        r = []\n",
    "        for token in doc:\n",
    "            if (not token.is_stop\n",
    "                and token.pos_ not in pos_blacklist\n",
    "                and pattern_digits.fullmatch(token.lemma_) is None):\n",
    "                r.append(token.lemma_)\n",
    "        yield tuple(r)"
   ]
  },
  {
   "cell_type": "code",
   "execution_count": 23,
   "id": "dc0f826e-1e08-4f27-852d-d549e4933660",
   "metadata": {},
   "outputs": [
    {
     "data": {
      "text/plain": [
       "[('Hallo',\n",
       "  'Vorratsdatenspeicherer',\n",
       "  'Bindestrich-Wort',\n",
       "  'Satz',\n",
       "  'klingen',\n",
       "  'Möglichkeit')]"
      ]
     },
     "execution_count": 23,
     "metadata": {},
     "output_type": "execute_result"
    }
   ],
   "source": [
    "list( preprocess_for_topic_modelling([test_text]) )"
   ]
  },
  {
   "cell_type": "code",
   "execution_count": 24,
   "id": "e3fd67b5-9c87-4eaa-ad77-0398be0f355c",
   "metadata": {},
   "outputs": [
    {
     "name": "stdout",
     "output_type": "stream",
     "text": [
      "('Dame', 'Herr', 'eröffnen', 'Sitzung', 'Bundestag', 'Tagesordnung', 'nunmehr', 'Eidesleistung', 'Herrn', 'Bundespräsidenten', 'schreiten', 'Artikel', 'Grundgesetzes', 'leisten', 'Herr', 'Bundespräsident', 'Amtsantritt', 'versammeln', 'Mitglied', 'Bundestag', 'Bundesrats', 'Eid', 'stelle', 'fest', 'Grund', 'Namensaufrufs', 'Mitglied', 'Bundestag', 'versammeln', 'Herr', 'Präsident', 'Bundesrats', 'fragen', 'Sinn', 'Artikel', 'Bundesrat', 'versammeln')\n"
     ]
    }
   ],
   "source": [
    "for doc in preprocess_for_topic_modelling(speeches_df.speechContent):\n",
    "    print(doc)\n",
    "    break"
   ]
  },
  {
   "cell_type": "code",
   "execution_count": 25,
   "id": "2c6d8e49-de75-4a4b-a96f-d76ae175f419",
   "metadata": {},
   "outputs": [],
   "source": [
    "def transparent_iter(iterable, enabled=True):\n",
    "    for count,item in enumerate(iterable):\n",
    "        if enabled:\n",
    "            clear_output()\n",
    "            print(count)\n",
    "        yield item"
   ]
  },
  {
   "cell_type": "code",
   "execution_count": 26,
   "id": "78fbde56-1bc2-4225-865a-7dd73fc9985f",
   "metadata": {},
   "outputs": [],
   "source": [
    "#speech_docs = pd.Series(data=preprocess_for_topic_modelling(speeches_df.speechContent),\n",
    "#                        index=speeches_df.speechContent.index)\n",
    "\n",
    "#docs = tuple(preprocess_for_topic_modelling(transparent_enumerate(speeches_df.speechContent)))"
   ]
  },
  {
   "cell_type": "code",
   "execution_count": 27,
   "id": "4cf84b38-425a-4bb9-9648-03156fa442dd",
   "metadata": {},
   "outputs": [
    {
     "data": {
      "text/plain": [
       "(907644,)"
      ]
     },
     "execution_count": 27,
     "metadata": {},
     "output_type": "execute_result"
    }
   ],
   "source": [
    "speeches_df.speechContent.shape"
   ]
  },
  {
   "cell_type": "code",
   "execution_count": 28,
   "id": "c3b80e97-44a6-4478-8efc-75e3e35e21c4",
   "metadata": {
    "tags": []
   },
   "outputs": [],
   "source": [
    "def dump_clean_speeches():\n",
    "    with open('data/dump/dump_speeches_cleaned.json', 'w', encoding='ascii') as fp:\n",
    "        for doc in preprocess_for_topic_modelling(transparent_iter(speeches_df.iloc[::-1].speechContent)):\n",
    "            json.dump(doc,fp)\n",
    "            fp.write('\\n')"
   ]
  },
  {
   "cell_type": "code",
   "execution_count": 29,
   "id": "30c98bda-ea82-490c-975d-c516f79f720a",
   "metadata": {
    "tags": []
   },
   "outputs": [],
   "source": [
    "#dump_clean_speeches()"
   ]
  },
  {
   "cell_type": "code",
   "execution_count": 30,
   "id": "557fea5c-b992-471d-9616-bc0f6a6e7ff6",
   "metadata": {},
   "outputs": [],
   "source": [
    "def add_speech_id(inpath='data/dump/dump_speeches_cleaned.json', outpath='data/dump/dump_speeches_cleaned_gen2.json'):\n",
    "    with open(outpath, 'w', encoding='ascii') as out_file:\n",
    "        with open(inpath, 'r', encoding='ascii') as in_file:\n",
    "            for (i,line),id_speech in zip(enumerate(in_file),speeches_df.iloc[::-1].id_speech):\n",
    "                doc = json.loads(line)\n",
    "                obj = {'id_speech':id_speech ,'doc':doc}\n",
    "                \n",
    "                json.dump(obj,out_file)\n",
    "                out_file.write('\\n')"
   ]
  },
  {
   "cell_type": "code",
   "execution_count": 31,
   "id": "9f2adb56-7d2a-45cd-8114-c578ac03f771",
   "metadata": {},
   "outputs": [],
   "source": [
    "#add_speech_id()"
   ]
  },
  {
   "cell_type": "markdown",
   "id": "09317ad3-2735-4fd0-9370-7e2a276af1a5",
   "metadata": {},
   "source": [
    "### Preprocessing Pt. 2\n",
    "\n",
    "Get term frequencies to find out data set specific stop words. E.g. \"Herrn\", \"Kollegeinnen\", \"Präsident\", \"Artikel\""
   ]
  },
  {
   "cell_type": "code",
   "execution_count": 32,
   "id": "ea8c8be4-83b6-4923-aa93-7deb92b1a4f1",
   "metadata": {},
   "outputs": [],
   "source": [
    "def get_termfrequencies(iterable_of_docs):\n",
    "    term_frequencies = {}\n",
    "    for doc in iterable_of_docs:\n",
    "        for term in doc:\n",
    "            if term in term_frequencies:\n",
    "                term_frequencies[term] += 1\n",
    "            else:\n",
    "                term_frequencies[term] = 1\n",
    "    return term_frequencies"
   ]
  },
  {
   "cell_type": "code",
   "execution_count": 33,
   "id": "15e1599b-2af8-4066-8fca-8c5a38c58b0a",
   "metadata": {},
   "outputs": [],
   "source": [
    "def iter_jsonlines_file(fpath):\n",
    "    with open(fpath, 'r', encoding='ascii') as in_file:\n",
    "        for line in in_file:\n",
    "            yield json.loads(line)"
   ]
  },
  {
   "cell_type": "code",
   "execution_count": 34,
   "id": "cc9f1fd7-d4b9-4332-8065-98e6bde7e367",
   "metadata": {},
   "outputs": [],
   "source": [
    "#tf = get_termfrequencies(iter_jsonlines_file('data/dump/dump_speeches_cleaned.json'))\n",
    "#tfs = pd.Series(tf)\n",
    "#list( tfs.sort_values(ascending=False).head(200).index )"
   ]
  },
  {
   "cell_type": "markdown",
   "id": "9d5b32e4-b273-42dd-a938-40de97fc21f0",
   "metadata": {},
   "source": [
    "### LDA\n",
    "\n",
    "Using gensim: https://radimrehurek.com/gensim/auto_examples/tutorials/run_lda.html\n",
    "\n",
    "Steps:\n",
    "\n",
    "- Filter small documents (e.g. smaller than 10 tokens)\n",
    "- Filter small tokens (1-2 characters)\n",
    "- Convert to lowercase\n",
    "- (Add bigrams)\n",
    "- Remove rare and common tokens\n",
    "- Vectorize (BOW style)\n",
    "- LDA (Inspect, Visualize)"
   ]
  },
  {
   "cell_type": "code",
   "execution_count": 35,
   "id": "8ae9d2e8-6dce-46b1-b2f7-0d15d0fb4fc5",
   "metadata": {},
   "outputs": [],
   "source": [
    "import logging\n",
    "logging.basicConfig(format='%(asctime)s : %(levelname)s : %(message)s', level=logging.INFO)"
   ]
  },
  {
   "cell_type": "markdown",
   "id": "3fba2ba7-6324-46a8-ad46-05623a6c4005",
   "metadata": {},
   "source": [
    "#### Load docs and filter small ones"
   ]
  },
  {
   "cell_type": "code",
   "execution_count": 36,
   "id": "549b03ad-1c64-4551-bcc9-9623fb0e3d26",
   "metadata": {},
   "outputs": [],
   "source": [
    "def iter_docs(fpath, exclude_doc_len=15, exclude_tok_len=2):\n",
    "    \"\"\"load docs from json lines and return generator of docs\n",
    "    exclude_doc_len : int; exclude docs with less than given tokens\n",
    "    exclude_tok_len : int; exclude tokens with less than given characters\"\"\"\n",
    "    for i,obj in enumerate(iter_jsonlines_file(fpath)):\n",
    "        doc = obj['doc']\n",
    "        doc = [ token.lower() for token in doc if len(token)>=exclude_tok_len ]\n",
    "        if len(doc) >= exclude_doc_len:\n",
    "            yield doc"
   ]
  },
  {
   "cell_type": "code",
   "execution_count": 37,
   "id": "604f1063-cf45-48f7-884b-40357861ed7a",
   "metadata": {},
   "outputs": [],
   "source": [
    "docs = list( iter_docs('data/dump/dump_speeches_cleaned_gen2.json') )"
   ]
  },
  {
   "cell_type": "code",
   "execution_count": 38,
   "id": "eaf02f6f-c8ea-4180-89b2-e0122dc49c81",
   "metadata": {},
   "outputs": [
    {
     "data": {
      "text/plain": [
       "(486612, 12515)"
      ]
     },
     "execution_count": 38,
     "metadata": {},
     "output_type": "execute_result"
    }
   ],
   "source": [
    "len(docs), max((len(doc) for doc in docs))"
   ]
  },
  {
   "cell_type": "code",
   "execution_count": 39,
   "id": "643a8d42-f7b3-4269-b043-53e34e804831",
   "metadata": {},
   "outputs": [
    {
     "data": {
      "text/plain": [
       "['frau', 'präsidentin', 'lieben', 'kollegin', 'kollege']"
      ]
     },
     "execution_count": 39,
     "metadata": {},
     "output_type": "execute_result"
    }
   ],
   "source": [
    "docs[0][:5]"
   ]
  },
  {
   "cell_type": "markdown",
   "id": "a2474c30-781e-4e96-a3b2-f50473f32e5b",
   "metadata": {},
   "source": [
    "#### Add bigrams"
   ]
  },
  {
   "cell_type": "code",
   "execution_count": 40,
   "id": "2eb97035-9064-462c-9c2a-282622b56ea0",
   "metadata": {},
   "outputs": [],
   "source": [
    "from gensim.models import Phrases"
   ]
  },
  {
   "cell_type": "code",
   "execution_count": 41,
   "id": "f2a9a1c9-9895-4849-b3d1-9c7499336247",
   "metadata": {},
   "outputs": [
    {
     "name": "stderr",
     "output_type": "stream",
     "text": [
      "2021-06-09 17:42:11,160 : INFO : collecting all words and their counts\n",
      "2021-06-09 17:42:11,161 : INFO : PROGRESS: at sentence #0, processed 0 words and 0 word types\n",
      "2021-06-09 17:42:14,345 : INFO : PROGRESS: at sentence #10000, processed 1734090 words and 1266156 word types\n",
      "2021-06-09 17:42:17,859 : INFO : PROGRESS: at sentence #20000, processed 3514061 words and 2288265 word types\n",
      "2021-06-09 17:42:21,411 : INFO : PROGRESS: at sentence #30000, processed 5271878 words and 3179713 word types\n",
      "2021-06-09 17:42:25,196 : INFO : PROGRESS: at sentence #40000, processed 7226238 words and 4047188 word types\n",
      "2021-06-09 17:42:29,161 : INFO : PROGRESS: at sentence #50000, processed 9171587 words and 4872167 word types\n",
      "2021-06-09 17:42:34,040 : INFO : PROGRESS: at sentence #60000, processed 11238463 words and 5636484 word types\n",
      "2021-06-09 17:42:38,823 : INFO : PROGRESS: at sentence #70000, processed 13293749 words and 6474485 word types\n",
      "2021-06-09 17:42:42,583 : INFO : PROGRESS: at sentence #80000, processed 15182539 words and 7210006 word types\n",
      "2021-06-09 17:42:46,413 : INFO : PROGRESS: at sentence #90000, processed 17115383 words and 7927176 word types\n",
      "2021-06-09 17:42:50,497 : INFO : PROGRESS: at sentence #100000, processed 19165524 words and 8658578 word types\n",
      "2021-06-09 17:42:54,350 : INFO : PROGRESS: at sentence #110000, processed 21089766 words and 9354185 word types\n",
      "2021-06-09 17:42:58,228 : INFO : PROGRESS: at sentence #120000, processed 23041626 words and 10010401 word types\n",
      "2021-06-09 17:43:02,156 : INFO : PROGRESS: at sentence #130000, processed 24970826 words and 10655776 word types\n",
      "2021-06-09 17:43:06,962 : INFO : PROGRESS: at sentence #140000, processed 26995013 words and 11326768 word types\n",
      "2021-06-09 17:43:10,866 : INFO : PROGRESS: at sentence #150000, processed 28977352 words and 11992943 word types\n",
      "2021-06-09 17:43:14,816 : INFO : PROGRESS: at sentence #160000, processed 30964984 words and 12666589 word types\n",
      "2021-06-09 17:43:18,454 : INFO : PROGRESS: at sentence #170000, processed 32811419 words and 13294235 word types\n",
      "2021-06-09 17:43:22,595 : INFO : PROGRESS: at sentence #180000, processed 34846681 words and 13958402 word types\n",
      "2021-06-09 17:43:26,314 : INFO : PROGRESS: at sentence #190000, processed 36700806 words and 14575675 word types\n",
      "2021-06-09 17:43:29,734 : INFO : PROGRESS: at sentence #200000, processed 38409645 words and 15149588 word types\n",
      "2021-06-09 17:43:33,221 : INFO : PROGRESS: at sentence #210000, processed 40141523 words and 15737134 word types\n",
      "2021-06-09 17:43:36,636 : INFO : PROGRESS: at sentence #220000, processed 41789270 words and 16305154 word types\n",
      "2021-06-09 17:43:40,523 : INFO : PROGRESS: at sentence #230000, processed 43586452 words and 16903768 word types\n",
      "2021-06-09 17:43:44,218 : INFO : PROGRESS: at sentence #240000, processed 45377336 words and 17489755 word types\n",
      "2021-06-09 17:43:47,789 : INFO : PROGRESS: at sentence #250000, processed 47016096 words and 18043894 word types\n",
      "2021-06-09 17:43:51,200 : INFO : PROGRESS: at sentence #260000, processed 48611130 words and 18576276 word types\n",
      "2021-06-09 17:43:54,475 : INFO : PROGRESS: at sentence #270000, processed 50153058 words and 19080706 word types\n",
      "2021-06-09 17:43:57,303 : INFO : PROGRESS: at sentence #280000, processed 51494118 words and 19508927 word types\n",
      "2021-06-09 17:44:00,432 : INFO : PROGRESS: at sentence #290000, processed 52946559 words and 19982880 word types\n",
      "2021-06-09 17:44:03,647 : INFO : PROGRESS: at sentence #300000, processed 54461879 words and 20457736 word types\n",
      "2021-06-09 17:44:06,468 : INFO : PROGRESS: at sentence #310000, processed 55785836 words and 20868170 word types\n",
      "2021-06-09 17:44:10,031 : INFO : PROGRESS: at sentence #320000, processed 57352780 words and 21358091 word types\n",
      "2021-06-09 17:44:12,817 : INFO : PROGRESS: at sentence #330000, processed 58680015 words and 21771114 word types\n",
      "2021-06-09 17:44:15,942 : INFO : PROGRESS: at sentence #340000, processed 60150368 words and 22198630 word types\n",
      "2021-06-09 17:44:24,512 : INFO : PROGRESS: at sentence #350000, processed 61437530 words and 22574970 word types\n",
      "2021-06-09 17:44:27,777 : INFO : PROGRESS: at sentence #360000, processed 62798736 words and 22969568 word types\n",
      "2021-06-09 17:44:30,525 : INFO : PROGRESS: at sentence #370000, processed 63936410 words and 23290448 word types\n",
      "2021-06-09 17:44:33,700 : INFO : PROGRESS: at sentence #380000, processed 65270844 words and 23655241 word types\n",
      "2021-06-09 17:44:36,734 : INFO : PROGRESS: at sentence #390000, processed 66590845 words and 24012319 word types\n",
      "2021-06-09 17:44:39,577 : INFO : PROGRESS: at sentence #400000, processed 67803343 words and 24342980 word types\n",
      "2021-06-09 17:44:42,515 : INFO : PROGRESS: at sentence #410000, processed 69077212 words and 24703304 word types\n",
      "2021-06-09 17:44:45,145 : INFO : PROGRESS: at sentence #420000, processed 70213748 words and 25024190 word types\n",
      "2021-06-09 17:44:47,688 : INFO : PROGRESS: at sentence #430000, processed 71326406 words and 25338116 word types\n",
      "2021-06-09 17:44:50,812 : INFO : PROGRESS: at sentence #440000, processed 72737229 words and 25736150 word types\n",
      "2021-06-09 17:44:54,683 : INFO : PROGRESS: at sentence #450000, processed 74537681 words and 26245814 word types\n",
      "2021-06-09 17:44:59,157 : INFO : PROGRESS: at sentence #460000, processed 76643072 words and 26816530 word types\n",
      "2021-06-09 17:45:03,910 : INFO : PROGRESS: at sentence #470000, processed 78911136 words and 27436312 word types\n",
      "2021-06-09 17:45:08,481 : INFO : PROGRESS: at sentence #480000, processed 81075257 words and 28026766 word types\n",
      "2021-06-09 17:45:11,602 : INFO : collected 28428600 token types (unigram + bigrams) from a corpus of 82559593 words and 486612 sentences\n",
      "2021-06-09 17:45:11,603 : INFO : merged Phrases<28428600 vocab, min_count=20, threshold=10.0, max_vocab_size=40000000>\n",
      "2021-06-09 17:45:11,611 : INFO : Phrases lifecycle event {'msg': 'built Phrases<28428600 vocab, min_count=20, threshold=10.0, max_vocab_size=40000000> in 180.45s', 'datetime': '2021-06-09T17:45:11.610122', 'gensim': '4.0.1', 'python': '3.8.10 (default, May 19 2021, 13:12:57) [MSC v.1916 64 bit (AMD64)]', 'platform': 'Windows-10-10.0.19042-SP0', 'event': 'created'}\n"
     ]
    }
   ],
   "source": [
    "# Add bigrams and trigrams to docs (only ones that appear 20 times or more).\n",
    "bigram = Phrases(docs, min_count=20)\n",
    "for idx in range(len(docs)):\n",
    "    for token in bigram[docs[idx]]:\n",
    "        if '_' in token:\n",
    "            # Token is a bigram, add to document.\n",
    "            docs[idx].append(token)"
   ]
  },
  {
   "cell_type": "code",
   "execution_count": 53,
   "id": "85b9c685-3ca4-41fb-a9bc-1d0efccaf0c5",
   "metadata": {},
   "outputs": [
    {
     "data": {
      "text/plain": [
       "['aktuelle_stunde',\n",
       " 'hass_hetze',\n",
       " 'unwahrheiten_verbreiten',\n",
       " 'sinn_wünsche',\n",
       " 'schön_wochenend']"
      ]
     },
     "execution_count": 53,
     "metadata": {},
     "output_type": "execute_result"
    }
   ],
   "source": [
    "docs[0][-5:]"
   ]
  },
  {
   "cell_type": "code",
   "execution_count": null,
   "id": "0cbcdb9f-97ea-4512-8b23-a91d74fa5e42",
   "metadata": {},
   "outputs": [],
   "source": []
  }
 ],
 "metadata": {
  "kernelspec": {
   "display_name": "Python 3",
   "language": "python",
   "name": "python3"
  },
  "language_info": {
   "codemirror_mode": {
    "name": "ipython",
    "version": 3
   },
   "file_extension": ".py",
   "mimetype": "text/x-python",
   "name": "python",
   "nbconvert_exporter": "python",
   "pygments_lexer": "ipython3",
   "version": "3.8.10"
  }
 },
 "nbformat": 4,
 "nbformat_minor": 5
}
