{
 "cells": [
  {
   "cell_type": "markdown",
   "id": "31e64b3e-5fb8-4d55-8596-23d46f002c0a",
   "metadata": {},
   "source": [
    "# Topic modelling of Bundestag speeches\n",
    "\n",
    "Dataset from https://opendiscourse.de/\n",
    "\n",
    "> Richter, F.; Koch, P.; Franke, O.; Kraus, J.; Kuruc, F.; Thiem, A.; Högerl, J.; Heine, S.; Schöps, K. (2020). Open Discourse. https://doi.org/10.7910/DVN/FIKIBO. Harvard Dataverse. V3."
   ]
  },
  {
   "cell_type": "code",
   "execution_count": 1,
   "id": "753f0c1d-8d00-4898-83f3-f1533e146417",
   "metadata": {},
   "outputs": [],
   "source": [
    "import numpy as np\n",
    "import pandas as pd\n",
    "import matplotlib.pyplot as plt\n",
    "import seaborn as sns"
   ]
  },
  {
   "cell_type": "code",
   "execution_count": 2,
   "id": "8aae6e22-818b-4039-95d0-9dd791ca8fd8",
   "metadata": {},
   "outputs": [],
   "source": [
    "import re\n",
    "import spacy\n",
    "# from spacy.lang.de.stop_words import STOP_WORDS as STOP_WORDS_DE"
   ]
  },
  {
   "cell_type": "code",
   "execution_count": 3,
   "id": "8ea1706d-e7e7-47ea-a26c-6286fcba5edc",
   "metadata": {},
   "outputs": [],
   "source": [
    "import pyarrow.feather as feather\n",
    "import json"
   ]
  },
  {
   "cell_type": "code",
   "execution_count": 4,
   "id": "b6966a23-37ce-4aa0-b186-1dbaf8f069bd",
   "metadata": {},
   "outputs": [],
   "source": [
    "from IPython.display import clear_output"
   ]
  },
  {
   "cell_type": "code",
   "execution_count": 5,
   "id": "730502e8-fe17-439f-ab2b-5ab81ca9a0b3",
   "metadata": {},
   "outputs": [],
   "source": [
    "plt.rcParams['figure.figsize'] = (14,5)"
   ]
  },
  {
   "cell_type": "markdown",
   "id": "10ec8f05-d1da-42c9-b980-33ba43069574",
   "metadata": {},
   "source": [
    "## Load Data\n",
    "\n",
    "*Data in feather format https://arrow.apache.org/docs/python/feather.html*"
   ]
  },
  {
   "cell_type": "code",
   "execution_count": 6,
   "id": "81d413a4-3e17-4267-9bb5-5910eb497a9e",
   "metadata": {},
   "outputs": [],
   "source": [
    "speeches_df = feather.read_feather('data/opendiscourse/feather/speeches.feather')\n",
    "fractions_df = feather.read_feather('data/opendiscourse/feather/factions.feather')\n",
    "#contributions_df = feather.read_feather('data/opendiscourse/feather/contributions_extended.feather')"
   ]
  },
  {
   "cell_type": "markdown",
   "id": "22734c99-16c6-446d-bb1e-bcd896c334a8",
   "metadata": {},
   "source": [
    "## Prepare Data"
   ]
  },
  {
   "cell_type": "code",
   "execution_count": 7,
   "id": "88e7d142-2c3e-4ee3-9519-4fcda84daa51",
   "metadata": {},
   "outputs": [],
   "source": [
    "#fractions_df.replace(to_replace='not found', value=np.nan, inplace=True)\n",
    "fractions_df.rename(columns={'abbreviation':'fraction', 'fullName':'fractionFullName'}, inplace=True)"
   ]
  },
  {
   "cell_type": "code",
   "execution_count": 8,
   "id": "4dbf6ac0-d8a5-4801-bf98-fbf6851082b1",
   "metadata": {},
   "outputs": [
    {
     "data": {
      "text/html": [
       "<div>\n",
       "<style scoped>\n",
       "    .dataframe tbody tr th:only-of-type {\n",
       "        vertical-align: middle;\n",
       "    }\n",
       "\n",
       "    .dataframe tbody tr th {\n",
       "        vertical-align: top;\n",
       "    }\n",
       "\n",
       "    .dataframe thead th {\n",
       "        text-align: right;\n",
       "    }\n",
       "</style>\n",
       "<table border=\"1\" class=\"dataframe\">\n",
       "  <thead>\n",
       "    <tr style=\"text-align: right;\">\n",
       "      <th></th>\n",
       "      <th>id</th>\n",
       "      <th>fraction</th>\n",
       "      <th>fractionFullName</th>\n",
       "    </tr>\n",
       "  </thead>\n",
       "  <tbody>\n",
       "    <tr>\n",
       "      <th>0</th>\n",
       "      <td>-1</td>\n",
       "      <td>not found</td>\n",
       "      <td>not found</td>\n",
       "    </tr>\n",
       "    <tr>\n",
       "      <th>1</th>\n",
       "      <td>0</td>\n",
       "      <td>AfD</td>\n",
       "      <td>Alternative für Deutschland</td>\n",
       "    </tr>\n",
       "    <tr>\n",
       "      <th>2</th>\n",
       "      <td>1</td>\n",
       "      <td>BHE</td>\n",
       "      <td>Block der Heimatvertriebenen und Entrechteten</td>\n",
       "    </tr>\n",
       "    <tr>\n",
       "      <th>3</th>\n",
       "      <td>2</td>\n",
       "      <td>BP</td>\n",
       "      <td>Bayernpartei</td>\n",
       "    </tr>\n",
       "    <tr>\n",
       "      <th>4</th>\n",
       "      <td>3</td>\n",
       "      <td>Grüne</td>\n",
       "      <td>Bündnis 90/Die Grünen</td>\n",
       "    </tr>\n",
       "  </tbody>\n",
       "</table>\n",
       "</div>"
      ],
      "text/plain": [
       "   id   fraction                               fractionFullName\n",
       "0  -1  not found                                      not found\n",
       "1   0        AfD                    Alternative für Deutschland\n",
       "2   1        BHE  Block der Heimatvertriebenen und Entrechteten\n",
       "3   2         BP                                   Bayernpartei\n",
       "4   3      Grüne                          Bündnis 90/Die Grünen"
      ]
     },
     "execution_count": 8,
     "metadata": {},
     "output_type": "execute_result"
    }
   ],
   "source": [
    "fractions_df.head()"
   ]
  },
  {
   "cell_type": "code",
   "execution_count": 9,
   "id": "bf004164-d205-4624-ab25-0f833b3ea5ae",
   "metadata": {},
   "outputs": [],
   "source": [
    "speeches_df['speechLength'] = speeches_df['speechContent'].str.strip().str.len()\n",
    "speeches_df = speeches_df.merge(fractions_df, left_on='factionId', right_on='id', how='left', suffixes=('_speech','_fraction'))"
   ]
  },
  {
   "cell_type": "code",
   "execution_count": 10,
   "id": "05e9c5c3-9a3e-405d-8a46-7f54a825c794",
   "metadata": {},
   "outputs": [],
   "source": [
    "#speeches_df.head()"
   ]
  },
  {
   "cell_type": "markdown",
   "id": "111e051c-568a-4f50-9fea-51e1ac2c3225",
   "metadata": {},
   "source": [
    "Get rid of contribution (Zwischenrufe) symbols like `({1})`"
   ]
  },
  {
   "cell_type": "code",
   "execution_count": 11,
   "id": "ecd4eb80-2bca-4996-99aa-4917cf78fdb2",
   "metadata": {},
   "outputs": [
    {
     "name": "stdout",
     "output_type": "stream",
     "text": [
      "... Vielen Dank. – Frau Präsidentin! Liebe Kolleginnen und Kollegen! Meine Damen und Herren! Bereits im Januar 2021 hatten wir eine Aktuelle Stunde zu genau dem gleichen Thema. Damals ging es um Trump und die Sperrung seines Facebook-Accounts. Heute sollen wir hier im Parlament Kulisse für die Spitzenkandidatur von Frau Cotar für die bevorstehende Bundestagswahl sein. Das ist also alles sehr durchschaubar.\n",
      "\n",
      "({0})\n",
      "\n",
      "Regelmäßig versucht die AfD mit untauglichen Argumenten, die Meinungsfreiheit in unserem Land zu diskreditieren; das erleben wir auch wieder in dieser Aktuellen Stunde. Lassen Sie mich als letzten Redner in dieser Debatte die schlimmsten Falschaussagen hier kurz richtigstellen.\n",
      "\n",
      "Frau Cotar, von Ihnen kam der erste Redebeitrag. Sie sprachen von „Meinungsdiktatur 2021“. Völliger Blödsinn!\n",
      "\n",
      "({1})\n",
      "\n",
      "Die Meinungsdiktatur von rechts haben wir 1945 beendet – ich erinnere an den morgigen Tag der Befreiung, den die AfD natürlich bezeichnenderweise nicht begeht –, und die Meinungsdiktatur ...\n"
     ]
    }
   ],
   "source": [
    "print('...', speeches_df.iloc[-1]['speechContent'][:1000].strip(), '...')"
   ]
  },
  {
   "cell_type": "code",
   "execution_count": 12,
   "id": "2853ac92-0831-433c-9f5d-2292cffa3a59",
   "metadata": {},
   "outputs": [],
   "source": [
    "speeches_df['speechContentInclContributions'] = speeches_df['speechContent']\n",
    "speeches_df['speechContent'] = speeches_df['speechContent'].str.replace(pat=r\"\\(\\s*\\{\\s*\\d*\\s*\\}\\s*\\)\", repl='', regex=True)"
   ]
  },
  {
   "cell_type": "code",
   "execution_count": 13,
   "id": "0c8b4ebd-d73b-455e-a092-ab7b6aba30c0",
   "metadata": {},
   "outputs": [
    {
     "data": {
      "text/html": [
       "<div>\n",
       "<style scoped>\n",
       "    .dataframe tbody tr th:only-of-type {\n",
       "        vertical-align: middle;\n",
       "    }\n",
       "\n",
       "    .dataframe tbody tr th {\n",
       "        vertical-align: top;\n",
       "    }\n",
       "\n",
       "    .dataframe thead th {\n",
       "        text-align: right;\n",
       "    }\n",
       "</style>\n",
       "<table border=\"1\" class=\"dataframe\">\n",
       "  <thead>\n",
       "    <tr style=\"text-align: right;\">\n",
       "      <th></th>\n",
       "      <th>id_speech</th>\n",
       "      <th>session</th>\n",
       "      <th>electoralTerm</th>\n",
       "      <th>firstName</th>\n",
       "      <th>lastName</th>\n",
       "      <th>politicianId</th>\n",
       "      <th>speechContent</th>\n",
       "      <th>factionId</th>\n",
       "      <th>documentUrl</th>\n",
       "      <th>positionShort</th>\n",
       "      <th>positionLong</th>\n",
       "      <th>date</th>\n",
       "      <th>speechLength</th>\n",
       "      <th>id_fraction</th>\n",
       "      <th>fraction</th>\n",
       "      <th>fractionFullName</th>\n",
       "      <th>speechContentInclContributions</th>\n",
       "    </tr>\n",
       "  </thead>\n",
       "  <tbody>\n",
       "    <tr>\n",
       "      <th>0</th>\n",
       "      <td>0</td>\n",
       "      <td>2</td>\n",
       "      <td>1</td>\n",
       "      <td></td>\n",
       "      <td>Köhler</td>\n",
       "      <td>11001150</td>\n",
       "      <td>Meine Damen und Herren! Ich eröffne die 2. Sit...</td>\n",
       "      <td>-1</td>\n",
       "      <td>https://dip21.bundestag.de/dip21/btp/01/01002.pdf</td>\n",
       "      <td>Presidium of Parliament</td>\n",
       "      <td>präsident</td>\n",
       "      <td>1949-09-12</td>\n",
       "      <td>546</td>\n",
       "      <td>-1</td>\n",
       "      <td>not found</td>\n",
       "      <td>not found</td>\n",
       "      <td>Meine Damen und Herren! Ich eröffne die 2. Sit...</td>\n",
       "    </tr>\n",
       "    <tr>\n",
       "      <th>1</th>\n",
       "      <td>1</td>\n",
       "      <td>2</td>\n",
       "      <td>1</td>\n",
       "      <td></td>\n",
       "      <td>Arnold</td>\n",
       "      <td>-1</td>\n",
       "      <td>Der Bundesrat ist versammelt, Herr Präsident.\\n</td>\n",
       "      <td>-1</td>\n",
       "      <td>https://dip21.bundestag.de/dip21/btp/01/01002.pdf</td>\n",
       "      <td>Guest</td>\n",
       "      <td>präsident des bundesrats</td>\n",
       "      <td>1949-09-12</td>\n",
       "      <td>45</td>\n",
       "      <td>-1</td>\n",
       "      <td>not found</td>\n",
       "      <td>not found</td>\n",
       "      <td>Der Bundesrat ist versammelt, Herr Präsident.\\n</td>\n",
       "    </tr>\n",
       "    <tr>\n",
       "      <th>2</th>\n",
       "      <td>2</td>\n",
       "      <td>2</td>\n",
       "      <td>1</td>\n",
       "      <td></td>\n",
       "      <td>Köhler</td>\n",
       "      <td>11001150</td>\n",
       "      <td>Ich danke für diese Erklärung. Ich stelle dami...</td>\n",
       "      <td>-1</td>\n",
       "      <td>https://dip21.bundestag.de/dip21/btp/01/01002.pdf</td>\n",
       "      <td>Presidium of Parliament</td>\n",
       "      <td>präsident</td>\n",
       "      <td>1949-09-12</td>\n",
       "      <td>901</td>\n",
       "      <td>-1</td>\n",
       "      <td>not found</td>\n",
       "      <td>not found</td>\n",
       "      <td>Ich danke für diese Erklärung. Ich stelle dami...</td>\n",
       "    </tr>\n",
       "    <tr>\n",
       "      <th>3</th>\n",
       "      <td>3</td>\n",
       "      <td>2</td>\n",
       "      <td>1</td>\n",
       "      <td></td>\n",
       "      <td>Heuss</td>\n",
       "      <td>-1</td>\n",
       "      <td>Ja, ich habe den Wunsch.\\n</td>\n",
       "      <td>-1</td>\n",
       "      <td>https://dip21.bundestag.de/dip21/btp/01/01002.pdf</td>\n",
       "      <td>Guest</td>\n",
       "      <td>bundespräsident</td>\n",
       "      <td>1949-09-12</td>\n",
       "      <td>24</td>\n",
       "      <td>-1</td>\n",
       "      <td>not found</td>\n",
       "      <td>not found</td>\n",
       "      <td>Ja, ich habe den Wunsch.\\n</td>\n",
       "    </tr>\n",
       "    <tr>\n",
       "      <th>4</th>\n",
       "      <td>4</td>\n",
       "      <td>2</td>\n",
       "      <td>1</td>\n",
       "      <td></td>\n",
       "      <td>Köhler</td>\n",
       "      <td>11001150</td>\n",
       "      <td>Ich erteile dem Herrn Bundespräsidenten das Wo...</td>\n",
       "      <td>-1</td>\n",
       "      <td>https://dip21.bundestag.de/dip21/btp/01/01002.pdf</td>\n",
       "      <td>Presidium of Parliament</td>\n",
       "      <td>präsident</td>\n",
       "      <td>1949-09-12</td>\n",
       "      <td>49</td>\n",
       "      <td>-1</td>\n",
       "      <td>not found</td>\n",
       "      <td>not found</td>\n",
       "      <td>Ich erteile dem Herrn Bundespräsidenten das Wo...</td>\n",
       "    </tr>\n",
       "  </tbody>\n",
       "</table>\n",
       "</div>"
      ],
      "text/plain": [
       "   id_speech  session  electoralTerm firstName lastName  politicianId  \\\n",
       "0          0        2              1             Köhler      11001150   \n",
       "1          1        2              1             Arnold            -1   \n",
       "2          2        2              1             Köhler      11001150   \n",
       "3          3        2              1              Heuss            -1   \n",
       "4          4        2              1             Köhler      11001150   \n",
       "\n",
       "                                       speechContent  factionId  \\\n",
       "0  Meine Damen und Herren! Ich eröffne die 2. Sit...         -1   \n",
       "1    Der Bundesrat ist versammelt, Herr Präsident.\\n         -1   \n",
       "2  Ich danke für diese Erklärung. Ich stelle dami...         -1   \n",
       "3                         Ja, ich habe den Wunsch.\\n         -1   \n",
       "4  Ich erteile dem Herrn Bundespräsidenten das Wo...         -1   \n",
       "\n",
       "                                         documentUrl            positionShort  \\\n",
       "0  https://dip21.bundestag.de/dip21/btp/01/01002.pdf  Presidium of Parliament   \n",
       "1  https://dip21.bundestag.de/dip21/btp/01/01002.pdf                    Guest   \n",
       "2  https://dip21.bundestag.de/dip21/btp/01/01002.pdf  Presidium of Parliament   \n",
       "3  https://dip21.bundestag.de/dip21/btp/01/01002.pdf                    Guest   \n",
       "4  https://dip21.bundestag.de/dip21/btp/01/01002.pdf  Presidium of Parliament   \n",
       "\n",
       "               positionLong        date  speechLength  id_fraction   fraction  \\\n",
       "0                 präsident  1949-09-12           546           -1  not found   \n",
       "1  präsident des bundesrats  1949-09-12            45           -1  not found   \n",
       "2                 präsident  1949-09-12           901           -1  not found   \n",
       "3           bundespräsident  1949-09-12            24           -1  not found   \n",
       "4                 präsident  1949-09-12            49           -1  not found   \n",
       "\n",
       "  fractionFullName                     speechContentInclContributions  \n",
       "0        not found  Meine Damen und Herren! Ich eröffne die 2. Sit...  \n",
       "1        not found    Der Bundesrat ist versammelt, Herr Präsident.\\n  \n",
       "2        not found  Ich danke für diese Erklärung. Ich stelle dami...  \n",
       "3        not found                         Ja, ich habe den Wunsch.\\n  \n",
       "4        not found  Ich erteile dem Herrn Bundespräsidenten das Wo...  "
      ]
     },
     "execution_count": 13,
     "metadata": {},
     "output_type": "execute_result"
    }
   ],
   "source": [
    "speeches_df.head()"
   ]
  },
  {
   "cell_type": "markdown",
   "id": "05f8a554-ea25-4f77-a043-5675877e3415",
   "metadata": {},
   "source": [
    "## Basic Exploration"
   ]
  },
  {
   "cell_type": "code",
   "execution_count": 14,
   "id": "0619f5af-8acb-472a-8eb4-965e671d273a",
   "metadata": {},
   "outputs": [
    {
     "data": {
      "text/plain": [
       "(907644, 17)"
      ]
     },
     "execution_count": 14,
     "metadata": {},
     "output_type": "execute_result"
    }
   ],
   "source": [
    "speeches_df.shape"
   ]
  },
  {
   "cell_type": "code",
   "execution_count": 15,
   "id": "733938ec-48b5-4e96-9a19-c0db73c8dae3",
   "metadata": {},
   "outputs": [
    {
     "data": {
      "text/plain": [
       "<AxesSubplot:title={'center':'Mass of text'}, ylabel='fraction'>"
      ]
     },
     "execution_count": 15,
     "metadata": {},
     "output_type": "execute_result"
    },
    {
     "data": {
      "image/png": "[encoded data removed]",
      "text/plain": [
       "<Figure size 1008x360 with 1 Axes>"
      ]
     },
     "metadata": {
      "needs_background": "light"
     },
     "output_type": "display_data"
    }
   ],
   "source": [
    "speeches_df[['fraction', 'speechLength']].groupby('fraction').sum().sort_index(ascending=False).plot.barh(title=\"Mass of text\", legend=False)"
   ]
  },
  {
   "cell_type": "markdown",
   "id": "4032403e-63bf-41fa-83fe-60c43f03bd4f",
   "metadata": {},
   "source": [
    "Quite a few texts in \"not found\" fraction. This category contains also minister's speeches.\n",
    "\n",
    "Future TODO: They could be mapped to their parties using information about the governing parties at the time."
   ]
  },
  {
   "cell_type": "code",
   "execution_count": 16,
   "id": "d4142c49-e991-472a-be67-0c35ca36e9d4",
   "metadata": {},
   "outputs": [
    {
     "data": {
      "text/plain": [
       "Text(0.5, 0, 'Nth speech')"
      ]
     },
     "execution_count": 16,
     "metadata": {},
     "output_type": "execute_result"
    },
    {
     "data": {
      "image/png": "[encoded data removed]",
      "text/plain": [
       "<Figure size 1008x360 with 1 Axes>"
      ]
     },
     "metadata": {
      "needs_background": "light"
     },
     "output_type": "display_data"
    }
   ],
   "source": [
    "fig, ax = plt.subplots(figsize=(14,5))\n",
    "speeches_df['speechLength'].sort_values(ascending=False).reset_index()['speechLength'][:].plot.line(ax=ax)\n",
    "ax.set_ylabel('Length of speech')\n",
    "ax.set_xlabel('Nth speech')"
   ]
  },
  {
   "cell_type": "code",
   "execution_count": 17,
   "id": "36503638-ae46-4cb3-bcc1-3673bcc5ad64",
   "metadata": {},
   "outputs": [],
   "source": [
    "# longest_speech = speeches_df.sort_values(by='speechLength', ascending=False).iloc[0]['speechContent']"
   ]
  },
  {
   "cell_type": "markdown",
   "id": "e8b09335-9f90-46e2-988b-a9b2fecc982a",
   "metadata": {},
   "source": [
    "## Topic Modelling\n",
    "\n",
    "### Preprocessing Pt. 1\n",
    "\n",
    "- Load Documents\n",
    "- Split into words\n",
    "- Remove stop words, punctuation and other symbols.\n",
    "- Lemmatization or Stemming\n",
    "\n",
    "After that use topic modelling algorithm **LDA** available with gensim."
   ]
  },
  {
   "cell_type": "code",
   "execution_count": 18,
   "id": "0854d801-db63-45bf-835e-d5f5b2e01066",
   "metadata": {},
   "outputs": [],
   "source": [
    "# STOP_WORDS_DE\n",
    "# spacy.lang.de.stop_words.STOP_WORDS"
   ]
  },
  {
   "cell_type": "code",
   "execution_count": 19,
   "id": "69552bae-a6ba-4b6a-923d-8b83ce6c1ac0",
   "metadata": {},
   "outputs": [],
   "source": [
    "nlp = spacy.load('de_core_news_lg') # install beforehand with: python -m spacy download de_core_news_lg"
   ]
  },
  {
   "cell_type": "code",
   "execution_count": 20,
   "id": "01a716ca-cbb7-4bb4-9730-171240c4d56d",
   "metadata": {},
   "outputs": [],
   "source": [
    "test_text = 'Hallo, ich bin ein Vorratsdatenspeicherer! \\tDas ist ein Bindestrich-Wort.\\r\\nWäre das ein Satz, welcher gut klingt? Das sind zehntausend 123 und die 111. Möglichkeit.'"
   ]
  },
  {
   "cell_type": "code",
   "execution_count": 21,
   "id": "c31d2ff0-4669-41a2-a1ba-90c368fa23d2",
   "metadata": {},
   "outputs": [
    {
     "name": "stdout",
     "output_type": "stream",
     "text": [
      "lemma 'Hallo'\t\t\tstopword \"False\"\t\t\tpart-of-speech \"PART\"\n",
      "lemma ','\t\t\tstopword \"False\"\t\t\tpart-of-speech \"PUNCT\"\n",
      "lemma 'ich'\t\t\tstopword \"True\"\t\t\tpart-of-speech \"PRON\"\n",
      "lemma 'sein'\t\t\tstopword \"True\"\t\t\tpart-of-speech \"AUX\"\n",
      "lemma 'einen'\t\t\tstopword \"True\"\t\t\tpart-of-speech \"DET\"\n",
      "lemma 'Vorratsdatenspeicherer'\t\t\tstopword \"False\"\t\t\tpart-of-speech \"NOUN\"\n",
      "lemma '!'\t\t\tstopword \"False\"\t\t\tpart-of-speech \"PUNCT\"\n",
      "lemma '\\t'\t\t\tstopword \"False\"\t\t\tpart-of-speech \"SPACE\"\n",
      "lemma 'der'\t\t\tstopword \"True\"\t\t\tpart-of-speech \"PRON\"\n",
      "lemma 'sein'\t\t\tstopword \"True\"\t\t\tpart-of-speech \"AUX\"\n",
      "lemma 'einen'\t\t\tstopword \"True\"\t\t\tpart-of-speech \"DET\"\n",
      "lemma 'Bindestrich-Wort'\t\t\tstopword \"False\"\t\t\tpart-of-speech \"NOUN\"\n",
      "lemma '.'\t\t\tstopword \"False\"\t\t\tpart-of-speech \"PUNCT\"\n",
      "lemma '\\r\\n'\t\t\tstopword \"False\"\t\t\tpart-of-speech \"SPACE\"\n",
      "lemma 'sein'\t\t\tstopword \"True\"\t\t\tpart-of-speech \"AUX\"\n",
      "lemma 'der'\t\t\tstopword \"True\"\t\t\tpart-of-speech \"PRON\"\n",
      "lemma 'einen'\t\t\tstopword \"True\"\t\t\tpart-of-speech \"DET\"\n",
      "lemma 'Satz'\t\t\tstopword \"False\"\t\t\tpart-of-speech \"NOUN\"\n",
      "lemma ','\t\t\tstopword \"False\"\t\t\tpart-of-speech \"PUNCT\"\n",
      "lemma 'welch'\t\t\tstopword \"True\"\t\t\tpart-of-speech \"PRON\"\n",
      "lemma 'gut'\t\t\tstopword \"True\"\t\t\tpart-of-speech \"ADJ\"\n",
      "lemma 'klingen'\t\t\tstopword \"False\"\t\t\tpart-of-speech \"VERB\"\n",
      "lemma '?'\t\t\tstopword \"False\"\t\t\tpart-of-speech \"PUNCT\"\n",
      "lemma 'der'\t\t\tstopword \"True\"\t\t\tpart-of-speech \"PRON\"\n",
      "lemma 'sein'\t\t\tstopword \"True\"\t\t\tpart-of-speech \"AUX\"\n",
      "lemma 'zehntausend'\t\t\tstopword \"False\"\t\t\tpart-of-speech \"NUM\"\n",
      "lemma '123'\t\t\tstopword \"False\"\t\t\tpart-of-speech \"NUM\"\n",
      "lemma 'und'\t\t\tstopword \"True\"\t\t\tpart-of-speech \"CCONJ\"\n",
      "lemma 'der'\t\t\tstopword \"True\"\t\t\tpart-of-speech \"DET\"\n",
      "lemma '111.'\t\t\tstopword \"False\"\t\t\tpart-of-speech \"ADJ\"\n",
      "lemma 'Möglichkeit'\t\t\tstopword \"False\"\t\t\tpart-of-speech \"NOUN\"\n",
      "lemma '.'\t\t\tstopword \"False\"\t\t\tpart-of-speech \"PUNCT\"\n"
     ]
    }
   ],
   "source": [
    "doc = nlp(test_text)\n",
    "for t in doc:\n",
    "    # Token Attributes: https://spacy.io/api/token\n",
    "    print(f'lemma {repr(t.lemma_)}\\t\\t\\tstopword \"{t.is_stop}\"\\t\\t\\tpart-of-speech \"{t.pos_}\"')"
   ]
  },
  {
   "cell_type": "code",
   "execution_count": 22,
   "id": "061e470e-d1c0-4601-ac39-4b8d85460247",
   "metadata": {},
   "outputs": [],
   "source": [
    "def preprocess_for_topic_modelling(texts):\n",
    "    \"\"\"texts : iterable of str (doc text)\"\"\"\n",
    "    pos_blacklist = ('PUNCT','SYM','X','SPACE','NUM')\n",
    "    pattern_digits = re.compile(r\"\\d+\\.\")\n",
    "    \n",
    "    for doc in nlp.pipe(texts, batch_size=50):\n",
    "        r = []\n",
    "        for token in doc:\n",
    "            if (not token.is_stop\n",
    "                and token.pos_ not in pos_blacklist\n",
    "                and pattern_digits.fullmatch(token.lemma_) is None):\n",
    "                r.append(token.lemma_)\n",
    "        yield tuple(r)"
   ]
  },
  {
   "cell_type": "code",
   "execution_count": 23,
   "id": "dc0f826e-1e08-4f27-852d-d549e4933660",
   "metadata": {},
   "outputs": [
    {
     "data": {
      "text/plain": [
       "[('Hallo',\n",
       "  'Vorratsdatenspeicherer',\n",
       "  'Bindestrich-Wort',\n",
       "  'Satz',\n",
       "  'klingen',\n",
       "  'Möglichkeit')]"
      ]
     },
     "execution_count": 23,
     "metadata": {},
     "output_type": "execute_result"
    }
   ],
   "source": [
    "list( preprocess_for_topic_modelling([test_text]) )"
   ]
  },
  {
   "cell_type": "code",
   "execution_count": 24,
   "id": "e3fd67b5-9c87-4eaa-ad77-0398be0f355c",
   "metadata": {},
   "outputs": [
    {
     "name": "stdout",
     "output_type": "stream",
     "text": [
      "('Dame', 'Herr', 'eröffnen', 'Sitzung', 'Bundestag', 'Tagesordnung', 'nunmehr', 'Eidesleistung', 'Herrn', 'Bundespräsidenten', 'schreiten', 'Artikel', 'Grundgesetzes', 'leisten', 'Herr', 'Bundespräsident', 'Amtsantritt', 'versammeln', 'Mitglied', 'Bundestag', 'Bundesrats', 'Eid', 'stelle', 'fest', 'Grund', 'Namensaufrufs', 'Mitglied', 'Bundestag', 'versammeln', 'Herr', 'Präsident', 'Bundesrats', 'fragen', 'Sinn', 'Artikel', 'Bundesrat', 'versammeln')\n"
     ]
    }
   ],
   "source": [
    "for doc in preprocess_for_topic_modelling(speeches_df.speechContent):\n",
    "    print(doc)\n",
    "    break"
   ]
  },
  {
   "cell_type": "code",
   "execution_count": 25,
   "id": "2c6d8e49-de75-4a4b-a96f-d76ae175f419",
   "metadata": {},
   "outputs": [],
   "source": [
    "def transparent_iter(iterable, enabled=True):\n",
    "    for count,item in enumerate(iterable):\n",
    "        if enabled:\n",
    "            clear_output()\n",
    "            print(count)\n",
    "        yield item"
   ]
  },
  {
   "cell_type": "code",
   "execution_count": 26,
   "id": "78fbde56-1bc2-4225-865a-7dd73fc9985f",
   "metadata": {},
   "outputs": [],
   "source": [
    "#speech_docs = pd.Series(data=preprocess_for_topic_modelling(speeches_df.speechContent),\n",
    "#                        index=speeches_df.speechContent.index)\n",
    "\n",
    "#docs = tuple(preprocess_for_topic_modelling(transparent_enumerate(speeches_df.speechContent)))"
   ]
  },
  {
   "cell_type": "code",
   "execution_count": 27,
   "id": "4cf84b38-425a-4bb9-9648-03156fa442dd",
   "metadata": {},
   "outputs": [
    {
     "data": {
      "text/plain": [
       "(907644,)"
      ]
     },
     "execution_count": 27,
     "metadata": {},
     "output_type": "execute_result"
    }
   ],
   "source": [
    "speeches_df.speechContent.shape"
   ]
  },
  {
   "cell_type": "code",
   "execution_count": 28,
   "id": "c3b80e97-44a6-4478-8efc-75e3e35e21c4",
   "metadata": {
    "tags": []
   },
   "outputs": [],
   "source": [
    "def dump_clean_speeches():\n",
    "    with open('data/dump/dump_speeches_cleaned.json', 'w', encoding='ascii') as fp:\n",
    "        for doc in preprocess_for_topic_modelling(transparent_iter(speeches_df.iloc[::-1].speechContent)):\n",
    "            json.dump(doc,fp)\n",
    "            fp.write('\\n')"
   ]
  },
  {
   "cell_type": "code",
   "execution_count": 29,
   "id": "30c98bda-ea82-490c-975d-c516f79f720a",
   "metadata": {
    "tags": []
   },
   "outputs": [],
   "source": [
    "#dump_clean_speeches()"
   ]
  },
  {
   "cell_type": "code",
   "execution_count": 30,
   "id": "557fea5c-b992-471d-9616-bc0f6a6e7ff6",
   "metadata": {},
   "outputs": [],
   "source": [
    "def add_speech_id(inpath='data/dump/dump_speeches_cleaned.json', outpath='data/dump/dump_speeches_cleaned_gen2.json'):\n",
    "    with open(outpath, 'w', encoding='ascii') as out_file:\n",
    "        with open(inpath, 'r', encoding='ascii') as in_file:\n",
    "            for (i,line),id_speech in zip(enumerate(in_file),speeches_df.iloc[::-1].id_speech):\n",
    "                doc = json.loads(line)\n",
    "                obj = {'id_speech':id_speech ,'doc':doc}\n",
    "                \n",
    "                json.dump(obj,out_file)\n",
    "                out_file.write('\\n')"
   ]
  },
  {
   "cell_type": "code",
   "execution_count": 31,
   "id": "9f2adb56-7d2a-45cd-8114-c578ac03f771",
   "metadata": {},
   "outputs": [],
   "source": [
    "#add_speech_id()"
   ]
  },
  {
   "cell_type": "markdown",
   "id": "09317ad3-2735-4fd0-9370-7e2a276af1a5",
   "metadata": {},
   "source": [
    "### Preprocessing Pt. 2\n",
    "\n",
    "Get term frequencies to find out data set specific stop words. E.g. \"Herrn\", \"Kollegeinnen\", \"Präsident\", \"Artikel\""
   ]
  },
  {
   "cell_type": "code",
   "execution_count": 32,
   "id": "ea8c8be4-83b6-4923-aa93-7deb92b1a4f1",
   "metadata": {},
   "outputs": [],
   "source": [
    "def get_termfrequencies(iterable_of_docs):\n",
    "    term_frequencies = {}\n",
    "    for doc in iterable_of_docs:\n",
    "        for term in doc:\n",
    "            if term in term_frequencies:\n",
    "                term_frequencies[term] += 1\n",
    "            else:\n",
    "                term_frequencies[term] = 1\n",
    "    return term_frequencies"
   ]
  },
  {
   "cell_type": "code",
   "execution_count": 33,
   "id": "15e1599b-2af8-4066-8fca-8c5a38c58b0a",
   "metadata": {},
   "outputs": [],
   "source": [
    "def iter_jsonlines_file(fpath):\n",
    "    with open(fpath, 'r', encoding='ascii') as in_file:\n",
    "        for line in in_file:\n",
    "            yield json.loads(line)"
   ]
  },
  {
   "cell_type": "code",
   "execution_count": 34,
   "id": "cc9f1fd7-d4b9-4332-8065-98e6bde7e367",
   "metadata": {},
   "outputs": [],
   "source": [
    "#tf = get_termfrequencies(iter_jsonlines_file('data/dump/dump_speeches_cleaned.json'))\n",
    "#tfs = pd.Series(tf)\n",
    "#list( tfs.sort_values(ascending=False).head(200).index )"
   ]
  },
  {
   "cell_type": "markdown",
   "id": "9d5b32e4-b273-42dd-a938-40de97fc21f0",
   "metadata": {},
   "source": [
    "### LDA\n",
    "\n",
    "Using gensim: https://radimrehurek.com/gensim/auto_examples/tutorials/run_lda.html\n",
    "\n",
    "Steps:\n",
    "\n",
    "- Filter small documents (e.g. smaller than 10 tokens)\n",
    "- Filter small tokens (1-2 characters)\n",
    "- Convert to lowercase\n",
    "- (Add bigrams)\n",
    "- Remove rare and common tokens\n",
    "- Vectorize (BOW style)\n",
    "- LDA (Inspect, Visualize)"
   ]
  },
  {
   "cell_type": "code",
   "execution_count": 35,
   "id": "8ae9d2e8-6dce-46b1-b2f7-0d15d0fb4fc5",
   "metadata": {},
   "outputs": [],
   "source": [
    "import logging\n",
    "logging.basicConfig(format='%(asctime)s : %(levelname)s : %(message)s', level=logging.INFO)"
   ]
  },
  {
   "cell_type": "markdown",
   "id": "3fba2ba7-6324-46a8-ad46-05623a6c4005",
   "metadata": {},
   "source": [
    "#### Load docs and filter small ones"
   ]
  },
  {
   "cell_type": "code",
   "execution_count": 36,
   "id": "549b03ad-1c64-4551-bcc9-9623fb0e3d26",
   "metadata": {},
   "outputs": [],
   "source": [
    "def iter_docs(fpath, exclude_doc_len=15, exclude_tok_len=2):\n",
    "    \"\"\"load docs from json lines and return generator of docs\n",
    "    exclude_doc_len : int; exclude docs with less than given tokens\n",
    "    exclude_tok_len : int; exclude tokens with less than given characters\"\"\"\n",
    "    for i,obj in enumerate(iter_jsonlines_file(fpath)):\n",
    "        doc = obj['doc']\n",
    "        doc = [ token.lower() for token in doc if len(token)>=exclude_tok_len ]\n",
    "        if len(doc) >= exclude_doc_len:\n",
    "            yield doc"
   ]
  },
  {
   "cell_type": "code",
   "execution_count": 37,
   "id": "604f1063-cf45-48f7-884b-40357861ed7a",
   "metadata": {},
   "outputs": [],
   "source": [
    "docs = list( iter_docs('data/dump/dump_speeches_cleaned_gen2.json') )"
   ]
  },
  {
   "cell_type": "code",
   "execution_count": 38,
   "id": "eaf02f6f-c8ea-4180-89b2-e0122dc49c81",
   "metadata": {},
   "outputs": [
    {
     "data": {
      "text/plain": [
       "(486612, 12515)"
      ]
     },
     "execution_count": 38,
     "metadata": {},
     "output_type": "execute_result"
    }
   ],
   "source": [
    "len(docs), max((len(doc) for doc in docs))"
   ]
  },
  {
   "cell_type": "code",
   "execution_count": 39,
   "id": "643a8d42-f7b3-4269-b043-53e34e804831",
   "metadata": {},
   "outputs": [
    {
     "data": {
      "text/plain": [
       "['frau', 'präsidentin', 'lieben', 'kollegin', 'kollege']"
      ]
     },
     "execution_count": 39,
     "metadata": {},
     "output_type": "execute_result"
    }
   ],
   "source": [
    "docs[0][:5]"
   ]
  },
  {
   "cell_type": "markdown",
   "id": "a2474c30-781e-4e96-a3b2-f50473f32e5b",
   "metadata": {},
   "source": [
    "#### Add bigrams"
   ]
  },
  {
   "cell_type": "code",
   "execution_count": 40,
   "id": "2eb97035-9064-462c-9c2a-282622b56ea0",
   "metadata": {},
   "outputs": [],
   "source": [
    "from gensim.models import Phrases"
   ]
  },
  {
   "cell_type": "code",
   "execution_count": 41,
   "id": "f2a9a1c9-9895-4849-b3d1-9c7499336247",
   "metadata": {},
   "outputs": [
    {
     "name": "stderr",
     "output_type": "stream",
     "text": [
      "2021-06-09 17:42:11,160 : INFO : collecting all words and their counts\n",
      "2021-06-09 17:42:11,161 : INFO : PROGRESS: at sentence #0, processed 0 words and 0 word types\n",
      "2021-06-09 17:42:14,345 : INFO : PROGRESS: at sentence #10000, processed 1734090 words and 1266156 word types\n",
      "2021-06-09 17:42:17,859 : INFO : PROGRESS: at sentence #20000, processed 3514061 words and 2288265 word types\n",
      "2021-06-09 17:42:21,411 : INFO : PROGRESS: at sentence #30000, processed 5271878 words and 3179713 word types\n",
      "2021-06-09 17:42:25,196 : INFO : PROGRESS: at sentence #40000, processed 7226238 words and 4047188 word types\n",
      "2021-06-09 17:42:29,161 : INFO : PROGRESS: at sentence #50000, processed 9171587 words and 4872167 word types\n",
      "2021-06-09 17:42:34,040 : INFO : PROGRESS: at sentence #60000, processed 11238463 words and 5636484 word types\n",
      "2021-06-09 17:42:38,823 : INFO : PROGRESS: at sentence #70000, processed 13293749 words and 6474485 word types\n",
      "2021-06-09 17:42:42,583 : INFO : PROGRESS: at sentence #80000, processed 15182539 words and 7210006 word types\n",
      "2021-06-09 17:42:46,413 : INFO : PROGRESS: at sentence #90000, processed 17115383 words and 7927176 word types\n",
      "2021-06-09 17:42:50,497 : INFO : PROGRESS: at sentence #100000, processed 19165524 words and 8658578 word types\n",
      "2021-06-09 17:42:54,350 : INFO : PROGRESS: at sentence #110000, processed 21089766 words and 9354185 word types\n",
      "2021-06-09 17:42:58,228 : INFO : PROGRESS: at sentence #120000, processed 23041626 words and 10010401 word types\n",
      "2021-06-09 17:43:02,156 : INFO : PROGRESS: at sentence #130000, processed 24970826 words and 10655776 word types\n",
      "2021-06-09 17:43:06,962 : INFO : PROGRESS: at sentence #140000, processed 26995013 words and 11326768 word types\n",
      "2021-06-09 17:43:10,866 : INFO : PROGRESS: at sentence #150000, processed 28977352 words and 11992943 word types\n",
      "2021-06-09 17:43:14,816 : INFO : PROGRESS: at sentence #160000, processed 30964984 words and 12666589 word types\n",
      "2021-06-09 17:43:18,454 : INFO : PROGRESS: at sentence #170000, processed 32811419 words and 13294235 word types\n",
      "2021-06-09 17:43:22,595 : INFO : PROGRESS: at sentence #180000, processed 34846681 words and 13958402 word types\n",
      "2021-06-09 17:43:26,314 : INFO : PROGRESS: at sentence #190000, processed 36700806 words and 14575675 word types\n",
      "2021-06-09 17:43:29,734 : INFO : PROGRESS: at sentence #200000, processed 38409645 words and 15149588 word types\n",
      "2021-06-09 17:43:33,221 : INFO : PROGRESS: at sentence #210000, processed 40141523 words and 15737134 word types\n",
      "2021-06-09 17:43:36,636 : INFO : PROGRESS: at sentence #220000, processed 41789270 words and 16305154 word types\n",
      "2021-06-09 17:43:40,523 : INFO : PROGRESS: at sentence #230000, processed 43586452 words and 16903768 word types\n",
      "2021-06-09 17:43:44,218 : INFO : PROGRESS: at sentence #240000, processed 45377336 words and 17489755 word types\n",
      "2021-06-09 17:43:47,789 : INFO : PROGRESS: at sentence #250000, processed 47016096 words and 18043894 word types\n",
      "2021-06-09 17:43:51,200 : INFO : PROGRESS: at sentence #260000, processed 48611130 words and 18576276 word types\n",
      "2021-06-09 17:43:54,475 : INFO : PROGRESS: at sentence #270000, processed 50153058 words and 19080706 word types\n",
      "2021-06-09 17:43:57,303 : INFO : PROGRESS: at sentence #280000, processed 51494118 words and 19508927 word types\n",
      "2021-06-09 17:44:00,432 : INFO : PROGRESS: at sentence #290000, processed 52946559 words and 19982880 word types\n",
      "2021-06-09 17:44:03,647 : INFO : PROGRESS: at sentence #300000, processed 54461879 words and 20457736 word types\n",
      "2021-06-09 17:44:06,468 : INFO : PROGRESS: at sentence #310000, processed 55785836 words and 20868170 word types\n",
      "2021-06-09 17:44:10,031 : INFO : PROGRESS: at sentence #320000, processed 57352780 words and 21358091 word types\n",
      "2021-06-09 17:44:12,817 : INFO : PROGRESS: at sentence #330000, processed 58680015 words and 21771114 word types\n",
      "2021-06-09 17:44:15,942 : INFO : PROGRESS: at sentence #340000, processed 60150368 words and 22198630 word types\n",
      "2021-06-09 17:44:24,512 : INFO : PROGRESS: at sentence #350000, processed 61437530 words and 22574970 word types\n",
      "2021-06-09 17:44:27,777 : INFO : PROGRESS: at sentence #360000, processed 62798736 words and 22969568 word types\n",
      "2021-06-09 17:44:30,525 : INFO : PROGRESS: at sentence #370000, processed 63936410 words and 23290448 word types\n",
      "2021-06-09 17:44:33,700 : INFO : PROGRESS: at sentence #380000, processed 65270844 words and 23655241 word types\n",
      "2021-06-09 17:44:36,734 : INFO : PROGRESS: at sentence #390000, processed 66590845 words and 24012319 word types\n",
      "2021-06-09 17:44:39,577 : INFO : PROGRESS: at sentence #400000, processed 67803343 words and 24342980 word types\n",
      "2021-06-09 17:44:42,515 : INFO : PROGRESS: at sentence #410000, processed 69077212 words and 24703304 word types\n",
      "2021-06-09 17:44:45,145 : INFO : PROGRESS: at sentence #420000, processed 70213748 words and 25024190 word types\n",
      "2021-06-09 17:44:47,688 : INFO : PROGRESS: at sentence #430000, processed 71326406 words and 25338116 word types\n",
      "2021-06-09 17:44:50,812 : INFO : PROGRESS: at sentence #440000, processed 72737229 words and 25736150 word types\n",
      "2021-06-09 17:44:54,683 : INFO : PROGRESS: at sentence #450000, processed 74537681 words and 26245814 word types\n",
      "2021-06-09 17:44:59,157 : INFO : PROGRESS: at sentence #460000, processed 76643072 words and 26816530 word types\n",
      "2021-06-09 17:45:03,910 : INFO : PROGRESS: at sentence #470000, processed 78911136 words and 27436312 word types\n",
      "2021-06-09 17:45:08,481 : INFO : PROGRESS: at sentence #480000, processed 81075257 words and 28026766 word types\n",
      "2021-06-09 17:45:11,602 : INFO : collected 28428600 token types (unigram + bigrams) from a corpus of 82559593 words and 486612 sentences\n",
      "2021-06-09 17:45:11,603 : INFO : merged Phrases<28428600 vocab, min_count=20, threshold=10.0, max_vocab_size=40000000>\n",
      "2021-06-09 17:45:11,611 : INFO : Phrases lifecycle event {'msg': 'built Phrases<28428600 vocab, min_count=20, threshold=10.0, max_vocab_size=40000000> in 180.45s', 'datetime': '2021-06-09T17:45:11.610122', 'gensim': '4.0.1', 'python': '3.8.10 (default, May 19 2021, 13:12:57) [MSC v.1916 64 bit (AMD64)]', 'platform': 'Windows-10-10.0.19042-SP0', 'event': 'created'}\n"
     ]
    }
   ],
   "source": [
    "# Add bigrams and trigrams to docs (only ones that appear 20 times or more).\n",
    "bigram = Phrases(docs, min_count=20)\n",
    "for idx in range(len(docs)):\n",
    "    for token in bigram[docs[idx]]:\n",
    "        if '_' in token:\n",
    "            # Token is a bigram, add to document.\n",
    "            docs[idx].append(token)"
   ]
  },
  {
   "cell_type": "code",
   "execution_count": 53,
   "id": "85b9c685-3ca4-41fb-a9bc-1d0efccaf0c5",
   "metadata": {},
   "outputs": [
    {
     "data": {
      "text/plain": [
       "['aktuelle_stunde',\n",
       " 'hass_hetze',\n",
       " 'unwahrheiten_verbreiten',\n",
       " 'sinn_wünsche',\n",
       " 'schön_wochenend']"
      ]
     },
     "execution_count": 53,
     "metadata": {},
     "output_type": "execute_result"
    }
   ],
   "source": [
    "docs[0][-5:]"
   ]
  },
  {
   "cell_type": "markdown",
   "id": "e49360fe-f3ed-40a2-ace2-906280f11a6b",
   "metadata": {},
   "source": [
    "#### Build dictionary and remove rare and common tokens"
   ]
  },
  {
   "cell_type": "code",
   "execution_count": 54,
   "id": "4471a916-f7b1-45a9-a9d7-5bf207d27126",
   "metadata": {},
   "outputs": [],
   "source": [
    "from gensim.corpora import Dictionary"
   ]
  },
  {
   "cell_type": "code",
   "execution_count": 55,
   "id": "051ffcea-964a-4e0d-9963-d9c37d0970a0",
   "metadata": {},
   "outputs": [
    {
     "name": "stderr",
     "output_type": "stream",
     "text": [
      "2021-06-09 17:58:01,050 : INFO : adding document #0 to Dictionary(0 unique tokens: [])\n",
      "2021-06-09 17:58:04,030 : INFO : adding document #10000 to Dictionary(123091 unique tokens: ['abschließend', 'absurd', 'act', 'afd', 'aktionsplan']...)\n",
      "2021-06-09 17:58:07,181 : INFO : adding document #20000 to Dictionary(180760 unique tokens: ['abschließend', 'absurd', 'act', 'afd', 'aktionsplan']...)\n",
      "2021-06-09 17:58:10,383 : INFO : adding document #30000 to Dictionary(222576 unique tokens: ['abschließend', 'absurd', 'act', 'afd', 'aktionsplan']...)\n",
      "2021-06-09 17:58:13,721 : INFO : adding document #40000 to Dictionary(265305 unique tokens: ['abschließend', 'absurd', 'act', 'afd', 'aktionsplan']...)\n",
      "2021-06-09 17:58:17,291 : INFO : adding document #50000 to Dictionary(301912 unique tokens: ['abschließend', 'absurd', 'act', 'afd', 'aktionsplan']...)\n",
      "2021-06-09 17:58:20,766 : INFO : adding document #60000 to Dictionary(333153 unique tokens: ['abschließend', 'absurd', 'act', 'afd', 'aktionsplan']...)\n",
      "2021-06-09 17:58:24,397 : INFO : adding document #70000 to Dictionary(370353 unique tokens: ['abschließend', 'absurd', 'act', 'afd', 'aktionsplan']...)\n",
      "2021-06-09 17:58:27,685 : INFO : adding document #80000 to Dictionary(399867 unique tokens: ['abschließend', 'absurd', 'act', 'afd', 'aktionsplan']...)\n",
      "2021-06-09 17:58:31,014 : INFO : adding document #90000 to Dictionary(427311 unique tokens: ['abschließend', 'absurd', 'act', 'afd', 'aktionsplan']...)\n",
      "2021-06-09 17:58:34,668 : INFO : adding document #100000 to Dictionary(455796 unique tokens: ['abschließend', 'absurd', 'act', 'afd', 'aktionsplan']...)\n",
      "2021-06-09 17:58:38,135 : INFO : adding document #110000 to Dictionary(482518 unique tokens: ['abschließend', 'absurd', 'act', 'afd', 'aktionsplan']...)\n",
      "2021-06-09 17:58:41,681 : INFO : adding document #120000 to Dictionary(506157 unique tokens: ['abschließend', 'absurd', 'act', 'afd', 'aktionsplan']...)\n",
      "2021-06-09 17:58:45,092 : INFO : adding document #130000 to Dictionary(528412 unique tokens: ['abschließend', 'absurd', 'act', 'afd', 'aktionsplan']...)\n",
      "2021-06-09 17:58:48,756 : INFO : adding document #140000 to Dictionary(552187 unique tokens: ['abschließend', 'absurd', 'act', 'afd', 'aktionsplan']...)\n",
      "2021-06-09 17:58:52,290 : INFO : adding document #150000 to Dictionary(578091 unique tokens: ['abschließend', 'absurd', 'act', 'afd', 'aktionsplan']...)\n",
      "2021-06-09 17:58:55,872 : INFO : adding document #160000 to Dictionary(603996 unique tokens: ['abschließend', 'absurd', 'act', 'afd', 'aktionsplan']...)\n",
      "2021-06-09 17:58:59,189 : INFO : adding document #170000 to Dictionary(627405 unique tokens: ['abschließend', 'absurd', 'act', 'afd', 'aktionsplan']...)\n",
      "2021-06-09 17:59:02,816 : INFO : adding document #180000 to Dictionary(653320 unique tokens: ['abschließend', 'absurd', 'act', 'afd', 'aktionsplan']...)\n",
      "2021-06-09 17:59:06,287 : INFO : adding document #190000 to Dictionary(677758 unique tokens: ['abschließend', 'absurd', 'act', 'afd', 'aktionsplan']...)\n",
      "2021-06-09 17:59:09,499 : INFO : adding document #200000 to Dictionary(700304 unique tokens: ['abschließend', 'absurd', 'act', 'afd', 'aktionsplan']...)\n",
      "2021-06-09 17:59:12,718 : INFO : adding document #210000 to Dictionary(724049 unique tokens: ['abschließend', 'absurd', 'act', 'afd', 'aktionsplan']...)\n",
      "2021-06-09 17:59:15,831 : INFO : adding document #220000 to Dictionary(747328 unique tokens: ['abschließend', 'absurd', 'act', 'afd', 'aktionsplan']...)\n",
      "2021-06-09 17:59:19,132 : INFO : adding document #230000 to Dictionary(770363 unique tokens: ['abschließend', 'absurd', 'act', 'afd', 'aktionsplan']...)\n",
      "2021-06-09 17:59:22,448 : INFO : adding document #240000 to Dictionary(792938 unique tokens: ['abschließend', 'absurd', 'act', 'afd', 'aktionsplan']...)\n",
      "2021-06-09 17:59:25,407 : INFO : adding document #250000 to Dictionary(815524 unique tokens: ['abschließend', 'absurd', 'act', 'afd', 'aktionsplan']...)\n",
      "2021-06-09 17:59:28,318 : INFO : adding document #260000 to Dictionary(836691 unique tokens: ['abschließend', 'absurd', 'act', 'afd', 'aktionsplan']...)\n",
      "2021-06-09 17:59:31,138 : INFO : adding document #270000 to Dictionary(856735 unique tokens: ['abschließend', 'absurd', 'act', 'afd', 'aktionsplan']...)\n",
      "2021-06-09 17:59:33,606 : INFO : adding document #280000 to Dictionary(873806 unique tokens: ['abschließend', 'absurd', 'act', 'afd', 'aktionsplan']...)\n",
      "2021-06-09 17:59:36,333 : INFO : adding document #290000 to Dictionary(892850 unique tokens: ['abschließend', 'absurd', 'act', 'afd', 'aktionsplan']...)\n",
      "2021-06-09 17:59:39,081 : INFO : adding document #300000 to Dictionary(911045 unique tokens: ['abschließend', 'absurd', 'act', 'afd', 'aktionsplan']...)\n",
      "2021-06-09 17:59:41,457 : INFO : adding document #310000 to Dictionary(927019 unique tokens: ['abschließend', 'absurd', 'act', 'afd', 'aktionsplan']...)\n",
      "2021-06-09 17:59:44,290 : INFO : adding document #320000 to Dictionary(946420 unique tokens: ['abschließend', 'absurd', 'act', 'afd', 'aktionsplan']...)\n",
      "2021-06-09 17:59:46,708 : INFO : adding document #330000 to Dictionary(963182 unique tokens: ['abschließend', 'absurd', 'act', 'afd', 'aktionsplan']...)\n",
      "2021-06-09 17:59:49,324 : INFO : adding document #340000 to Dictionary(978999 unique tokens: ['abschließend', 'absurd', 'act', 'afd', 'aktionsplan']...)\n",
      "2021-06-09 17:59:51,676 : INFO : adding document #350000 to Dictionary(993084 unique tokens: ['abschließend', 'absurd', 'act', 'afd', 'aktionsplan']...)\n",
      "2021-06-09 17:59:54,145 : INFO : adding document #360000 to Dictionary(1007735 unique tokens: ['abschließend', 'absurd', 'act', 'afd', 'aktionsplan']...)\n",
      "2021-06-09 17:59:56,184 : INFO : adding document #370000 to Dictionary(1019930 unique tokens: ['abschließend', 'absurd', 'act', 'afd', 'aktionsplan']...)\n",
      "2021-06-09 17:59:58,649 : INFO : adding document #380000 to Dictionary(1033659 unique tokens: ['abschließend', 'absurd', 'act', 'afd', 'aktionsplan']...)\n",
      "2021-06-09 18:00:01,046 : INFO : adding document #390000 to Dictionary(1046936 unique tokens: ['abschließend', 'absurd', 'act', 'afd', 'aktionsplan']...)\n",
      "2021-06-09 18:00:03,216 : INFO : adding document #400000 to Dictionary(1060192 unique tokens: ['abschließend', 'absurd', 'act', 'afd', 'aktionsplan']...)\n",
      "2021-06-09 18:00:05,453 : INFO : adding document #410000 to Dictionary(1074803 unique tokens: ['abschließend', 'absurd', 'act', 'afd', 'aktionsplan']...)\n",
      "2021-06-09 18:00:07,503 : INFO : adding document #420000 to Dictionary(1087930 unique tokens: ['abschließend', 'absurd', 'act', 'afd', 'aktionsplan']...)\n",
      "2021-06-09 18:00:09,512 : INFO : adding document #430000 to Dictionary(1100700 unique tokens: ['abschließend', 'absurd', 'act', 'afd', 'aktionsplan']...)\n",
      "2021-06-09 18:00:11,981 : INFO : adding document #440000 to Dictionary(1116921 unique tokens: ['abschließend', 'absurd', 'act', 'afd', 'aktionsplan']...)\n",
      "2021-06-09 18:00:15,029 : INFO : adding document #450000 to Dictionary(1137078 unique tokens: ['abschließend', 'absurd', 'act', 'afd', 'aktionsplan']...)\n",
      "2021-06-09 18:00:18,614 : INFO : adding document #460000 to Dictionary(1158146 unique tokens: ['abschließend', 'absurd', 'act', 'afd', 'aktionsplan']...)\n",
      "2021-06-09 18:00:22,374 : INFO : adding document #470000 to Dictionary(1180236 unique tokens: ['abschließend', 'absurd', 'act', 'afd', 'aktionsplan']...)\n",
      "2021-06-09 18:00:26,080 : INFO : adding document #480000 to Dictionary(1202523 unique tokens: ['abschließend', 'absurd', 'act', 'afd', 'aktionsplan']...)\n",
      "2021-06-09 18:00:28,601 : INFO : built Dictionary(1217476 unique tokens: ['abschließend', 'absurd', 'act', 'afd', 'aktionsplan']...) from 486612 documents (total 92420309 corpus positions)\n",
      "2021-06-09 18:00:28,602 : INFO : Dictionary lifecycle event {'msg': \"built Dictionary(1217476 unique tokens: ['abschließend', 'absurd', 'act', 'afd', 'aktionsplan']...) from 486612 documents (total 92420309 corpus positions)\", 'datetime': '2021-06-09T18:00:28.602967', 'gensim': '4.0.1', 'python': '3.8.10 (default, May 19 2021, 13:12:57) [MSC v.1916 64 bit (AMD64)]', 'platform': 'Windows-10-10.0.19042-SP0', 'event': 'created'}\n"
     ]
    }
   ],
   "source": [
    "# Create a dictionary representation of the documents.\n",
    "dictionary = Dictionary(docs)"
   ]
  },
  {
   "cell_type": "code",
   "execution_count": 56,
   "id": "b93cf5ec-c9b9-4f73-bf1a-380f7f78b89e",
   "metadata": {},
   "outputs": [
    {
     "name": "stderr",
     "output_type": "stream",
     "text": [
      "2021-06-09 18:00:30,460 : INFO : discarding 1117476 tokens: [('anke_domscheit-berg', 22), ('benutzergruppen', 11), ('digital_service', 23), ('domscheit-berg', 33), ('echokammern', 13), ('facebook-accounts', 4), ('forschungsklausel', 6), ('handlangern', 33), ('herr', 357170), ('jugendschutzvorschriften', 13)]...\n",
      "2021-06-09 18:00:30,461 : INFO : keeping 100000 tokens which were in no less than 20 and no more than 243306 (=50.0%) documents\n",
      "2021-06-09 18:00:31,275 : INFO : resulting dictionary: Dictionary(100000 unique tokens: ['abschließend', 'absurd', 'act', 'afd', 'aktionsplan']...)\n"
     ]
    }
   ],
   "source": [
    "# Filter out words that occur less than 20 documents, or more than 50% of the documents.\n",
    "dictionary.filter_extremes(no_below=20, no_above=0.5)"
   ]
  },
  {
   "cell_type": "markdown",
   "id": "baa550cd-30a0-4554-bc44-de8862859622",
   "metadata": {},
   "source": [
    "#### Bag-of-words representation of the documents."
   ]
  },
  {
   "cell_type": "code",
   "execution_count": 57,
   "id": "0fb70806-0992-4416-9b43-7230912d36bd",
   "metadata": {},
   "outputs": [],
   "source": [
    "corpus = [dictionary.doc2bow(doc) for doc in docs]"
   ]
  },
  {
   "cell_type": "markdown",
   "id": "813d41a1-7334-4e1b-bccc-b881f48983eb",
   "metadata": {},
   "source": [
    "#### Train LDA model"
   ]
  },
  {
   "cell_type": "code",
   "execution_count": 58,
   "id": "b774adda-8a04-47e9-9223-ac549ee3452b",
   "metadata": {},
   "outputs": [],
   "source": [
    "from gensim.models import LdaModel"
   ]
  },
  {
   "cell_type": "code",
   "execution_count": null,
   "id": "266feaf6-36cb-4d0f-b6f8-766291490a7f",
   "metadata": {},
   "outputs": [
    {
     "name": "stderr",
     "output_type": "stream",
     "text": [
      "2021-06-09 18:09:07,729 : INFO : using autotuned alpha, starting with [0.02, 0.02, 0.02, 0.02, 0.02, 0.02, 0.02, 0.02, 0.02, 0.02, 0.02, 0.02, 0.02, 0.02, 0.02, 0.02, 0.02, 0.02, 0.02, 0.02, 0.02, 0.02, 0.02, 0.02, 0.02, 0.02, 0.02, 0.02, 0.02, 0.02, 0.02, 0.02, 0.02, 0.02, 0.02, 0.02, 0.02, 0.02, 0.02, 0.02, 0.02, 0.02, 0.02, 0.02, 0.02, 0.02, 0.02, 0.02, 0.02, 0.02]\n",
      "2021-06-09 18:09:07,753 : INFO : using serial LDA version on this node\n",
      "2021-06-09 18:09:08,313 : INFO : running online (multi-pass) LDA training, 50 topics, 20 passes over the supplied corpus of 486612 documents, updating model once every 2000 documents, evaluating perplexity every 0 documents, iterating 400x with a convergence threshold of 0.001000\n",
      "2021-06-09 18:09:08,315 : INFO : PROGRESS: pass 0, at document #2000/486612\n",
      "2021-06-09 18:09:25,260 : INFO : optimized alpha [0.018407568, 0.018021867, 0.018539805, 0.018296955, 0.018408002, 0.018904282, 0.019099286, 0.018231481, 0.018673284, 0.018297922, 0.018187938, 0.019719683, 0.018374892, 0.018174982, 0.018253693, 0.018692907, 0.018450454, 0.018153213, 0.01877265, 0.018264152, 0.018716954, 0.018472055, 0.018428806, 0.018361803, 0.018715803, 0.018218845, 0.018086728, 0.018331554, 0.01836387, 0.018549437, 0.01816449, 0.01872854, 0.017924663, 0.018309321, 0.01881326, 0.018661177, 0.018088853, 0.020046469, 0.018341655, 0.018716294, 0.018604536, 0.018045459, 0.01831942, 0.020079872, 0.018110082, 0.018736938, 0.01876677, 0.018220603, 0.01800003, 0.018064085]\n",
      "2021-06-09 18:09:25,475 : INFO : merging changes from 2000 documents into a model of 486612 documents\n",
      "2021-06-09 18:09:25,771 : INFO : topic #32 (0.018): 0.009*\"gewalt\" + 0.007*\"türkei\" + 0.006*\"kollege\" + 0.006*\"funktionieren\" + 0.006*\"kollegin\" + 0.006*\"euro\" + 0.006*\"sagen\" + 0.006*\"lieben\" + 0.006*\"finden\" + 0.005*\"herr_präsident\"\n",
      "2021-06-09 18:09:25,773 : INFO : topic #1 (0.018): 0.008*\"dame\" + 0.008*\"antrag\" + 0.007*\"dame_herr\" + 0.006*\"deutschland\" + 0.006*\"spd\" + 0.005*\"gesetzentwurf\" + 0.005*\"neu\" + 0.005*\"kontrolle\" + 0.005*\"kollege\" + 0.004*\"mal\"\n",
      "2021-06-09 18:09:25,775 : INFO : topic #11 (0.020): 0.008*\"frau\" + 0.008*\"kollege\" + 0.007*\"mensch\" + 0.006*\"kollegin\" + 0.006*\"land\" + 0.005*\"dame\" + 0.004*\"stehen\" + 0.004*\"deutschland\" + 0.004*\"weg\" + 0.004*\"lieben\"\n",
      "2021-06-09 18:09:25,777 : INFO : topic #43 (0.020): 0.011*\"dame\" + 0.010*\"dame_herr\" + 0.005*\"land\" + 0.005*\"mensch\" + 0.005*\"frau\" + 0.005*\"wichtig\" + 0.005*\"kollege\" + 0.005*\"mal\" + 0.004*\"sagen\" + 0.004*\"gesetz\"\n",
      "2021-06-09 18:09:25,779 : INFO : topic #37 (0.020): 0.010*\"kollege\" + 0.007*\"kollegin\" + 0.007*\"kind\" + 0.006*\"dame\" + 0.006*\"brauchen\" + 0.006*\"euro\" + 0.006*\"mensch\" + 0.005*\"dame_herr\" + 0.004*\"frau\" + 0.004*\"sagen\"\n",
      "2021-06-09 18:09:25,793 : INFO : topic diff=48.641655, rho=1.000000\n",
      "2021-06-09 18:09:26,073 : INFO : PROGRESS: pass 0, at document #4000/486612\n",
      "2021-06-09 18:09:32,378 : INFO : optimized alpha [0.019513972, 0.018459814, 0.020318786, 0.019310558, 0.019952357, 0.022126071, 0.021378614, 0.019079141, 0.020463444, 0.01924685, 0.019087065, 0.02216768, 0.020585475, 0.01915998, 0.018948872, 0.020623537, 0.019883046, 0.018919455, 0.020607445, 0.01971093, 0.020862209, 0.019537814, 0.019566432, 0.020304509, 0.019966656, 0.019118143, 0.01818013, 0.01954472, 0.019593542, 0.019871837, 0.018842883, 0.020269353, 0.018005928, 0.019590572, 0.020621337, 0.020786123, 0.01897861, 0.022976674, 0.019450717, 0.020722946, 0.020119434, 0.018809764, 0.019508798, 0.023510177, 0.018688116, 0.02054911, 0.020244082, 0.019749604, 0.018533427, 0.018751832]\n",
      "2021-06-09 18:09:32,631 : INFO : merging changes from 2000 documents into a model of 486612 documents\n",
      "2021-06-09 18:09:32,925 : INFO : topic #32 (0.018): 0.013*\"gewalt\" + 0.009*\"elektromobilität\" + 0.009*\"türkei\" + 0.008*\"sagen\" + 0.008*\"demokratie\" + 0.007*\"antrag\" + 0.006*\"tun\" + 0.006*\"usa\" + 0.006*\"funktionieren\" + 0.005*\"kollegin\"\n",
      "2021-06-09 18:09:32,927 : INFO : topic #26 (0.018): 0.009*\"mensch\" + 0.008*\"präsident\" + 0.007*\"mal\" + 0.006*\"wissenschaftsfreiheit\" + 0.006*\"debatte\" + 0.006*\"zahl\" + 0.005*\"herr_präsident\" + 0.005*\"fragen\" + 0.005*\"dame\" + 0.005*\"genau\"\n",
      "2021-06-09 18:09:32,930 : INFO : topic #11 (0.022): 0.008*\"frau\" + 0.007*\"mensch\" + 0.007*\"kollege\" + 0.007*\"land\" + 0.006*\"dame\" + 0.005*\"kollegin\" + 0.004*\"deutschland\" + 0.004*\"stehen\" + 0.004*\"bundesregierung\" + 0.004*\"mein\"\n",
      "2021-06-09 18:09:32,931 : INFO : topic #37 (0.023): 0.010*\"kollege\" + 0.008*\"euro\" + 0.007*\"brauchen\" + 0.007*\"mensch\" + 0.007*\"kollegin\" + 0.007*\"kind\" + 0.007*\"dame\" + 0.005*\"dame_herr\" + 0.005*\"antrag\" + 0.005*\"frau\"\n",
      "2021-06-09 18:09:32,933 : INFO : topic #43 (0.024): 0.015*\"dame\" + 0.014*\"dame_herr\" + 0.006*\"mensch\" + 0.006*\"land\" + 0.005*\"frau\" + 0.005*\"mal\" + 0.005*\"antrag\" + 0.005*\"wichtig\" + 0.004*\"sagen\" + 0.004*\"kind\"\n",
      "2021-06-09 18:09:32,947 : INFO : topic diff=0.182852, rho=0.707107\n",
      "2021-06-09 18:09:33,223 : INFO : PROGRESS: pass 0, at document #6000/486612\n",
      "2021-06-09 18:09:39,212 : INFO : optimized alpha [0.020414015, 0.018782038, 0.021849677, 0.02050299, 0.021243414, 0.025333341, 0.024022238, 0.020483762, 0.022670375, 0.020196171, 0.019915396, 0.024638005, 0.02229496, 0.019977886, 0.019917343, 0.02272517, 0.02124019, 0.019996127, 0.022227656, 0.020557925, 0.02289699, 0.020708377, 0.020628031, 0.021408468, 0.021442767, 0.02047977, 0.018742206, 0.020615457, 0.020788237, 0.02139228, 0.019775022, 0.022252899, 0.018638125, 0.020799117, 0.022428812, 0.023007872, 0.019992871, 0.026301943, 0.020728622, 0.022504719, 0.022034042, 0.019597925, 0.020696059, 0.026902014, 0.019847047, 0.022154532, 0.02216868, 0.020739807, 0.019165626, 0.019495115]\n",
      "2021-06-09 18:09:39,435 : INFO : merging changes from 2000 documents into a model of 486612 documents\n",
      "2021-06-09 18:09:39,729 : INFO : topic #32 (0.019): 0.016*\"gewalt\" + 0.015*\"wien\" + 0.013*\"wolf\" + 0.013*\"elektromobilität\" + 0.012*\"türkei\" + 0.009*\"islamistischen\" + 0.009*\"bergkarabach\" + 0.008*\"demokratie\" + 0.008*\"sagen\" + 0.008*\"antrag\"\n",
      "2021-06-09 18:09:39,730 : INFO : topic #26 (0.019): 0.008*\"präsident\" + 0.008*\"mensch\" + 0.007*\"mal\" + 0.007*\"zahl\" + 0.006*\"digitalpakt\" + 0.005*\"moschee\" + 0.005*\"debatte\" + 0.005*\"wissenschaftsfreiheit\" + 0.005*\"schule\" + 0.005*\"lassen\"\n",
      "2021-06-09 18:09:39,732 : INFO : topic #5 (0.025): 0.023*\"euro\" + 0.015*\"milliarde\" + 0.010*\"milliarde_euro\" + 0.009*\"kollege\" + 0.008*\"wichtig\" + 0.007*\"million\" + 0.006*\"mal\" + 0.006*\"haushalt\" + 0.006*\"million_euro\" + 0.006*\"kollegin\"\n",
      "2021-06-09 18:09:39,734 : INFO : topic #37 (0.026): 0.011*\"euro\" + 0.010*\"kollege\" + 0.008*\"kind\" + 0.008*\"mensch\" + 0.008*\"kollegin\" + 0.008*\"brauchen\" + 0.007*\"dame\" + 0.006*\"familie\" + 0.005*\"dame_herr\" + 0.005*\"sagen\"\n",
      "2021-06-09 18:09:39,736 : INFO : topic #43 (0.027): 0.016*\"dame\" + 0.015*\"dame_herr\" + 0.006*\"mensch\" + 0.006*\"land\" + 0.005*\"frau\" + 0.005*\"kind\" + 0.005*\"antrag\" + 0.005*\"mal\" + 0.005*\"wichtig\" + 0.004*\"sagen\"\n",
      "2021-06-09 18:09:39,751 : INFO : topic diff=0.129810, rho=0.577350\n",
      "2021-06-09 18:09:40,035 : INFO : PROGRESS: pass 0, at document #8000/486612\n",
      "2021-06-09 18:09:46,038 : INFO : optimized alpha [0.021516835, 0.019358668, 0.023440411, 0.021316987, 0.022519406, 0.02836503, 0.026567861, 0.021609142, 0.025137583, 0.021095794, 0.02084501, 0.027771968, 0.02394463, 0.02088091, 0.021022733, 0.024796788, 0.022976195, 0.021166278, 0.02442694, 0.021532025, 0.02475493, 0.021883296, 0.021971162, 0.022528777, 0.023082078, 0.021620696, 0.019564684, 0.021419168, 0.02187091, 0.022758152, 0.020549558, 0.024727914, 0.01920849, 0.022083368, 0.024062091, 0.025157936, 0.020673467, 0.030023234, 0.02204069, 0.024423972, 0.023936018, 0.020527262, 0.021686103, 0.030480629, 0.021070724, 0.023689276, 0.023935819, 0.021140456, 0.019951632, 0.020445198]\n",
      "2021-06-09 18:09:46,280 : INFO : merging changes from 2000 documents into a model of 486612 documents\n",
      "2021-06-09 18:09:46,572 : INFO : topic #32 (0.019): 0.021*\"bergkarabach\" + 0.021*\"irak\" + 0.021*\"türkei\" + 0.020*\"gewalt\" + 0.012*\"elektromobilität\" + 0.011*\"demokratie\" + 0.008*\"syrien\" + 0.008*\"extremismus\" + 0.008*\"sagen\" + 0.007*\"wien\"\n",
      "2021-06-09 18:09:46,574 : INFO : topic #1 (0.019): 0.021*\"energie\" + 0.020*\"erneuerbaren\" + 0.010*\"dame\" + 0.009*\"kontrolle\" + 0.008*\"antrag\" + 0.008*\"dame_herr\" + 0.008*\"ausbau\" + 0.008*\"gericht\" + 0.007*\"erneuerbaren_energie\" + 0.007*\"gesetzentwurf\"\n",
      "2021-06-09 18:09:46,576 : INFO : topic #5 (0.028): 0.030*\"euro\" + 0.021*\"milliarde\" + 0.015*\"milliarde_euro\" + 0.009*\"haushalt\" + 0.008*\"kollege\" + 0.008*\"million\" + 0.007*\"wichtig\" + 0.007*\"million_euro\" + 0.007*\"land\" + 0.006*\"mal\"\n",
      "2021-06-09 18:09:46,578 : INFO : topic #37 (0.030): 0.011*\"euro\" + 0.009*\"mensch\" + 0.009*\"kollege\" + 0.009*\"kind\" + 0.008*\"brauchen\" + 0.008*\"dame\" + 0.007*\"kollegin\" + 0.007*\"familie\" + 0.006*\"dame_herr\" + 0.005*\"sagen\"\n",
      "2021-06-09 18:09:46,580 : INFO : topic #43 (0.030): 0.018*\"dame\" + 0.017*\"dame_herr\" + 0.006*\"mensch\" + 0.006*\"land\" + 0.005*\"kind\" + 0.005*\"antrag\" + 0.005*\"frau\" + 0.004*\"mal\" + 0.004*\"wichtig\" + 0.004*\"sagen\"\n",
      "2021-06-09 18:09:46,595 : INFO : topic diff=0.101777, rho=0.500000\n",
      "2021-06-09 18:09:46,874 : INFO : PROGRESS: pass 0, at document #10000/486612\n",
      "2021-06-09 18:09:52,409 : INFO : optimized alpha [0.022536818, 0.020016225, 0.025001341, 0.022437291, 0.023712724, 0.031092322, 0.028538581, 0.022594385, 0.027271103, 0.02216562, 0.021725453, 0.030550081, 0.025260694, 0.021761158, 0.021965362, 0.026795145, 0.0239962, 0.022786638, 0.026230156, 0.022548106, 0.026852684, 0.023206895, 0.022974055, 0.02381028, 0.024169313, 0.022830768, 0.020047177, 0.022131957, 0.022723509, 0.024186809, 0.021130918, 0.026745928, 0.019358527, 0.02290552, 0.025727993, 0.02652928, 0.021173216, 0.03366839, 0.02299779, 0.026498452, 0.025212184, 0.02098011, 0.022815138, 0.033497535, 0.021512274, 0.025610285, 0.025673978, 0.021931011, 0.020744015, 0.021381706]\n",
      "2021-06-09 18:09:52,646 : INFO : merging changes from 2000 documents into a model of 486612 documents\n",
      "2021-06-09 18:09:52,947 : INFO : topic #32 (0.019): 0.021*\"gewalt\" + 0.016*\"türkei\" + 0.015*\"irak\" + 0.014*\"bergkarabach\" + 0.014*\"houben\" + 0.011*\"demokratie\" + 0.010*\"herr_houben\" + 0.009*\"antrag\" + 0.009*\"elektromobilität\" + 0.008*\"extremismus\"\n",
      "2021-06-09 18:09:52,949 : INFO : topic #1 (0.020): 0.019*\"petition\" + 0.018*\"energie\" + 0.017*\"urteil\" + 0.017*\"kontrolle\" + 0.015*\"erneuerbaren\" + 0.012*\"gericht\" + 0.010*\"bundesverfassungsgericht\" + 0.009*\"dame\" + 0.009*\"antrag\" + 0.007*\"dame_herr\"\n",
      "2021-06-09 18:09:52,951 : INFO : topic #5 (0.031): 0.032*\"euro\" + 0.023*\"milliarde\" + 0.016*\"milliarde_euro\" + 0.008*\"million\" + 0.008*\"kollege\" + 0.007*\"land\" + 0.007*\"wichtig\" + 0.007*\"million_euro\" + 0.006*\"geld\" + 0.006*\"haushalt\"\n",
      "2021-06-09 18:09:52,952 : INFO : topic #43 (0.033): 0.018*\"dame\" + 0.017*\"dame_herr\" + 0.006*\"mensch\" + 0.006*\"kind\" + 0.005*\"land\" + 0.005*\"antrag\" + 0.004*\"frau\" + 0.004*\"mal\" + 0.004*\"sagen\" + 0.004*\"wichtig\"\n",
      "2021-06-09 18:09:52,954 : INFO : topic #37 (0.034): 0.011*\"euro\" + 0.010*\"mensch\" + 0.009*\"kollege\" + 0.009*\"kind\" + 0.008*\"brauchen\" + 0.007*\"dame\" + 0.007*\"kollegin\" + 0.007*\"familie\" + 0.005*\"dame_herr\" + 0.005*\"sagen\"\n",
      "2021-06-09 18:09:52,969 : INFO : topic diff=0.103591, rho=0.447214\n",
      "2021-06-09 18:09:53,247 : INFO : PROGRESS: pass 0, at document #12000/486612\n",
      "2021-06-09 18:09:59,279 : INFO : optimized alpha [0.023942137, 0.020481318, 0.026384622, 0.023552641, 0.0251203, 0.033093788, 0.031024234, 0.023306109, 0.029029744, 0.023063129, 0.022778247, 0.033871796, 0.02668544, 0.022728553, 0.02287732, 0.028901065, 0.024986153, 0.024067981, 0.028004209, 0.023302875, 0.028804557, 0.024321092, 0.024131218, 0.02536408, 0.025338411, 0.023730995, 0.020437704, 0.022907037, 0.023794148, 0.025459742, 0.021589033, 0.028741218, 0.019643977, 0.023886321, 0.027513204, 0.02835669, 0.022024926, 0.03654517, 0.02394401, 0.028215988, 0.02650069, 0.021420542, 0.023674829, 0.03710828, 0.021850849, 0.027204685, 0.02696591, 0.023056893, 0.021186924, 0.021848949]\n",
      "2021-06-09 18:09:59,514 : INFO : merging changes from 2000 documents into a model of 486612 documents\n",
      "2021-06-09 18:09:59,821 : INFO : topic #32 (0.020): 0.024*\"gewalt\" + 0.023*\"türkei\" + 0.022*\"irak\" + 0.013*\"extremismus\" + 0.013*\"demokratie\" + 0.013*\"syrien\" + 0.011*\"erdogan\" + 0.010*\"antrag\" + 0.009*\"houben\" + 0.009*\"politisch\"\n",
      "2021-06-09 18:09:59,823 : INFO : topic #26 (0.020): 0.021*\"thüringen\" + 0.009*\"ddr\" + 0.009*\"mensch\" + 0.008*\"student\" + 0.008*\"präsident\" + 0.007*\"erinnern\" + 0.007*\"mal\" + 0.007*\"einheit\" + 0.006*\"konjunkturpaket\" + 0.006*\"deutsch_einheit\"\n",
      "2021-06-09 18:09:59,824 : INFO : topic #11 (0.034): 0.007*\"land\" + 0.006*\"dame\" + 0.006*\"mensch\" + 0.006*\"bundesregierung\" + 0.005*\"deutschland\" + 0.005*\"frau\" + 0.005*\"kollege\" + 0.005*\"stehen\" + 0.004*\"dame_herr\" + 0.004*\"kollegin\"\n",
      "2021-06-09 18:09:59,826 : INFO : topic #37 (0.037): 0.011*\"mensch\" + 0.009*\"kollege\" + 0.009*\"euro\" + 0.008*\"kind\" + 0.008*\"brauchen\" + 0.008*\"familie\" + 0.008*\"kollegin\" + 0.007*\"dame\" + 0.005*\"dame_herr\" + 0.004*\"sagen\"\n",
      "2021-06-09 18:09:59,828 : INFO : topic #43 (0.037): 0.019*\"dame\" + 0.018*\"dame_herr\" + 0.006*\"mensch\" + 0.006*\"antrag\" + 0.006*\"kind\" + 0.005*\"land\" + 0.004*\"frau\" + 0.004*\"mal\" + 0.004*\"deutschland\" + 0.004*\"geehrt\"\n",
      "2021-06-09 18:09:59,843 : INFO : topic diff=0.080346, rho=0.408248\n",
      "2021-06-09 18:10:00,139 : INFO : PROGRESS: pass 0, at document #14000/486612\n",
      "2021-06-09 18:10:07,120 : INFO : optimized alpha [0.025130698, 0.020922735, 0.027551796, 0.024662709, 0.02589847, 0.03580321, 0.03417334, 0.023963485, 0.031158864, 0.02398448, 0.023632219, 0.037010357, 0.027765768, 0.02350074, 0.02355248, 0.030670483, 0.026434103, 0.025469363, 0.030123312, 0.024202518, 0.030677827, 0.025436237, 0.025426425, 0.02623154, 0.026569182, 0.025072046, 0.021012489, 0.02376025, 0.024733355, 0.026886173, 0.021908037, 0.031188253, 0.020294925, 0.025191747, 0.029839879, 0.030588605, 0.022945462, 0.039755877, 0.025441138, 0.030247033, 0.028776698, 0.022313546, 0.02502671, 0.041447848, 0.022738226, 0.029297462, 0.028656473, 0.022994649, 0.021812944, 0.022417216]\n",
      "2021-06-09 18:10:07,353 : INFO : merging changes from 2000 documents into a model of 486612 documents\n",
      "2021-06-09 18:10:07,654 : INFO : topic #32 (0.020): 0.038*\"gewalt\" + 0.035*\"irak\" + 0.020*\"türkei\" + 0.017*\"syrien\" + 0.012*\"demokratie\" + 0.012*\"elektromobilität\" + 0.012*\"wolf\" + 0.011*\"extremismus\" + 0.010*\"antrag\" + 0.009*\"erdogan\"\n",
      "2021-06-09 18:10:07,655 : INFO : topic #1 (0.021): 0.025*\"urteil\" + 0.022*\"energie\" + 0.021*\"erneuerbaren\" + 0.014*\"kontrolle\" + 0.012*\"gericht\" + 0.011*\"bundesverfassungsgericht\" + 0.010*\"petition\" + 0.009*\"antrag\" + 0.009*\"windenergie\" + 0.009*\"dame\"\n",
      "2021-06-09 18:10:07,657 : INFO : topic #11 (0.037): 0.006*\"land\" + 0.006*\"dame\" + 0.006*\"bundesregierung\" + 0.006*\"mensch\" + 0.006*\"deutschland\" + 0.005*\"kollege\" + 0.005*\"frau\" + 0.005*\"stehen\" + 0.004*\"dame_herr\" + 0.004*\"mein\"\n",
      "2021-06-09 18:10:07,659 : INFO : topic #37 (0.040): 0.012*\"mensch\" + 0.009*\"kollege\" + 0.009*\"euro\" + 0.008*\"kind\" + 0.008*\"brauchen\" + 0.008*\"kollegin\" + 0.008*\"familie\" + 0.007*\"dame\" + 0.005*\"dame_herr\" + 0.005*\"land\"\n",
      "2021-06-09 18:10:07,661 : INFO : topic #43 (0.041): 0.020*\"dame\" + 0.019*\"dame_herr\" + 0.007*\"mensch\" + 0.007*\"antrag\" + 0.006*\"kind\" + 0.005*\"land\" + 0.004*\"frau\" + 0.004*\"geehrt\" + 0.004*\"mal\" + 0.004*\"deutschland\"\n",
      "2021-06-09 18:10:07,677 : INFO : topic diff=0.091046, rho=0.377964\n",
      "2021-06-09 18:10:07,954 : INFO : PROGRESS: pass 0, at document #16000/486612\n",
      "2021-06-09 18:10:14,858 : INFO : optimized alpha [0.026669664, 0.021586338, 0.02891589, 0.025377892, 0.027152425, 0.038181614, 0.037501797, 0.024585264, 0.03325108, 0.024698988, 0.023989523, 0.03996432, 0.02881125, 0.024386372, 0.02445479, 0.032559283, 0.027336275, 0.027090445, 0.032587484, 0.025200833, 0.032445293, 0.02648015, 0.026537407, 0.027054345, 0.027909022, 0.026362037, 0.021717181, 0.024497485, 0.025737656, 0.027771955, 0.02234207, 0.033365257, 0.021130932, 0.02623668, 0.031443607, 0.03237152, 0.023715878, 0.043362103, 0.026802283, 0.032397576, 0.030821415, 0.023066407, 0.026523208, 0.045789048, 0.023744816, 0.031226667, 0.029967003, 0.023051012, 0.022216858, 0.022974923]\n",
      "2021-06-09 18:10:15,102 : INFO : merging changes from 2000 documents into a model of 486612 documents\n",
      "2021-06-09 18:10:15,408 : INFO : topic #32 (0.021): 0.041*\"türkei\" + 0.031*\"gewalt\" + 0.029*\"irak\" + 0.026*\"syrien\" + 0.020*\"türkisch\" + 0.016*\"erdogan\" + 0.015*\"wolf\" + 0.012*\"elektromobilität\" + 0.011*\"demokratie\" + 0.011*\"waffe\"\n",
      "2021-06-09 18:10:15,409 : INFO : topic #1 (0.022): 0.030*\"urteil\" + 0.020*\"energie\" + 0.020*\"erneuerbaren\" + 0.017*\"petition\" + 0.016*\"gericht\" + 0.013*\"kontrolle\" + 0.012*\"bundesverfassungsgericht\" + 0.010*\"antrag\" + 0.009*\"richter\" + 0.009*\"windenergie\"\n",
      "2021-06-09 18:10:15,411 : INFO : topic #11 (0.040): 0.007*\"bundesregierung\" + 0.006*\"dame\" + 0.006*\"land\" + 0.006*\"deutschland\" + 0.006*\"mensch\" + 0.005*\"frau\" + 0.005*\"kollege\" + 0.005*\"stehen\" + 0.004*\"deutsch\" + 0.004*\"dame_herr\"\n",
      "2021-06-09 18:10:15,413 : INFO : topic #37 (0.043): 0.015*\"mensch\" + 0.009*\"kollege\" + 0.009*\"euro\" + 0.008*\"kind\" + 0.008*\"familie\" + 0.007*\"kollegin\" + 0.007*\"dame\" + 0.007*\"brauchen\" + 0.005*\"prozent\" + 0.005*\"dame_herr\"\n",
      "2021-06-09 18:10:15,414 : INFO : topic #43 (0.046): 0.021*\"dame\" + 0.020*\"dame_herr\" + 0.007*\"mensch\" + 0.007*\"antrag\" + 0.006*\"kind\" + 0.005*\"land\" + 0.004*\"geehrt\" + 0.004*\"frau\" + 0.004*\"deutschland\" + 0.004*\"leben\"\n",
      "2021-06-09 18:10:15,429 : INFO : topic diff=0.084396, rho=0.353553\n",
      "2021-06-09 18:10:15,716 : INFO : PROGRESS: pass 0, at document #18000/486612\n",
      "2021-06-09 18:10:22,761 : INFO : optimized alpha [0.027862582, 0.022252858, 0.030179337, 0.026680417, 0.027814835, 0.040184487, 0.040275138, 0.025136972, 0.035234362, 0.025490373, 0.024748025, 0.043773007, 0.029864905, 0.025024567, 0.025127074, 0.034466013, 0.028590359, 0.028705569, 0.03426003, 0.02661173, 0.034238704, 0.02741859, 0.027835945, 0.027985781, 0.029056922, 0.027715381, 0.02217686, 0.025410835, 0.0266236, 0.029250504, 0.022778232, 0.035881292, 0.021318594, 0.027206937, 0.033353344, 0.034095276, 0.02453593, 0.04606297, 0.028170882, 0.03462206, 0.032683954, 0.023511631, 0.028131858, 0.050378412, 0.024588082, 0.033186454, 0.031468578, 0.023127576, 0.022728933, 0.023813102]\n",
      "2021-06-09 18:10:23,002 : INFO : merging changes from 2000 documents into a model of 486612 documents\n",
      "2021-06-09 18:10:23,306 : INFO : topic #32 (0.021): 0.035*\"türkei\" + 0.031*\"gewalt\" + 0.030*\"irak\" + 0.023*\"syrien\" + 0.017*\"türkisch\" + 0.013*\"erdogan\" + 0.013*\"wolf\" + 0.011*\"elektromobilität\" + 0.011*\"rechts\" + 0.011*\"demokratie\"\n",
      "2021-06-09 18:10:23,308 : INFO : topic #26 (0.022): 0.035*\"ddr\" + 0.020*\"thüringen\" + 0.015*\"einheit\" + 0.013*\"mensch\" + 0.011*\"ostdeutsche\" + 0.011*\"ost\" + 0.010*\"deutsch_einheit\" + 0.010*\"west\" + 0.010*\"ostdeutsch\" + 0.008*\"student\"\n",
      "2021-06-09 18:10:23,310 : INFO : topic #11 (0.044): 0.006*\"bundesregierung\" + 0.006*\"dame\" + 0.006*\"land\" + 0.006*\"deutschland\" + 0.005*\"mensch\" + 0.005*\"stehen\" + 0.005*\"frau\" + 0.004*\"deutsch\" + 0.004*\"kollege\" + 0.004*\"iran\"\n",
      "2021-06-09 18:10:23,312 : INFO : topic #37 (0.046): 0.016*\"mensch\" + 0.009*\"kollege\" + 0.009*\"euro\" + 0.007*\"kind\" + 0.007*\"kollegin\" + 0.007*\"familie\" + 0.007*\"dame\" + 0.007*\"brauchen\" + 0.005*\"arbeit\" + 0.005*\"prozent\"\n",
      "2021-06-09 18:10:23,313 : INFO : topic #43 (0.050): 0.022*\"dame\" + 0.020*\"dame_herr\" + 0.008*\"mensch\" + 0.007*\"antrag\" + 0.006*\"kind\" + 0.005*\"land\" + 0.004*\"leben\" + 0.004*\"deutschland\" + 0.004*\"geehrt\" + 0.004*\"frau\"\n",
      "2021-06-09 18:10:23,328 : INFO : topic diff=0.070977, rho=0.333333\n",
      "2021-06-09 18:10:23,608 : INFO : PROGRESS: pass 0, at document #20000/486612\n",
      "2021-06-09 18:10:30,248 : INFO : optimized alpha [0.029115008, 0.022773452, 0.031398226, 0.027532939, 0.028276859, 0.041455466, 0.042920366, 0.02581182, 0.03695898, 0.02610124, 0.025225917, 0.04729967, 0.030571392, 0.02594602, 0.025980577, 0.03628041, 0.029529655, 0.030594401, 0.0362028, 0.02769802, 0.03597181, 0.028513456, 0.0290007, 0.029103015, 0.029950464, 0.02872535, 0.022334592, 0.026121302, 0.027389428, 0.030583963, 0.023227252, 0.038116723, 0.021600967, 0.027812025, 0.034911618, 0.035994425, 0.025106596, 0.04866907, 0.02897644, 0.03698235, 0.033744574, 0.023881437, 0.029353859, 0.05526682, 0.024797482, 0.0354157, 0.03278421, 0.023359831, 0.023264166, 0.02457796]\n",
      "2021-06-09 18:10:30,484 : INFO : merging changes from 2000 documents into a model of 486612 documents\n",
      "2021-06-09 18:10:30,798 : INFO : topic #32 (0.022): 0.041*\"türkei\" + 0.029*\"gewalt\" + 0.027*\"wolf\" + 0.023*\"irak\" + 0.020*\"elektromobilität\" + 0.019*\"syrien\" + 0.016*\"türkisch\" + 0.014*\"erdogan\" + 0.012*\"demokratie\" + 0.010*\"rechts\"\n",
      "2021-06-09 18:10:30,800 : INFO : topic #26 (0.022): 0.033*\"ddr\" + 0.018*\"thüringen\" + 0.014*\"einheit\" + 0.013*\"ostdeutsche\" + 0.013*\"mensch\" + 0.010*\"ostdeutsch\" + 0.010*\"ost\" + 0.009*\"deutsch_einheit\" + 0.009*\"forschung\" + 0.009*\"ostdeutscher\"\n",
      "2021-06-09 18:10:30,802 : INFO : topic #11 (0.047): 0.007*\"bundesregierung\" + 0.006*\"dame\" + 0.006*\"land\" + 0.006*\"deutschland\" + 0.005*\"deutsch\" + 0.005*\"mensch\" + 0.005*\"amt\" + 0.005*\"stehen\" + 0.005*\"frau\" + 0.004*\"regierung\"\n",
      "2021-06-09 18:10:30,804 : INFO : topic #37 (0.049): 0.016*\"mensch\" + 0.009*\"euro\" + 0.009*\"kollege\" + 0.009*\"kind\" + 0.008*\"familie\" + 0.007*\"kollegin\" + 0.007*\"dame\" + 0.007*\"brauchen\" + 0.005*\"prozent\" + 0.005*\"sozial\"\n",
      "2021-06-09 18:10:30,805 : INFO : topic #43 (0.055): 0.022*\"dame\" + 0.020*\"dame_herr\" + 0.008*\"mensch\" + 0.007*\"antrag\" + 0.006*\"kind\" + 0.004*\"land\" + 0.004*\"leben\" + 0.004*\"deutschland\" + 0.004*\"geehrt\" + 0.004*\"lassen\"\n",
      "2021-06-09 18:10:30,820 : INFO : topic diff=0.069073, rho=0.316228\n",
      "2021-06-09 18:10:31,099 : INFO : PROGRESS: pass 0, at document #22000/486612\n",
      "2021-06-09 18:10:37,975 : INFO : optimized alpha [0.030265257, 0.023212535, 0.032559928, 0.028455777, 0.028724944, 0.04304349, 0.045467906, 0.026417004, 0.03831517, 0.026795885, 0.025622107, 0.050862305, 0.0317244, 0.026969494, 0.02679803, 0.038196888, 0.03056021, 0.032596517, 0.037820198, 0.02863603, 0.03806024, 0.029459678, 0.030120475, 0.03044868, 0.030990586, 0.029678743, 0.022751406, 0.026850404, 0.028217806, 0.03172861, 0.023595471, 0.040306672, 0.021742636, 0.028685309, 0.036801375, 0.037618622, 0.025704337, 0.051284213, 0.030003322, 0.038968004, 0.035110455, 0.024297455, 0.030304631, 0.060575195, 0.025528101, 0.037470512, 0.034210384, 0.023824634, 0.023902763, 0.0252832]\n",
      "2021-06-09 18:10:38,213 : INFO : merging changes from 2000 documents into a model of 486612 documents\n",
      "2021-06-09 18:10:38,516 : INFO : topic #32 (0.022): 0.034*\"türkei\" + 0.031*\"gewalt\" + 0.021*\"wolf\" + 0.019*\"irak\" + 0.015*\"elektromobilität\" + 0.015*\"syrien\" + 0.014*\"gemeinnützigkeit\" + 0.014*\"türkisch\" + 0.013*\"extremismus\" + 0.013*\"politisch\"\n",
      "2021-06-09 18:10:38,518 : INFO : topic #26 (0.023): 0.031*\"pakt\" + 0.026*\"ddr\" + 0.017*\"thüringen\" + 0.012*\"mensch\" + 0.011*\"einheit\" + 0.011*\"ostdeutsche\" + 0.010*\"forschung\" + 0.009*\"hochschule\" + 0.009*\"student\" + 0.009*\"ost\"\n",
      "2021-06-09 18:10:38,520 : INFO : topic #11 (0.051): 0.008*\"bundesregierung\" + 0.006*\"land\" + 0.006*\"dame\" + 0.006*\"deutschland\" + 0.005*\"deutsch\" + 0.005*\"mensch\" + 0.005*\"stehen\" + 0.005*\"frau\" + 0.005*\"amt\" + 0.005*\"regierung\"\n",
      "2021-06-09 18:10:38,522 : INFO : topic #37 (0.051): 0.016*\"mensch\" + 0.010*\"kind\" + 0.009*\"euro\" + 0.009*\"kollege\" + 0.009*\"familie\" + 0.007*\"kollegin\" + 0.007*\"dame\" + 0.006*\"brauchen\" + 0.006*\"prozent\" + 0.005*\"einkommen\"\n",
      "2021-06-09 18:10:38,524 : INFO : topic #43 (0.061): 0.022*\"dame\" + 0.020*\"dame_herr\" + 0.008*\"mensch\" + 0.008*\"antrag\" + 0.006*\"kind\" + 0.004*\"leben\" + 0.004*\"land\" + 0.004*\"deutschland\" + 0.004*\"geehrt\" + 0.004*\"frau\"\n",
      "2021-06-09 18:10:38,538 : INFO : topic diff=0.053997, rho=0.301511\n",
      "2021-06-09 18:10:38,814 : INFO : PROGRESS: pass 0, at document #24000/486612\n",
      "2021-06-09 18:10:46,008 : INFO : optimized alpha [0.031319737, 0.023606159, 0.03355317, 0.029250765, 0.02957506, 0.046284374, 0.048531592, 0.027249318, 0.04022949, 0.027527126, 0.026130805, 0.053848114, 0.03269807, 0.027730951, 0.02752937, 0.04016694, 0.031622972, 0.034236323, 0.039704155, 0.029363917, 0.040318638, 0.030633455, 0.03114387, 0.031634428, 0.03206171, 0.030416947, 0.023264388, 0.027584951, 0.02914768, 0.032687888, 0.024043255, 0.04195302, 0.021995218, 0.029436227, 0.038713563, 0.03930203, 0.02622415, 0.05454629, 0.031286474, 0.040946893, 0.03656347, 0.024967104, 0.031358574, 0.06635593, 0.025862206, 0.03964816, 0.03599646, 0.024090111, 0.024501834, 0.026317224]\n",
      "2021-06-09 18:10:46,244 : INFO : merging changes from 2000 documents into a model of 486612 documents\n",
      "2021-06-09 18:10:46,542 : INFO : topic #32 (0.022): 0.033*\"türkei\" + 0.029*\"gewalt\" + 0.029*\"irak\" + 0.019*\"wolf\" + 0.016*\"syrien\" + 0.015*\"elektromobilität\" + 0.014*\"gemeinnützigkeit\" + 0.014*\"organisation\" + 0.013*\"türkisch\" + 0.013*\"rechts\"\n",
      "2021-06-09 18:10:46,544 : INFO : topic #26 (0.023): 0.043*\"pakt\" + 0.021*\"ddr\" + 0.014*\"thüringen\" + 0.014*\"hochschule\" + 0.011*\"mensch\" + 0.011*\"einheit\" + 0.009*\"student\" + 0.009*\"forschung\" + 0.009*\"ost\" + 0.008*\"erinnern\"\n",
      "2021-06-09 18:10:46,546 : INFO : topic #11 (0.054): 0.008*\"bundesregierung\" + 0.006*\"land\" + 0.006*\"dame\" + 0.006*\"deutschland\" + 0.005*\"amt\" + 0.005*\"deutsch\" + 0.005*\"stehen\" + 0.005*\"mensch\" + 0.005*\"frau\" + 0.004*\"regierung\"\n",
      "2021-06-09 18:10:46,547 : INFO : topic #37 (0.055): 0.017*\"mensch\" + 0.011*\"kind\" + 0.010*\"familie\" + 0.009*\"euro\" + 0.009*\"kollege\" + 0.007*\"dame\" + 0.007*\"kollegin\" + 0.006*\"brauchen\" + 0.006*\"prozent\" + 0.005*\"spd\"\n",
      "2021-06-09 18:10:46,549 : INFO : topic #43 (0.066): 0.022*\"dame\" + 0.020*\"dame_herr\" + 0.008*\"mensch\" + 0.007*\"antrag\" + 0.005*\"kind\" + 0.004*\"land\" + 0.004*\"leben\" + 0.004*\"deutschland\" + 0.004*\"geehrt\" + 0.004*\"lassen\"\n",
      "2021-06-09 18:10:46,564 : INFO : topic diff=0.053536, rho=0.288675\n",
      "2021-06-09 18:10:46,845 : INFO : PROGRESS: pass 0, at document #26000/486612\n",
      "2021-06-09 18:10:54,466 : INFO : optimized alpha [0.03245467, 0.024036104, 0.034872066, 0.030202486, 0.030193148, 0.050484873, 0.0515423, 0.027946653, 0.042014275, 0.028208734, 0.026666043, 0.057231568, 0.03373656, 0.028537996, 0.028093005, 0.04212082, 0.032960206, 0.036076654, 0.041519966, 0.030097453, 0.04262108, 0.031860836, 0.032432675, 0.032975495, 0.03333379, 0.03152214, 0.023764681, 0.02834066, 0.029967867, 0.0337245, 0.024481438, 0.04398422, 0.022312526, 0.030245828, 0.041146457, 0.041733894, 0.026834428, 0.057909682, 0.032565437, 0.042717203, 0.03811404, 0.025439253, 0.032301746, 0.07155608, 0.026397053, 0.041020572, 0.03747265, 0.024568196, 0.024748858, 0.027398918]\n",
      "2021-06-09 18:10:54,713 : INFO : merging changes from 2000 documents into a model of 486612 documents\n",
      "2021-06-09 18:10:55,008 : INFO : topic #32 (0.022): 0.045*\"türkei\" + 0.026*\"gewalt\" + 0.026*\"wolf\" + 0.022*\"irak\" + 0.019*\"erdogan\" + 0.018*\"türkisch\" + 0.017*\"syrien\" + 0.016*\"gemeinnützigkeit\" + 0.013*\"rechts\" + 0.013*\"organisation\"\n",
      "2021-06-09 18:10:55,010 : INFO : topic #26 (0.024): 0.041*\"pakt\" + 0.019*\"ddr\" + 0.014*\"einheit\" + 0.013*\"thüringen\" + 0.013*\"bildung_forschung\" + 0.012*\"hochschule\" + 0.011*\"mensch\" + 0.011*\"deutsch_einheit\" + 0.011*\"forschung\" + 0.009*\"ost\"\n",
      "2021-06-09 18:10:55,011 : INFO : topic #11 (0.057): 0.008*\"bundesregierung\" + 0.006*\"amt\" + 0.006*\"land\" + 0.006*\"dame\" + 0.006*\"deutschland\" + 0.005*\"auswärtige\" + 0.005*\"deutsch\" + 0.005*\"regierung\" + 0.005*\"stehen\" + 0.005*\"frau\"\n",
      "2021-06-09 18:10:55,013 : INFO : topic #37 (0.058): 0.017*\"mensch\" + 0.012*\"kind\" + 0.011*\"familie\" + 0.009*\"euro\" + 0.008*\"kollege\" + 0.007*\"dame\" + 0.006*\"kollegin\" + 0.006*\"rente\" + 0.006*\"arbeit\" + 0.006*\"brauchen\"\n",
      "2021-06-09 18:10:55,015 : INFO : topic #43 (0.072): 0.023*\"dame\" + 0.021*\"dame_herr\" + 0.008*\"mensch\" + 0.007*\"antrag\" + 0.005*\"kind\" + 0.005*\"leben\" + 0.004*\"land\" + 0.004*\"geehrt\" + 0.004*\"deutschland\" + 0.004*\"lassen\"\n",
      "2021-06-09 18:10:55,030 : INFO : topic diff=0.054000, rho=0.277350\n",
      "2021-06-09 18:10:55,309 : INFO : PROGRESS: pass 0, at document #28000/486612\n",
      "2021-06-09 18:11:02,641 : INFO : optimized alpha [0.03380427, 0.024458824, 0.036150478, 0.031669475, 0.030827211, 0.053726744, 0.054042555, 0.028711062, 0.043683764, 0.028812107, 0.02774123, 0.061846223, 0.03462932, 0.029300002, 0.028281221, 0.043713365, 0.033912063, 0.037837032, 0.043411974, 0.030760031, 0.044762813, 0.03293087, 0.033943042, 0.034360103, 0.034610555, 0.032621898, 0.024055202, 0.029128782, 0.030914044, 0.03495899, 0.025038809, 0.046196368, 0.022679754, 0.030940957, 0.04306496, 0.043648843, 0.027452625, 0.06062005, 0.0337667, 0.044111177, 0.039181612, 0.025821282, 0.03330922, 0.07699625, 0.027131455, 0.04295142, 0.038734846, 0.025194295, 0.025164152, 0.028386118]\n",
      "2021-06-09 18:11:02,880 : INFO : merging changes from 2000 documents into a model of 486612 documents\n",
      "2021-06-09 18:11:03,191 : INFO : topic #32 (0.023): 0.051*\"türkei\" + 0.032*\"irak\" + 0.029*\"syrien\" + 0.026*\"gewalt\" + 0.021*\"wolf\" + 0.019*\"türkisch\" + 0.016*\"erdogan\" + 0.013*\"rechts\" + 0.012*\"demokratie\" + 0.012*\"gemeinnützigkeit\"\n",
      "2021-06-09 18:11:03,192 : INFO : topic #26 (0.024): 0.047*\"pakt\" + 0.017*\"bildung_forschung\" + 0.016*\"ddr\" + 0.014*\"einheit\" + 0.013*\"thüringen\" + 0.013*\"forschung\" + 0.012*\"hochschule\" + 0.011*\"student\" + 0.011*\"mensch\" + 0.011*\"deutsch_einheit\"\n",
      "2021-06-09 18:11:03,194 : INFO : topic #37 (0.061): 0.017*\"mensch\" + 0.012*\"kind\" + 0.012*\"familie\" + 0.009*\"euro\" + 0.008*\"kollege\" + 0.007*\"dame\" + 0.006*\"kollegin\" + 0.006*\"arbeit\" + 0.006*\"brauchen\" + 0.006*\"rente\"\n",
      "2021-06-09 18:11:03,196 : INFO : topic #11 (0.062): 0.008*\"bundesregierung\" + 0.006*\"land\" + 0.006*\"amt\" + 0.006*\"dame\" + 0.006*\"deutschland\" + 0.005*\"deutsch\" + 0.005*\"regierung\" + 0.005*\"stehen\" + 0.005*\"auswärtige\" + 0.005*\"frau\"\n",
      "2021-06-09 18:11:03,197 : INFO : topic #43 (0.077): 0.023*\"dame\" + 0.021*\"dame_herr\" + 0.008*\"mensch\" + 0.007*\"antrag\" + 0.005*\"kind\" + 0.005*\"leben\" + 0.004*\"land\" + 0.004*\"geehrt\" + 0.004*\"lassen\" + 0.004*\"deutschland\"\n",
      "2021-06-09 18:11:03,212 : INFO : topic diff=0.046912, rho=0.267261\n",
      "2021-06-09 18:11:03,489 : INFO : PROGRESS: pass 0, at document #30000/486612\n",
      "2021-06-09 18:11:09,669 : INFO : optimized alpha [0.03487983, 0.024867026, 0.037186265, 0.032665797, 0.03126331, 0.054597806, 0.055584975, 0.029426504, 0.044987362, 0.029437121, 0.028431118, 0.06564561, 0.03528818, 0.02997238, 0.028602842, 0.0450461, 0.034888197, 0.039727908, 0.04484979, 0.031377897, 0.047083203, 0.034082636, 0.035158392, 0.035447698, 0.035871867, 0.033624314, 0.024295803, 0.02960514, 0.031791225, 0.035973538, 0.025350338, 0.048338458, 0.023097884, 0.031403944, 0.04476498, 0.044921633, 0.027959518, 0.062544115, 0.034294337, 0.04565307, 0.039569438, 0.025912581, 0.034408998, 0.08284575, 0.027938852, 0.045427863, 0.039729882, 0.025765335, 0.025481913, 0.02976684]\n",
      "2021-06-09 18:11:09,916 : INFO : merging changes from 2000 documents into a model of 486612 documents\n",
      "2021-06-09 18:11:10,231 : INFO : topic #32 (0.023): 0.065*\"türkei\" + 0.045*\"syrien\" + 0.039*\"irak\" + 0.029*\"gewalt\" + 0.027*\"türkisch\" + 0.025*\"wolf\" + 0.016*\"erdogan\" + 0.012*\"politisch\" + 0.012*\"waffe\" + 0.010*\"rechts\"\n",
      "2021-06-09 18:11:10,233 : INFO : topic #26 (0.024): 0.040*\"pakt\" + 0.015*\"bildung_forschung\" + 0.014*\"ddr\" + 0.013*\"einheit\" + 0.012*\"forschung\" + 0.012*\"thüringen\" + 0.011*\"student\" + 0.011*\"hochschule\" + 0.010*\"mensch\" + 0.010*\"deutsch_einheit\"\n",
      "2021-06-09 18:11:10,235 : INFO : topic #37 (0.063): 0.017*\"mensch\" + 0.013*\"familie\" + 0.013*\"kind\" + 0.008*\"euro\" + 0.008*\"kollege\" + 0.007*\"dame\" + 0.006*\"kollegin\" + 0.006*\"prozent\" + 0.006*\"brauchen\" + 0.006*\"arbeit\"\n",
      "2021-06-09 18:11:10,238 : INFO : topic #11 (0.066): 0.009*\"bundesregierung\" + 0.006*\"land\" + 0.006*\"dame\" + 0.006*\"deutschland\" + 0.005*\"deutsch\" + 0.005*\"regierung\" + 0.005*\"amt\" + 0.005*\"stehen\" + 0.005*\"frau\" + 0.004*\"auswärtige\"\n",
      "2021-06-09 18:11:10,240 : INFO : topic #43 (0.083): 0.023*\"dame\" + 0.021*\"dame_herr\" + 0.008*\"mensch\" + 0.008*\"antrag\" + 0.005*\"kind\" + 0.005*\"leben\" + 0.004*\"geehrt\" + 0.004*\"deutschland\" + 0.004*\"lassen\" + 0.004*\"land\"\n",
      "2021-06-09 18:11:10,255 : INFO : topic diff=0.070482, rho=0.258199\n",
      "2021-06-09 18:11:10,531 : INFO : PROGRESS: pass 0, at document #32000/486612\n",
      "2021-06-09 18:11:18,827 : INFO : optimized alpha [0.03661607, 0.02570048, 0.03815242, 0.033582617, 0.031787127, 0.05588243, 0.058122896, 0.030165847, 0.046144858, 0.029923258, 0.029326698, 0.069785275, 0.036155753, 0.031211881, 0.029170822, 0.04753378, 0.03605507, 0.0424239, 0.047305763, 0.032466095, 0.04971642, 0.035007592, 0.036732696, 0.036980618, 0.037532832, 0.034680694, 0.024967887, 0.030553563, 0.03286113, 0.03695597, 0.025835017, 0.049975008, 0.023492953, 0.032308515, 0.04677563, 0.047295608, 0.028626537, 0.0649903, 0.035338093, 0.048400756, 0.03994289, 0.026196143, 0.035926234, 0.08835791, 0.028596459, 0.048861306, 0.04169301, 0.026297007, 0.025898043, 0.031578332]\n",
      "2021-06-09 18:11:19,090 : INFO : merging changes from 2000 documents into a model of 486612 documents\n",
      "2021-06-09 18:11:19,381 : INFO : topic #32 (0.023): 0.066*\"türkei\" + 0.043*\"syrien\" + 0.035*\"irak\" + 0.030*\"gewalt\" + 0.029*\"türkisch\" + 0.023*\"wolf\" + 0.021*\"erdogan\" + 0.012*\"waffe\" + 0.012*\"politisch\" + 0.010*\"organisation\"\n",
      "2021-06-09 18:11:19,383 : INFO : topic #26 (0.025): 0.027*\"pakt\" + 0.020*\"helmut\" + 0.017*\"ddr\" + 0.016*\"einheit\" + 0.015*\"klaus\" + 0.014*\"forschung\" + 0.014*\"ost\" + 0.014*\"kohl\" + 0.013*\"bildung_forschung\" + 0.013*\"west\"\n",
      "2021-06-09 18:11:19,385 : INFO : topic #37 (0.065): 0.016*\"mensch\" + 0.014*\"kind\" + 0.013*\"familie\" + 0.009*\"euro\" + 0.008*\"kollege\" + 0.006*\"dame\" + 0.006*\"prozent\" + 0.006*\"rente\" + 0.006*\"arbeit\" + 0.006*\"kollegin\"\n",
      "2021-06-09 18:11:19,387 : INFO : topic #11 (0.070): 0.009*\"bundesregierung\" + 0.006*\"land\" + 0.006*\"deutschland\" + 0.005*\"dame\" + 0.005*\"deutsch\" + 0.005*\"regierung\" + 0.005*\"amt\" + 0.005*\"frau\" + 0.005*\"stehen\" + 0.005*\"auswärtige\"\n",
      "2021-06-09 18:11:19,389 : INFO : topic #43 (0.088): 0.022*\"dame\" + 0.020*\"dame_herr\" + 0.007*\"mensch\" + 0.007*\"antrag\" + 0.005*\"kind\" + 0.005*\"leben\" + 0.004*\"deutschland\" + 0.004*\"ehe\" + 0.004*\"lassen\" + 0.004*\"land\"\n",
      "2021-06-09 18:11:19,404 : INFO : topic diff=0.104633, rho=0.250000\n",
      "2021-06-09 18:11:19,691 : INFO : PROGRESS: pass 0, at document #34000/486612\n",
      "2021-06-09 18:11:27,499 : INFO : optimized alpha [0.03823871, 0.026393373, 0.039210893, 0.034001503, 0.032522373, 0.057182904, 0.06105272, 0.030759787, 0.04745318, 0.030289086, 0.029820278, 0.07247355, 0.036765356, 0.032579128, 0.029733732, 0.049652494, 0.03721772, 0.04440777, 0.050024346, 0.032938175, 0.05209656, 0.035324246, 0.037639942, 0.03816054, 0.038878217, 0.035128962, 0.025284749, 0.03131585, 0.033600252, 0.038136214, 0.026123082, 0.05102818, 0.023711277, 0.033018723, 0.048658747, 0.04888341, 0.02902294, 0.06682153, 0.03622168, 0.05110622, 0.040743053, 0.026544178, 0.036949288, 0.09306552, 0.02898711, 0.05242625, 0.043909084, 0.026900934, 0.02645394, 0.032771103]\n",
      "2021-06-09 18:11:27,743 : INFO : merging changes from 2000 documents into a model of 486612 documents\n",
      "2021-06-09 18:11:28,032 : INFO : topic #32 (0.024): 0.074*\"türkei\" + 0.037*\"syrien\" + 0.037*\"türkisch\" + 0.035*\"irak\" + 0.031*\"gewalt\" + 0.023*\"wolf\" + 0.021*\"waffe\" + 0.021*\"erdogan\" + 0.010*\"politisch\" + 0.009*\"elektromobilität\"\n",
      "2021-06-09 18:11:28,034 : INFO : topic #26 (0.025): 0.024*\"pakt\" + 0.022*\"helmut\" + 0.019*\"klaus\" + 0.017*\"schröder\" + 0.017*\"forschung\" + 0.015*\"einheit\" + 0.014*\"ddr\" + 0.014*\"bildung_forschung\" + 0.014*\"ost\" + 0.012*\"hochschule\"\n",
      "2021-06-09 18:11:28,036 : INFO : topic #37 (0.067): 0.016*\"mensch\" + 0.013*\"kind\" + 0.012*\"familie\" + 0.009*\"euro\" + 0.008*\"kollege\" + 0.007*\"rente\" + 0.007*\"prozent\" + 0.006*\"dame\" + 0.006*\"kollegin\" + 0.006*\"brauchen\"\n",
      "2021-06-09 18:11:28,038 : INFO : topic #11 (0.072): 0.010*\"bundesregierung\" + 0.006*\"land\" + 0.005*\"deutschland\" + 0.005*\"amt\" + 0.005*\"regierung\" + 0.005*\"frau\" + 0.005*\"deutsch\" + 0.005*\"dame\" + 0.005*\"auswärtige\" + 0.005*\"stehen\"\n",
      "2021-06-09 18:11:28,039 : INFO : topic #43 (0.093): 0.021*\"dame\" + 0.019*\"dame_herr\" + 0.007*\"mensch\" + 0.007*\"antrag\" + 0.005*\"leben\" + 0.004*\"kind\" + 0.004*\"ehe\" + 0.004*\"deutschland\" + 0.004*\"lassen\" + 0.004*\"frau\"\n",
      "2021-06-09 18:11:28,054 : INFO : topic diff=0.065009, rho=0.242536\n",
      "2021-06-09 18:11:28,328 : INFO : PROGRESS: pass 0, at document #36000/486612\n",
      "2021-06-09 18:11:36,775 : INFO : optimized alpha [0.03998215, 0.027054764, 0.040032957, 0.034491614, 0.03290983, 0.060065083, 0.0639155, 0.03139205, 0.048851598, 0.030945573, 0.030601822, 0.07583207, 0.03771564, 0.03389265, 0.030483043, 0.052118715, 0.038441226, 0.046521135, 0.053129826, 0.03353311, 0.054995507, 0.035883043, 0.039075244, 0.039786827, 0.040468898, 0.03611412, 0.025746737, 0.032143712, 0.034790542, 0.03918621, 0.02654184, 0.05260987, 0.024163438, 0.033728536, 0.05071822, 0.050740357, 0.02952209, 0.069553636, 0.037116926, 0.053185456, 0.041524727, 0.026846329, 0.03820274, 0.099161744, 0.029596167, 0.055844862, 0.04582562, 0.027533486, 0.026884712, 0.034157183]\n",
      "2021-06-09 18:11:37,035 : INFO : merging changes from 2000 documents into a model of 486612 documents\n",
      "2021-06-09 18:11:37,345 : INFO : topic #32 (0.024): 0.095*\"türkei\" + 0.044*\"syrien\" + 0.041*\"türkisch\" + 0.033*\"irak\" + 0.028*\"gewalt\" + 0.027*\"erdogan\" + 0.020*\"waffe\" + 0.016*\"wolf\" + 0.011*\"organisation\" + 0.011*\"politisch\"\n",
      "2021-06-09 18:11:37,347 : INFO : topic #26 (0.026): 0.025*\"klaus\" + 0.024*\"helmut\" + 0.020*\"forschung\" + 0.020*\"schröder\" + 0.020*\"pakt\" + 0.017*\"bildung_forschung\" + 0.014*\"bonn\" + 0.014*\"ost\" + 0.013*\"einheit\" + 0.013*\"ddr\"\n",
      "2021-06-09 18:11:37,348 : INFO : topic #37 (0.070): 0.017*\"mensch\" + 0.015*\"kind\" + 0.013*\"familie\" + 0.008*\"euro\" + 0.007*\"rente\" + 0.007*\"kollege\" + 0.006*\"prozent\" + 0.006*\"arbeit\" + 0.006*\"dame\" + 0.006*\"brauchen\"\n",
      "2021-06-09 18:11:37,350 : INFO : topic #11 (0.076): 0.010*\"bundesregierung\" + 0.006*\"land\" + 0.005*\"regierung\" + 0.005*\"amt\" + 0.005*\"frau\" + 0.005*\"deutschland\" + 0.005*\"deutsch\" + 0.005*\"auswärtige\" + 0.005*\"stehen\" + 0.005*\"dame\"\n",
      "2021-06-09 18:11:37,352 : INFO : topic #43 (0.099): 0.020*\"dame\" + 0.018*\"dame_herr\" + 0.008*\"mensch\" + 0.007*\"antrag\" + 0.005*\"leben\" + 0.004*\"kind\" + 0.004*\"deutschland\" + 0.004*\"lassen\" + 0.004*\"frau\" + 0.004*\"ehe\"\n",
      "2021-06-09 18:11:37,366 : INFO : topic diff=0.059139, rho=0.235702\n",
      "2021-06-09 18:11:37,643 : INFO : PROGRESS: pass 0, at document #38000/486612\n",
      "2021-06-09 18:11:45,283 : INFO : optimized alpha [0.041625023, 0.027834043, 0.041276842, 0.035283227, 0.033302993, 0.06278035, 0.06608918, 0.03196871, 0.050255753, 0.03144894, 0.031131178, 0.07951564, 0.038701568, 0.035170224, 0.030894417, 0.054177273, 0.039449304, 0.048240636, 0.05633323, 0.033894014, 0.057920493, 0.036242597, 0.040199168, 0.04140847, 0.041611068, 0.036884435, 0.026073078, 0.032901157, 0.03565312, 0.04009417, 0.026788333, 0.053874213, 0.024336107, 0.034704894, 0.05309651, 0.05267009, 0.029990552, 0.07206372, 0.038098652, 0.054854866, 0.042521603, 0.027226008, 0.039247192, 0.1043496, 0.03015735, 0.05961957, 0.04738773, 0.02816849, 0.027029894, 0.035171017]\n",
      "2021-06-09 18:11:45,547 : INFO : merging changes from 2000 documents into a model of 486612 documents\n",
      "2021-06-09 18:11:45,848 : INFO : topic #32 (0.024): 0.098*\"türkei\" + 0.051*\"syrien\" + 0.040*\"türkisch\" + 0.036*\"irak\" + 0.027*\"gewalt\" + 0.025*\"erdogan\" + 0.021*\"waffe\" + 0.013*\"wolf\" + 0.011*\"organisation\" + 0.010*\"politisch\"\n",
      "2021-06-09 18:11:45,850 : INFO : topic #26 (0.026): 0.029*\"klaus\" + 0.025*\"helmut\" + 0.022*\"forschung\" + 0.022*\"schröder\" + 0.019*\"bildung_forschung\" + 0.018*\"pakt\" + 0.017*\"ost\" + 0.015*\"west\" + 0.015*\"einheit\" + 0.014*\"karl-heinz\"\n",
      "2021-06-09 18:11:45,852 : INFO : topic #37 (0.072): 0.017*\"mensch\" + 0.016*\"kind\" + 0.013*\"familie\" + 0.008*\"euro\" + 0.007*\"rente\" + 0.007*\"kollege\" + 0.006*\"prozent\" + 0.006*\"arbeit\" + 0.006*\"dame\" + 0.006*\"brauchen\"\n",
      "2021-06-09 18:11:45,855 : INFO : topic #11 (0.080): 0.010*\"bundesregierung\" + 0.006*\"land\" + 0.005*\"auswärtige\" + 0.005*\"frau\" + 0.005*\"regierung\" + 0.005*\"deutschland\" + 0.005*\"amt\" + 0.005*\"is\" + 0.005*\"deutsch\" + 0.005*\"stehen\"\n",
      "2021-06-09 18:11:45,857 : INFO : topic #43 (0.104): 0.019*\"dame\" + 0.017*\"dame_herr\" + 0.008*\"mensch\" + 0.007*\"antrag\" + 0.004*\"leben\" + 0.004*\"frau\" + 0.004*\"deutschland\" + 0.004*\"kind\" + 0.004*\"lassen\" + 0.004*\"land\"\n",
      "2021-06-09 18:11:45,872 : INFO : topic diff=0.051484, rho=0.229416\n",
      "2021-06-09 18:11:46,149 : INFO : PROGRESS: pass 0, at document #40000/486612\n",
      "2021-06-09 18:11:53,032 : INFO : optimized alpha [0.043476097, 0.028650023, 0.04238611, 0.03570053, 0.033794213, 0.06331045, 0.06843054, 0.032528743, 0.05168229, 0.03190539, 0.031611595, 0.08261002, 0.039267343, 0.036563788, 0.03136624, 0.056315217, 0.040121946, 0.050161246, 0.059256464, 0.034349065, 0.060618855, 0.036538105, 0.04123688, 0.043407716, 0.042359196, 0.037572496, 0.026401429, 0.03345314, 0.036406346, 0.041087847, 0.026901025, 0.055131786, 0.024644189, 0.03527969, 0.054964148, 0.05426268, 0.030513644, 0.07294337, 0.03885274, 0.05638647, 0.042965923, 0.027257184, 0.04040627, 0.109228574, 0.03075506, 0.06420147, 0.048483364, 0.028858367, 0.027573753, 0.0361119]\n",
      "2021-06-09 18:11:53,267 : INFO : merging changes from 2000 documents into a model of 486612 documents\n",
      "2021-06-09 18:11:53,564 : INFO : topic #32 (0.025): 0.120*\"türkei\" + 0.052*\"türkisch\" + 0.047*\"syrien\" + 0.032*\"erdogan\" + 0.031*\"irak\" + 0.024*\"gewalt\" + 0.017*\"waffe\" + 0.010*\"politisch\" + 0.010*\"organisation\" + 0.010*\"wolf\"\n",
      "2021-06-09 18:11:53,566 : INFO : topic #26 (0.026): 0.028*\"klaus\" + 0.024*\"helmut\" + 0.022*\"schröder\" + 0.022*\"forschung\" + 0.020*\"ost\" + 0.019*\"ddr\" + 0.019*\"bildung_forschung\" + 0.018*\"west\" + 0.017*\"pakt\" + 0.015*\"einheit\"\n",
      "2021-06-09 18:11:53,568 : INFO : topic #37 (0.073): 0.017*\"mensch\" + 0.015*\"kind\" + 0.012*\"familie\" + 0.009*\"rente\" + 0.008*\"euro\" + 0.007*\"kollege\" + 0.006*\"prozent\" + 0.006*\"arbeit\" + 0.006*\"dame\" + 0.006*\"linke\"\n",
      "2021-06-09 18:11:53,570 : INFO : topic #11 (0.083): 0.010*\"bundesregierung\" + 0.006*\"land\" + 0.005*\"auswärtige\" + 0.005*\"frau\" + 0.005*\"regierung\" + 0.005*\"amt\" + 0.005*\"deutsch\" + 0.005*\"deutschland\" + 0.005*\"stehen\" + 0.004*\"is\"\n",
      "2021-06-09 18:11:53,572 : INFO : topic #43 (0.109): 0.019*\"dame\" + 0.017*\"dame_herr\" + 0.007*\"mensch\" + 0.007*\"antrag\" + 0.004*\"leben\" + 0.004*\"frau\" + 0.004*\"lassen\" + 0.004*\"deutschland\" + 0.004*\"kind\" + 0.004*\"land\"\n",
      "2021-06-09 18:11:53,588 : INFO : topic diff=0.061248, rho=0.223607\n",
      "2021-06-09 18:11:53,865 : INFO : PROGRESS: pass 0, at document #42000/486612\n",
      "2021-06-09 18:12:01,310 : INFO : optimized alpha [0.045290664, 0.029212391, 0.043568235, 0.036164954, 0.034423392, 0.06478545, 0.071883224, 0.03308614, 0.053099096, 0.032472968, 0.032352794, 0.08616455, 0.04022422, 0.037757475, 0.031753033, 0.058459617, 0.040960196, 0.051847726, 0.06215872, 0.03480841, 0.064031936, 0.036856145, 0.042321976, 0.04506408, 0.04342335, 0.038188312, 0.02670053, 0.034230396, 0.037493907, 0.042038135, 0.027040126, 0.05703342, 0.025096547, 0.03593456, 0.057033718, 0.056237534, 0.031062096, 0.07445695, 0.039800942, 0.057883825, 0.043669418, 0.027522106, 0.041342705, 0.11548932, 0.031424176, 0.067757, 0.04978725, 0.029576208, 0.028248064, 0.03704832]\n",
      "2021-06-09 18:12:01,556 : INFO : merging changes from 2000 documents into a model of 486612 documents\n",
      "2021-06-09 18:12:01,853 : INFO : topic #32 (0.025): 0.139*\"türkei\" + 0.052*\"syrien\" + 0.048*\"türkisch\" + 0.031*\"irak\" + 0.028*\"erdogan\" + 0.025*\"gewalt\" + 0.017*\"waffe\" + 0.015*\"wolf\" + 0.011*\"bundesregierung\" + 0.010*\"politisch\"\n",
      "2021-06-09 18:12:01,855 : INFO : topic #26 (0.027): 0.029*\"klaus\" + 0.024*\"helmut\" + 0.023*\"forschung\" + 0.023*\"schröder\" + 0.020*\"sachsen\" + 0.020*\"ddr\" + 0.019*\"bildung_forschung\" + 0.018*\"hochschule\" + 0.017*\"pakt\" + 0.017*\"ost\"\n",
      "2021-06-09 18:12:01,857 : INFO : topic #37 (0.074): 0.016*\"mensch\" + 0.015*\"kind\" + 0.011*\"familie\" + 0.009*\"rente\" + 0.008*\"euro\" + 0.007*\"kollege\" + 0.007*\"prozent\" + 0.006*\"arbeit\" + 0.006*\"linke\" + 0.006*\"dame\"\n",
      "2021-06-09 18:12:01,859 : INFO : topic #11 (0.086): 0.011*\"bundesregierung\" + 0.006*\"land\" + 0.006*\"frau\" + 0.006*\"regierung\" + 0.005*\"auswärtige\" + 0.005*\"deutsch\" + 0.005*\"amt\" + 0.005*\"is\" + 0.005*\"deutschland\" + 0.005*\"stehen\"\n",
      "2021-06-09 18:12:01,860 : INFO : topic #43 (0.115): 0.018*\"dame\" + 0.016*\"dame_herr\" + 0.007*\"mensch\" + 0.007*\"antrag\" + 0.004*\"frau\" + 0.004*\"leben\" + 0.004*\"lassen\" + 0.004*\"deutschland\" + 0.004*\"kind\" + 0.003*\"land\"\n",
      "2021-06-09 18:12:01,875 : INFO : topic diff=0.052506, rho=0.218218\n",
      "2021-06-09 18:12:02,151 : INFO : PROGRESS: pass 0, at document #44000/486612\n",
      "2021-06-09 18:12:09,829 : INFO : optimized alpha [0.047142357, 0.02986236, 0.0448652, 0.037141502, 0.034850568, 0.06733526, 0.07509564, 0.033834495, 0.054787695, 0.03312329, 0.03344523, 0.09058281, 0.041292008, 0.03892624, 0.032443784, 0.061229773, 0.042045493, 0.05351907, 0.06511134, 0.03523603, 0.067291245, 0.0374156, 0.043939076, 0.047129773, 0.04459887, 0.03882334, 0.027137622, 0.034933373, 0.03836648, 0.04317254, 0.027318347, 0.05923313, 0.025424654, 0.036701985, 0.059205614, 0.05778464, 0.031585094, 0.07653659, 0.040861852, 0.059302885, 0.044393618, 0.027667325, 0.042288125, 0.12112365, 0.032407023, 0.07109253, 0.051054284, 0.030524164, 0.028787911, 0.038124554]\n",
      "2021-06-09 18:12:10,080 : INFO : merging changes from 2000 documents into a model of 486612 documents\n",
      "2021-06-09 18:12:10,375 : INFO : topic #32 (0.025): 0.141*\"türkei\" + 0.062*\"syrien\" + 0.043*\"türkisch\" + 0.035*\"irak\" + 0.024*\"erdogan\" + 0.024*\"gewalt\" + 0.017*\"waffe\" + 0.011*\"krieg\" + 0.011*\"wolf\" + 0.010*\"politisch\"\n",
      "2021-06-09 18:12:10,377 : INFO : topic #26 (0.027): 0.031*\"klaus\" + 0.029*\"helmut\" + 0.023*\"forschung\" + 0.022*\"ddr\" + 0.022*\"schröder\" + 0.020*\"bildung_forschung\" + 0.019*\"hochschule\" + 0.019*\"ost\" + 0.019*\"einheit\" + 0.016*\"west\"\n",
      "2021-06-09 18:12:10,379 : INFO : topic #37 (0.077): 0.016*\"mensch\" + 0.015*\"kind\" + 0.011*\"familie\" + 0.008*\"rente\" + 0.008*\"euro\" + 0.007*\"kollege\" + 0.007*\"prozent\" + 0.006*\"arbeit\" + 0.006*\"linke\" + 0.006*\"brauchen\"\n",
      "2021-06-09 18:12:10,381 : INFO : topic #11 (0.091): 0.010*\"bundesregierung\" + 0.008*\"is\" + 0.006*\"auswärtige\" + 0.006*\"land\" + 0.006*\"frau\" + 0.006*\"regierung\" + 0.005*\"deutsch\" + 0.005*\"amt\" + 0.005*\"deutschland\" + 0.005*\"stehen\"\n",
      "2021-06-09 18:12:10,382 : INFO : topic #43 (0.121): 0.018*\"dame\" + 0.016*\"dame_herr\" + 0.007*\"mensch\" + 0.007*\"antrag\" + 0.004*\"frau\" + 0.004*\"leben\" + 0.004*\"lassen\" + 0.004*\"deutschland\" + 0.004*\"kind\" + 0.003*\"land\"\n",
      "2021-06-09 18:12:10,397 : INFO : topic diff=0.059104, rho=0.213201\n",
      "2021-06-09 18:12:10,676 : INFO : PROGRESS: pass 0, at document #46000/486612\n",
      "2021-06-09 18:12:18,496 : INFO : optimized alpha [0.04905801, 0.03048511, 0.04608155, 0.037932064, 0.035379484, 0.0697519, 0.077875316, 0.034442253, 0.056344047, 0.033697434, 0.034093563, 0.09462067, 0.041880015, 0.04034536, 0.033135172, 0.063723244, 0.042790484, 0.055135287, 0.068263225, 0.035632845, 0.071244195, 0.037873726, 0.045357686, 0.04959802, 0.04566672, 0.039398294, 0.027559686, 0.035811324, 0.0394353, 0.044391684, 0.0274994, 0.061420884, 0.02557506, 0.03730525, 0.06166862, 0.059234757, 0.03203192, 0.07909483, 0.041986883, 0.060627867, 0.04506546, 0.0277709, 0.043102734, 0.12809008, 0.033107698, 0.07496462, 0.052131403, 0.031618644, 0.029275157, 0.03916825]\n",
      "2021-06-09 18:12:18,752 : INFO : merging changes from 2000 documents into a model of 486612 documents\n",
      "2021-06-09 18:12:19,055 : INFO : topic #32 (0.026): 0.127*\"türkei\" + 0.069*\"syrien\" + 0.039*\"türkisch\" + 0.039*\"irak\" + 0.027*\"gewalt\" + 0.023*\"waffe\" + 0.022*\"erdogan\" + 0.014*\"krieg\" + 0.010*\"politisch\" + 0.010*\"wolf\"\n",
      "2021-06-09 18:12:19,057 : INFO : topic #30 (0.027): 0.082*\"thoma\" + 0.066*\"norbert\" + 0.027*\"bettina\" + 0.025*\"anja\" + 0.017*\"langzeitarbeitslose\" + 0.012*\"schüler\" + 0.012*\"mein_land\" + 0.011*\"ralph\" + 0.011*\"mein\" + 0.011*\"land\"\n",
      "2021-06-09 18:12:19,059 : INFO : topic #37 (0.079): 0.016*\"mensch\" + 0.016*\"kind\" + 0.012*\"familie\" + 0.008*\"rente\" + 0.007*\"euro\" + 0.007*\"kollege\" + 0.007*\"prozent\" + 0.006*\"linke\" + 0.006*\"arbeit\" + 0.006*\"brauchen\"\n",
      "2021-06-09 18:12:19,061 : INFO : topic #11 (0.095): 0.010*\"bundesregierung\" + 0.007*\"is\" + 0.006*\"auswärtige\" + 0.006*\"regierung\" + 0.006*\"frau\" + 0.006*\"land\" + 0.005*\"deutsch\" + 0.005*\"amt\" + 0.005*\"deutschland\" + 0.005*\"petra\"\n",
      "2021-06-09 18:12:19,062 : INFO : topic #43 (0.128): 0.017*\"dame\" + 0.015*\"dame_herr\" + 0.008*\"mensch\" + 0.007*\"antrag\" + 0.005*\"leben\" + 0.004*\"frau\" + 0.004*\"lassen\" + 0.004*\"deutschland\" + 0.004*\"kind\" + 0.003*\"ehe\"\n",
      "2021-06-09 18:12:19,077 : INFO : topic diff=0.054776, rho=0.208514\n",
      "2021-06-09 18:12:19,352 : INFO : PROGRESS: pass 0, at document #48000/486612\n",
      "2021-06-09 18:12:26,428 : INFO : optimized alpha [0.050770536, 0.031364974, 0.04705484, 0.03848447, 0.0358849, 0.07141954, 0.08060073, 0.035050344, 0.057950534, 0.03412392, 0.034521494, 0.09806832, 0.042689323, 0.041873403, 0.033400666, 0.065849304, 0.043502934, 0.057040017, 0.07124009, 0.03596773, 0.07440106, 0.038275767, 0.046455692, 0.051255614, 0.046416726, 0.040055275, 0.027776176, 0.036478873, 0.040206444, 0.0456907, 0.027771087, 0.062954135, 0.025586909, 0.03777168, 0.0638386, 0.06045403, 0.032673452, 0.08074474, 0.042769503, 0.06146427, 0.045976605, 0.027944515, 0.04397245, 0.13419205, 0.033479035, 0.07951726, 0.053078573, 0.032474488, 0.029600885, 0.040097967]\n",
      "2021-06-09 18:12:26,666 : INFO : merging changes from 2000 documents into a model of 486612 documents\n",
      "2021-06-09 18:12:26,956 : INFO : topic #32 (0.026): 0.121*\"türkei\" + 0.070*\"syrien\" + 0.039*\"irak\" + 0.039*\"türkisch\" + 0.029*\"gewalt\" + 0.023*\"waffe\" + 0.020*\"erdogan\" + 0.013*\"krieg\" + 0.010*\"politisch\" + 0.010*\"syrien_irak\"\n",
      "2021-06-09 18:12:26,958 : INFO : topic #26 (0.028): 0.034*\"klaus\" + 0.032*\"helmut\" + 0.030*\"ddr\" + 0.025*\"schröder\" + 0.022*\"forschung\" + 0.021*\"bildung_forschung\" + 0.020*\"einheit\" + 0.019*\"hochschule\" + 0.015*\"ost\" + 0.015*\"tunesien\"\n",
      "2021-06-09 18:12:26,960 : INFO : topic #37 (0.081): 0.017*\"kind\" + 0.016*\"mensch\" + 0.012*\"familie\" + 0.007*\"euro\" + 0.007*\"prozent\" + 0.007*\"kollege\" + 0.007*\"rente\" + 0.006*\"linke\" + 0.006*\"arbeit\" + 0.005*\"brauchen\"\n",
      "2021-06-09 18:12:26,961 : INFO : topic #11 (0.098): 0.010*\"bundesregierung\" + 0.006*\"regierung\" + 0.006*\"auswärtige\" + 0.006*\"land\" + 0.006*\"frau\" + 0.006*\"is\" + 0.005*\"amt\" + 0.005*\"deutsch\" + 0.005*\"deutschland\" + 0.005*\"petra\"\n",
      "2021-06-09 18:12:26,963 : INFO : topic #43 (0.134): 0.017*\"dame\" + 0.014*\"dame_herr\" + 0.007*\"antrag\" + 0.007*\"mensch\" + 0.005*\"leben\" + 0.004*\"frau\" + 0.004*\"lassen\" + 0.004*\"deutschland\" + 0.003*\"kind\" + 0.003*\"land\"\n",
      "2021-06-09 18:12:26,978 : INFO : topic diff=0.048691, rho=0.204124\n",
      "2021-06-09 18:12:27,255 : INFO : PROGRESS: pass 0, at document #50000/486612\n",
      "2021-06-09 18:12:34,075 : INFO : optimized alpha [0.053134996, 0.031929825, 0.0480785, 0.039056934, 0.03655717, 0.073213935, 0.08295837, 0.035624303, 0.059549857, 0.034602795, 0.034955397, 0.1010586, 0.04333133, 0.043349866, 0.03383216, 0.067749076, 0.0443118, 0.059071768, 0.07413446, 0.036445364, 0.0771117, 0.038624484, 0.047743797, 0.052364964, 0.047275558, 0.04059998, 0.028011914, 0.037116338, 0.041122798, 0.046502035, 0.02787845, 0.06508493, 0.025757508, 0.038251404, 0.06624313, 0.061752655, 0.033100132, 0.08293939, 0.0435114, 0.06251708, 0.04701483, 0.028116794, 0.044994146, 0.14045966, 0.034092158, 0.08391257, 0.053878233, 0.03314692, 0.029953336, 0.040973205]\n",
      "2021-06-09 18:12:34,321 : INFO : merging changes from 2000 documents into a model of 486612 documents\n",
      "2021-06-09 18:12:34,608 : INFO : topic #32 (0.026): 0.124*\"türkei\" + 0.069*\"syrien\" + 0.044*\"irak\" + 0.042*\"türkisch\" + 0.028*\"gewalt\" + 0.026*\"waffe\" + 0.017*\"erdogan\" + 0.013*\"krieg\" + 0.011*\"syrien_irak\" + 0.010*\"elektromobilität\"\n",
      "2021-06-09 18:12:34,609 : INFO : topic #30 (0.028): 0.095*\"thoma\" + 0.066*\"norbert\" + 0.029*\"bettina\" + 0.026*\"langzeitarbeitslose\" + 0.023*\"anja\" + 0.014*\"schüler\" + 0.013*\"ralph\" + 0.011*\"schülerin\" + 0.010*\"lenkert\" + 0.010*\"schipanski\"\n",
      "2021-06-09 18:12:34,611 : INFO : topic #45 (0.084): 0.020*\"kollege\" + 0.016*\"kollegin\" + 0.009*\"gesetzentwurf\" + 0.009*\"frau\" + 0.009*\"fall\" + 0.008*\"sagen\" + 0.006*\"staatssekretär\" + 0.006*\"lieben\" + 0.006*\"präsidentin\" + 0.005*\"verfahren\"\n",
      "2021-06-09 18:12:34,613 : INFO : topic #11 (0.101): 0.010*\"bundesregierung\" + 0.006*\"regierung\" + 0.006*\"frau\" + 0.006*\"land\" + 0.006*\"auswärtige\" + 0.006*\"is\" + 0.005*\"deutsch\" + 0.005*\"amt\" + 0.005*\"deutschland\" + 0.005*\"petra\"\n",
      "2021-06-09 18:12:34,615 : INFO : topic #43 (0.140): 0.016*\"dame\" + 0.014*\"dame_herr\" + 0.007*\"antrag\" + 0.007*\"mensch\" + 0.004*\"leben\" + 0.004*\"frau\" + 0.004*\"lassen\" + 0.004*\"deutschland\" + 0.003*\"kind\" + 0.003*\"geehrt\"\n",
      "2021-06-09 18:12:34,629 : INFO : topic diff=0.048527, rho=0.200000\n",
      "2021-06-09 18:12:34,904 : INFO : PROGRESS: pass 0, at document #52000/486612\n",
      "2021-06-09 18:12:42,292 : INFO : optimized alpha [0.05528424, 0.032435823, 0.049005546, 0.039712455, 0.0371481, 0.076881446, 0.08617133, 0.03637918, 0.0608614, 0.03500236, 0.035523977, 0.10408189, 0.044185173, 0.04483503, 0.03455137, 0.07004469, 0.04494863, 0.061294094, 0.07724953, 0.03676838, 0.08045834, 0.038853716, 0.04926341, 0.053818442, 0.048133593, 0.041059487, 0.02834773, 0.03774296, 0.04226516, 0.047088135, 0.028098168, 0.06689726, 0.025793869, 0.039017957, 0.06847396, 0.06362335, 0.03360472, 0.086331904, 0.04460848, 0.063316874, 0.04814274, 0.028328838, 0.04592583, 0.1471566, 0.03439656, 0.087238245, 0.054795045, 0.03393418, 0.03010564, 0.042037427]\n",
      "2021-06-09 18:12:42,541 : INFO : merging changes from 2000 documents into a model of 486612 documents\n",
      "2021-06-09 18:12:42,837 : INFO : topic #32 (0.026): 0.113*\"türkei\" + 0.076*\"syrien\" + 0.047*\"irak\" + 0.038*\"türkisch\" + 0.029*\"gewalt\" + 0.026*\"waffe\" + 0.015*\"erdogan\" + 0.014*\"krieg\" + 0.013*\"syrien_irak\" + 0.010*\"politisch\"\n",
      "2021-06-09 18:12:42,839 : INFO : topic #30 (0.028): 0.105*\"thoma\" + 0.070*\"norbert\" + 0.032*\"bettina\" + 0.030*\"langzeitarbeitslose\" + 0.025*\"anja\" + 0.015*\"schüler\" + 0.015*\"ralph\" + 0.012*\"lenkert\" + 0.012*\"schülerin\" + 0.010*\"schülerin_schüler\"\n",
      "2021-06-09 18:12:42,841 : INFO : topic #45 (0.087): 0.020*\"kollege\" + 0.016*\"kollegin\" + 0.009*\"frau\" + 0.009*\"fall\" + 0.009*\"gesetzentwurf\" + 0.008*\"sagen\" + 0.006*\"staatssekretär\" + 0.006*\"lieben\" + 0.006*\"präsidentin\" + 0.005*\"gesetz\"\n",
      "2021-06-09 18:12:42,843 : INFO : topic #11 (0.104): 0.010*\"bundesregierung\" + 0.006*\"regierung\" + 0.006*\"auswärtige\" + 0.006*\"frau\" + 0.006*\"land\" + 0.005*\"amt\" + 0.005*\"deutsch\" + 0.005*\"is\" + 0.005*\"petra\" + 0.005*\"deutschland\"\n",
      "2021-06-09 18:12:42,844 : INFO : topic #43 (0.147): 0.016*\"dame\" + 0.014*\"dame_herr\" + 0.007*\"mensch\" + 0.007*\"antrag\" + 0.005*\"leben\" + 0.004*\"deutschland\" + 0.004*\"lassen\" + 0.004*\"frau\" + 0.003*\"kind\" + 0.003*\"geehrt\"\n",
      "2021-06-09 18:12:42,860 : INFO : topic diff=0.048914, rho=0.196116\n",
      "2021-06-09 18:12:43,135 : INFO : PROGRESS: pass 0, at document #54000/486612\n",
      "2021-06-09 18:12:50,547 : INFO : optimized alpha [0.056905624, 0.033014942, 0.05057834, 0.040580954, 0.037769787, 0.08057059, 0.08968547, 0.0370775, 0.06275169, 0.03557681, 0.036033187, 0.10757463, 0.045252204, 0.04630032, 0.0348821, 0.0724994, 0.045913745, 0.063592866, 0.07985951, 0.03722845, 0.08402197, 0.03910285, 0.050602045, 0.055255685, 0.04885211, 0.04159403, 0.028835492, 0.03841792, 0.04333962, 0.04770913, 0.028299822, 0.06883943, 0.025992623, 0.039677426, 0.071011856, 0.065918624, 0.0339337, 0.08961466, 0.045746826, 0.06447204, 0.049338087, 0.028508564, 0.04675976, 0.15371458, 0.03469345, 0.090704516, 0.05588631, 0.03485538, 0.030434191, 0.04314652]\n",
      "2021-06-09 18:12:50,823 : INFO : merging changes from 2000 documents into a model of 486612 documents\n",
      "2021-06-09 18:12:51,117 : INFO : topic #32 (0.026): 0.107*\"türkei\" + 0.082*\"syrien\" + 0.064*\"irak\" + 0.036*\"türkisch\" + 0.030*\"waffe\" + 0.027*\"gewalt\" + 0.015*\"krieg\" + 0.014*\"syrien_irak\" + 0.013*\"erdogan\" + 0.010*\"politisch\"\n",
      "2021-06-09 18:12:51,120 : INFO : topic #30 (0.028): 0.121*\"thoma\" + 0.073*\"norbert\" + 0.034*\"bettina\" + 0.028*\"langzeitarbeitslose\" + 0.026*\"anja\" + 0.016*\"schüler\" + 0.015*\"ralph\" + 0.013*\"schülerin\" + 0.012*\"lenkert\" + 0.011*\"schülerin_schüler\"\n",
      "2021-06-09 18:12:51,122 : INFO : topic #45 (0.091): 0.020*\"kollege\" + 0.016*\"kollegin\" + 0.009*\"frau\" + 0.009*\"fall\" + 0.008*\"gesetzentwurf\" + 0.007*\"sagen\" + 0.006*\"staatssekretär\" + 0.006*\"lieben\" + 0.006*\"präsidentin\" + 0.005*\"verfahren\"\n",
      "2021-06-09 18:12:51,124 : INFO : topic #11 (0.108): 0.010*\"bundesregierung\" + 0.006*\"regierung\" + 0.006*\"frau\" + 0.006*\"auswärtige\" + 0.005*\"land\" + 0.005*\"amt\" + 0.005*\"is\" + 0.005*\"deutsch\" + 0.005*\"petra\" + 0.005*\"deutschland\"\n",
      "2021-06-09 18:12:51,126 : INFO : topic #43 (0.154): 0.016*\"dame\" + 0.013*\"dame_herr\" + 0.007*\"mensch\" + 0.007*\"antrag\" + 0.005*\"leben\" + 0.004*\"lassen\" + 0.004*\"deutschland\" + 0.004*\"frau\" + 0.003*\"kind\" + 0.003*\"stehen\"\n",
      "2021-06-09 18:12:51,141 : INFO : topic diff=0.045847, rho=0.192450\n",
      "2021-06-09 18:12:51,420 : INFO : PROGRESS: pass 0, at document #56000/486612\n",
      "2021-06-09 18:12:59,166 : INFO : optimized alpha [0.058706317, 0.03366712, 0.052328233, 0.04135101, 0.038450193, 0.08412782, 0.09264222, 0.037849087, 0.06482271, 0.036193483, 0.036566537, 0.11047237, 0.046329625, 0.0474303, 0.035278123, 0.0751687, 0.046877805, 0.06530734, 0.08324016, 0.037645184, 0.08734488, 0.039588414, 0.051984858, 0.056663647, 0.0495555, 0.0421126, 0.029334592, 0.038891044, 0.044226587, 0.048220754, 0.028532771, 0.071422964, 0.025994308, 0.040081143, 0.07374391, 0.06762649, 0.03440883, 0.094019815, 0.0468151, 0.06526663, 0.049994152, 0.028673086, 0.047443654, 0.16127935, 0.035013355, 0.09416409, 0.05683636, 0.03564138, 0.030901283, 0.043881256]\n",
      "2021-06-09 18:12:59,406 : INFO : merging changes from 2000 documents into a model of 486612 documents\n",
      "2021-06-09 18:12:59,692 : INFO : topic #32 (0.026): 0.100*\"türkei\" + 0.092*\"syrien\" + 0.059*\"irak\" + 0.034*\"waffe\" + 0.033*\"türkisch\" + 0.027*\"gewalt\" + 0.015*\"krieg\" + 0.013*\"syrien_irak\" + 0.012*\"erdogan\" + 0.010*\"politisch\"\n",
      "2021-06-09 18:12:59,694 : INFO : topic #30 (0.029): 0.133*\"thoma\" + 0.074*\"norbert\" + 0.036*\"bettina\" + 0.033*\"langzeitarbeitslose\" + 0.028*\"anja\" + 0.016*\"ralph\" + 0.016*\"schüler\" + 0.013*\"schülerin\" + 0.012*\"lenkert\" + 0.012*\"grütters\"\n",
      "2021-06-09 18:12:59,695 : INFO : topic #45 (0.094): 0.020*\"kollege\" + 0.016*\"kollegin\" + 0.009*\"frau\" + 0.009*\"fall\" + 0.008*\"gesetzentwurf\" + 0.007*\"sagen\" + 0.006*\"staatssekretär\" + 0.006*\"präsidentin\" + 0.006*\"lieben\" + 0.005*\"stehen\"\n",
      "2021-06-09 18:12:59,697 : INFO : topic #11 (0.110): 0.010*\"bundesregierung\" + 0.006*\"regierung\" + 0.006*\"frau\" + 0.005*\"land\" + 0.005*\"petra\" + 0.005*\"deutsch\" + 0.005*\"amt\" + 0.005*\"auswärtige\" + 0.005*\"deutschland\" + 0.005*\"stehen\"\n",
      "2021-06-09 18:12:59,699 : INFO : topic #43 (0.161): 0.015*\"dame\" + 0.013*\"dame_herr\" + 0.007*\"antrag\" + 0.007*\"mensch\" + 0.005*\"leben\" + 0.004*\"lassen\" + 0.004*\"deutschland\" + 0.004*\"frau\" + 0.003*\"kind\" + 0.003*\"stehen\"\n",
      "2021-06-09 18:12:59,714 : INFO : topic diff=0.044453, rho=0.188982\n",
      "2021-06-09 18:12:59,988 : INFO : PROGRESS: pass 0, at document #58000/486612\n",
      "2021-06-09 18:13:06,274 : INFO : optimized alpha [0.0601722, 0.03421605, 0.05367462, 0.042156756, 0.038901303, 0.08465933, 0.09507206, 0.038317565, 0.065934315, 0.036540758, 0.037205074, 0.11415678, 0.047016833, 0.04881091, 0.03548526, 0.07670519, 0.04749192, 0.06781364, 0.08569907, 0.038189862, 0.09000709, 0.039779484, 0.053367812, 0.05802194, 0.05015528, 0.042719938, 0.02945297, 0.039392307, 0.044721983, 0.04892578, 0.028604258, 0.07333317, 0.026111757, 0.04054788, 0.07573689, 0.068971, 0.034853626, 0.095743656, 0.047550417, 0.065820344, 0.0504779, 0.028823895, 0.04788534, 0.16702883, 0.035554264, 0.09788165, 0.057247564, 0.036344733, 0.031185647, 0.044837773]\n",
      "2021-06-09 18:13:06,527 : INFO : merging changes from 2000 documents into a model of 486612 documents\n",
      "2021-06-09 18:13:06,817 : INFO : topic #32 (0.026): 0.100*\"türkei\" + 0.093*\"syrien\" + 0.053*\"irak\" + 0.036*\"türkisch\" + 0.033*\"waffe\" + 0.029*\"gewalt\" + 0.015*\"krieg\" + 0.011*\"erdogan\" + 0.011*\"syrien_irak\" + 0.010*\"politisch\"\n",
      "2021-06-09 18:13:06,818 : INFO : topic #30 (0.029): 0.137*\"thoma\" + 0.072*\"norbert\" + 0.036*\"bettina\" + 0.033*\"langzeitarbeitslose\" + 0.028*\"anja\" + 0.016*\"ralph\" + 0.015*\"schüler\" + 0.013*\"lenkert\" + 0.013*\"schülerin\" + 0.012*\"grütters\"\n",
      "2021-06-09 18:13:06,820 : INFO : topic #45 (0.098): 0.020*\"kollege\" + 0.016*\"kollegin\" + 0.010*\"frau\" + 0.009*\"fall\" + 0.007*\"sagen\" + 0.007*\"gesetzentwurf\" + 0.006*\"staatssekretär\" + 0.006*\"präsidentin\" + 0.005*\"lieben\" + 0.005*\"stehen\"\n",
      "2021-06-09 18:13:06,822 : INFO : topic #11 (0.114): 0.010*\"bundesregierung\" + 0.006*\"regierung\" + 0.006*\"frau\" + 0.006*\"deutsch\" + 0.005*\"land\" + 0.005*\"auswärtige\" + 0.005*\"petra\" + 0.005*\"deutschland\" + 0.005*\"amt\" + 0.005*\"stehen\"\n",
      "2021-06-09 18:13:06,824 : INFO : topic #43 (0.167): 0.015*\"dame\" + 0.013*\"dame_herr\" + 0.007*\"antrag\" + 0.007*\"mensch\" + 0.005*\"leben\" + 0.005*\"lassen\" + 0.004*\"deutschland\" + 0.004*\"frau\" + 0.003*\"geehrt\" + 0.003*\"stehen\"\n",
      "2021-06-09 18:13:06,838 : INFO : topic diff=0.053799, rho=0.185695\n",
      "2021-06-09 18:13:07,113 : INFO : PROGRESS: pass 0, at document #60000/486612\n",
      "2021-06-09 18:13:14,162 : INFO : optimized alpha [0.06255851, 0.03461088, 0.054737452, 0.042689748, 0.03942306, 0.08539222, 0.0980241, 0.038755666, 0.06741821, 0.03692029, 0.03750749, 0.11789102, 0.047631864, 0.050042845, 0.03628085, 0.07833868, 0.048248515, 0.07052526, 0.08884141, 0.039410073, 0.09270084, 0.040360264, 0.054731235, 0.058954846, 0.05077545, 0.043627582, 0.029998127, 0.040034145, 0.04568887, 0.04964984, 0.028783249, 0.07512334, 0.026116585, 0.040854093, 0.078082226, 0.069906265, 0.035330486, 0.099172495, 0.04832969, 0.0675674, 0.05079187, 0.02896056, 0.049208805, 0.17616889, 0.03577584, 0.10207781, 0.057994843, 0.03708259, 0.031508267, 0.046392694]\n",
      "2021-06-09 18:13:14,412 : INFO : merging changes from 2000 documents into a model of 486612 documents\n",
      "2021-06-09 18:13:14,700 : INFO : topic #32 (0.026): 0.104*\"syrien\" + 0.102*\"türkei\" + 0.047*\"irak\" + 0.037*\"waffe\" + 0.033*\"türkisch\" + 0.027*\"gewalt\" + 0.016*\"krieg\" + 0.011*\"erdogan\" + 0.010*\"politisch\" + 0.009*\"syrien_irak\"\n",
      "2021-06-09 18:13:14,702 : INFO : topic #30 (0.029): 0.138*\"thoma\" + 0.076*\"norbert\" + 0.035*\"bettina\" + 0.029*\"langzeitarbeitslose\" + 0.024*\"anja\" + 0.020*\"schüler\" + 0.019*\"schülerin\" + 0.017*\"schülerin_schüler\" + 0.015*\"ralph\" + 0.012*\"lenkert\"\n",
      "2021-06-09 18:13:14,704 : INFO : topic #45 (0.102): 0.019*\"kollege\" + 0.015*\"kollegin\" + 0.009*\"frau\" + 0.009*\"fall\" + 0.007*\"gesetzentwurf\" + 0.007*\"sagen\" + 0.006*\"staatssekretär\" + 0.005*\"stehen\" + 0.005*\"lieben\" + 0.005*\"präsidentin\"\n",
      "2021-06-09 18:13:14,706 : INFO : topic #11 (0.118): 0.010*\"bundesregierung\" + 0.007*\"regierung\" + 0.006*\"petra\" + 0.006*\"deutsch\" + 0.005*\"land\" + 0.005*\"frau\" + 0.005*\"deutschland\" + 0.005*\"auswärtige\" + 0.005*\"amt\" + 0.005*\"stehen\"\n",
      "2021-06-09 18:13:14,708 : INFO : topic #43 (0.176): 0.014*\"dame\" + 0.011*\"dame_herr\" + 0.009*\"antrag\" + 0.006*\"mensch\" + 0.004*\"lassen\" + 0.004*\"leben\" + 0.004*\"deutschland\" + 0.004*\"frau\" + 0.003*\"fordern\" + 0.003*\"stehen\"\n",
      "2021-06-09 18:13:14,722 : INFO : topic diff=0.060022, rho=0.182574\n",
      "2021-06-09 18:13:14,996 : INFO : PROGRESS: pass 0, at document #62000/486612\n",
      "2021-06-09 18:13:22,206 : INFO : optimized alpha [0.065419964, 0.0352098, 0.056030557, 0.042969525, 0.039751574, 0.08711941, 0.10232956, 0.039434124, 0.06951196, 0.037449937, 0.037741017, 0.12101343, 0.048438586, 0.051589422, 0.03701988, 0.08019516, 0.04932052, 0.072705515, 0.09248089, 0.04036304, 0.09641897, 0.0408162, 0.055848297, 0.06006594, 0.05147087, 0.04482724, 0.030402048, 0.040696092, 0.047031153, 0.050689887, 0.028927073, 0.076443285, 0.026059017, 0.041352943, 0.08055326, 0.07099854, 0.035826527, 0.10156697, 0.049238577, 0.069017984, 0.05176495, 0.02920994, 0.050651044, 0.18627825, 0.036023583, 0.107253976, 0.058816515, 0.037652615, 0.03200945, 0.047538694]\n",
      "2021-06-09 18:13:22,480 : INFO : merging changes from 2000 documents into a model of 486612 documents\n",
      "2021-06-09 18:13:22,769 : INFO : topic #32 (0.026): 0.116*\"türkei\" + 0.094*\"syrien\" + 0.043*\"irak\" + 0.039*\"türkisch\" + 0.035*\"waffe\" + 0.029*\"gewalt\" + 0.015*\"krieg\" + 0.015*\"erdogan\" + 0.010*\"politisch\" + 0.009*\"bundesregierung\"\n",
      "2021-06-09 18:13:22,771 : INFO : topic #30 (0.029): 0.134*\"thoma\" + 0.077*\"norbert\" + 0.035*\"bettina\" + 0.027*\"langzeitarbeitslose\" + 0.023*\"schüler\" + 0.022*\"schülerin\" + 0.021*\"anja\" + 0.019*\"schülerin_schüler\" + 0.017*\"ralph\" + 0.013*\"lenkert\"\n",
      "2021-06-09 18:13:22,773 : INFO : topic #45 (0.107): 0.019*\"kollege\" + 0.014*\"kollegin\" + 0.009*\"fall\" + 0.008*\"frau\" + 0.007*\"gesetzentwurf\" + 0.006*\"sagen\" + 0.006*\"staatssekretär\" + 0.005*\"verfahren\" + 0.005*\"stehen\" + 0.005*\"lieben\"\n",
      "2021-06-09 18:13:22,774 : INFO : topic #11 (0.121): 0.011*\"bundesregierung\" + 0.007*\"regierung\" + 0.006*\"petra\" + 0.006*\"deutsch\" + 0.005*\"auswärtige\" + 0.005*\"land\" + 0.005*\"frau\" + 0.005*\"deutschland\" + 0.005*\"amt\" + 0.005*\"stehen\"\n",
      "2021-06-09 18:13:22,776 : INFO : topic #43 (0.186): 0.012*\"dame\" + 0.010*\"dame_herr\" + 0.010*\"antrag\" + 0.006*\"mensch\" + 0.004*\"deutschland\" + 0.004*\"lassen\" + 0.004*\"leben\" + 0.003*\"fordern\" + 0.003*\"frau\" + 0.003*\"problem\"\n",
      "2021-06-09 18:13:22,791 : INFO : topic diff=0.052469, rho=0.179605\n",
      "2021-06-09 18:13:23,066 : INFO : PROGRESS: pass 0, at document #64000/486612\n",
      "2021-06-09 18:13:29,931 : INFO : optimized alpha [0.06778228, 0.03562092, 0.057385523, 0.043181647, 0.040344626, 0.089568205, 0.10575613, 0.040168587, 0.072096996, 0.038003616, 0.037791375, 0.12307691, 0.04905494, 0.0531407, 0.037660956, 0.082031466, 0.050232314, 0.07487367, 0.0960703, 0.04083978, 0.100659736, 0.041233066, 0.05672686, 0.061065245, 0.05210429, 0.045329884, 0.030677857, 0.041105676, 0.048084516, 0.051529873, 0.029044634, 0.07741188, 0.026047545, 0.04185827, 0.08265808, 0.07232773, 0.036297355, 0.10442591, 0.04967746, 0.07020154, 0.053138897, 0.02940335, 0.051527314, 0.19489233, 0.03606438, 0.11224051, 0.059774008, 0.038512122, 0.032571714, 0.048553172]\n",
      "2021-06-09 18:13:30,182 : INFO : merging changes from 2000 documents into a model of 486612 documents\n",
      "2021-06-09 18:13:30,475 : INFO : topic #32 (0.026): 0.104*\"türkei\" + 0.084*\"syrien\" + 0.042*\"waffe\" + 0.040*\"irak\" + 0.036*\"türkisch\" + 0.033*\"zypern\" + 0.028*\"gewalt\" + 0.014*\"krieg\" + 0.013*\"erdogan\" + 0.010*\"bundesregierung\"\n",
      "2021-06-09 18:13:30,477 : INFO : topic #30 (0.029): 0.136*\"thoma\" + 0.080*\"norbert\" + 0.034*\"bettina\" + 0.026*\"langzeitarbeitslose\" + 0.022*\"schüler\" + 0.021*\"schülerin\" + 0.019*\"schülerin_schüler\" + 0.018*\"anja\" + 0.017*\"ralph\" + 0.012*\"lenkert\"\n",
      "2021-06-09 18:13:30,478 : INFO : topic #45 (0.112): 0.019*\"kollege\" + 0.014*\"kollegin\" + 0.009*\"fall\" + 0.008*\"frau\" + 0.007*\"gesetzentwurf\" + 0.006*\"staatssekretär\" + 0.006*\"sagen\" + 0.005*\"verfahren\" + 0.005*\"stehen\" + 0.005*\"lieben\"\n",
      "2021-06-09 18:13:30,480 : INFO : topic #11 (0.123): 0.012*\"bundesregierung\" + 0.007*\"regierung\" + 0.006*\"petra\" + 0.006*\"auswärtige\" + 0.006*\"deutsch\" + 0.005*\"land\" + 0.005*\"amt\" + 0.005*\"deutschland\" + 0.005*\"frau\" + 0.004*\"stehen\"\n",
      "2021-06-09 18:13:30,482 : INFO : topic #43 (0.195): 0.012*\"dame\" + 0.010*\"antrag\" + 0.010*\"dame_herr\" + 0.006*\"mensch\" + 0.004*\"deutschland\" + 0.004*\"lassen\" + 0.004*\"leben\" + 0.004*\"fordern\" + 0.003*\"problem\" + 0.003*\"forderung\"\n",
      "2021-06-09 18:13:30,497 : INFO : topic diff=0.049083, rho=0.176777\n",
      "2021-06-09 18:13:30,772 : INFO : PROGRESS: pass 0, at document #66000/486612\n",
      "2021-06-09 18:13:37,968 : INFO : optimized alpha [0.070504844, 0.036199827, 0.058637843, 0.04349285, 0.04079365, 0.091131546, 0.108751915, 0.04078217, 0.074364014, 0.038497955, 0.038204238, 0.12670629, 0.049706347, 0.054697827, 0.03835802, 0.08389531, 0.05130548, 0.07675263, 0.1000953, 0.041608967, 0.10489119, 0.04166824, 0.05773437, 0.06217463, 0.052648947, 0.046136495, 0.03085398, 0.04159366, 0.04923329, 0.05244628, 0.029173102, 0.078198664, 0.026031876, 0.04223372, 0.08532241, 0.073110215, 0.03678406, 0.107073, 0.05050603, 0.07173, 0.054046053, 0.029704878, 0.052575618, 0.20493262, 0.03617562, 0.11863741, 0.06032777, 0.03930152, 0.033096284, 0.049223986]\n",
      "2021-06-09 18:13:38,226 : INFO : merging changes from 2000 documents into a model of 486612 documents\n",
      "2021-06-09 18:13:38,514 : INFO : topic #32 (0.026): 0.102*\"türkei\" + 0.091*\"syrien\" + 0.048*\"waffe\" + 0.036*\"irak\" + 0.034*\"türkisch\" + 0.029*\"zypern\" + 0.028*\"gewalt\" + 0.016*\"krieg\" + 0.011*\"erdogan\" + 0.011*\"bundesregierung\"\n",
      "2021-06-09 18:13:38,515 : INFO : topic #30 (0.029): 0.134*\"thoma\" + 0.081*\"norbert\" + 0.033*\"bettina\" + 0.027*\"langzeitarbeitslose\" + 0.024*\"schüler\" + 0.022*\"schülerin\" + 0.020*\"schülerin_schüler\" + 0.017*\"ralph\" + 0.016*\"anja\" + 0.013*\"lenkert\"\n",
      "2021-06-09 18:13:38,517 : INFO : topic #45 (0.119): 0.019*\"kollege\" + 0.014*\"kollegin\" + 0.009*\"fall\" + 0.008*\"frau\" + 0.007*\"gesetzentwurf\" + 0.006*\"staatssekretär\" + 0.006*\"sagen\" + 0.005*\"verfahren\" + 0.005*\"abs.\" + 0.005*\"stehen\"\n",
      "2021-06-09 18:13:38,519 : INFO : topic #11 (0.127): 0.012*\"bundesregierung\" + 0.007*\"regierung\" + 0.006*\"petra\" + 0.006*\"auswärtige\" + 0.006*\"deutsch\" + 0.005*\"deutschland\" + 0.005*\"amt\" + 0.005*\"land\" + 0.004*\"frau\" + 0.004*\"stehen\"\n",
      "2021-06-09 18:13:38,521 : INFO : topic #43 (0.205): 0.011*\"antrag\" + 0.011*\"dame\" + 0.009*\"dame_herr\" + 0.006*\"mensch\" + 0.004*\"deutschland\" + 0.004*\"lassen\" + 0.004*\"fordern\" + 0.004*\"leben\" + 0.003*\"forderung\" + 0.003*\"problem\"\n",
      "2021-06-09 18:13:38,535 : INFO : topic diff=0.045070, rho=0.174078\n",
      "2021-06-09 18:13:38,811 : INFO : PROGRESS: pass 0, at document #68000/486612\n",
      "2021-06-09 18:13:46,057 : INFO : optimized alpha [0.07305991, 0.036611587, 0.06008573, 0.04390711, 0.04123636, 0.09462595, 0.11196693, 0.04143485, 0.076379456, 0.038977996, 0.038673516, 0.13110864, 0.050248865, 0.056160145, 0.03922604, 0.08569504, 0.051807582, 0.07851914, 0.10358641, 0.04242894, 0.10956245, 0.04225087, 0.05913174, 0.06330561, 0.05369439, 0.04695134, 0.03129226, 0.04226945, 0.050396573, 0.05322416, 0.029329117, 0.07957985, 0.026072709, 0.04280527, 0.08778827, 0.07455733, 0.037269615, 0.110622406, 0.05153008, 0.07289261, 0.0550655, 0.030130839, 0.0535178, 0.2149186, 0.03653781, 0.12401668, 0.06115938, 0.04008608, 0.033481885, 0.050189354]\n",
      "2021-06-09 18:13:46,328 : INFO : merging changes from 2000 documents into a model of 486612 documents\n",
      "2021-06-09 18:13:46,614 : INFO : topic #32 (0.026): 0.102*\"türkei\" + 0.085*\"syrien\" + 0.047*\"waffe\" + 0.035*\"türkisch\" + 0.031*\"irak\" + 0.030*\"gewalt\" + 0.025*\"zypern\" + 0.016*\"krieg\" + 0.011*\"bundesregierung\" + 0.010*\"politisch\"\n",
      "2021-06-09 18:13:46,616 : INFO : topic #30 (0.029): 0.142*\"thoma\" + 0.091*\"norbert\" + 0.035*\"bettina\" + 0.028*\"langzeitarbeitslose\" + 0.020*\"schüler\" + 0.020*\"schülerin\" + 0.018*\"ralph\" + 0.018*\"schülerin_schüler\" + 0.013*\"dr._kirsten\" + 0.013*\"anja\"\n",
      "2021-06-09 18:13:46,617 : INFO : topic #45 (0.124): 0.019*\"kollege\" + 0.013*\"kollegin\" + 0.009*\"fall\" + 0.007*\"frau\" + 0.007*\"gesetzentwurf\" + 0.007*\"staatssekretär\" + 0.006*\"sagen\" + 0.005*\"verfahren\" + 0.005*\"abs.\" + 0.005*\"stehen\"\n",
      "2021-06-09 18:13:46,619 : INFO : topic #11 (0.131): 0.013*\"bundesregierung\" + 0.008*\"regierung\" + 0.007*\"petra\" + 0.006*\"auswärtige\" + 0.006*\"deutsch\" + 0.006*\"amt\" + 0.005*\"deutschland\" + 0.005*\"land\" + 0.004*\"stehen\" + 0.004*\"frau\"\n",
      "2021-06-09 18:13:46,621 : INFO : topic #43 (0.215): 0.011*\"antrag\" + 0.011*\"dame\" + 0.009*\"dame_herr\" + 0.006*\"mensch\" + 0.004*\"deutschland\" + 0.004*\"lassen\" + 0.004*\"fordern\" + 0.004*\"leben\" + 0.003*\"forderung\" + 0.003*\"grund\"\n",
      "2021-06-09 18:13:46,635 : INFO : topic diff=0.040917, rho=0.171499\n",
      "2021-06-09 18:13:46,911 : INFO : PROGRESS: pass 0, at document #70000/486612\n",
      "2021-06-09 18:13:53,864 : INFO : optimized alpha [0.07521891, 0.037204437, 0.061402023, 0.043998748, 0.041796952, 0.098286636, 0.11447332, 0.042228274, 0.07915031, 0.039495155, 0.03865139, 0.13277195, 0.050936688, 0.057574935, 0.039969046, 0.08785154, 0.052650973, 0.0802881, 0.10737092, 0.042980794, 0.114735045, 0.042572323, 0.060048457, 0.06408313, 0.054095168, 0.047561456, 0.03172539, 0.04280552, 0.051285755, 0.05388371, 0.029548893, 0.08056708, 0.025972333, 0.04338799, 0.090173624, 0.07540973, 0.037616003, 0.115022466, 0.05243127, 0.07348032, 0.056460977, 0.030389987, 0.054013126, 0.22402924, 0.0365855, 0.12826087, 0.061916187, 0.040893443, 0.03398788, 0.05103477]\n",
      "2021-06-09 18:13:54,143 : INFO : merging changes from 2000 documents into a model of 486612 documents\n",
      "2021-06-09 18:13:54,432 : INFO : topic #32 (0.026): 0.095*\"türkei\" + 0.084*\"syrien\" + 0.051*\"waffe\" + 0.034*\"türkisch\" + 0.031*\"gewalt\" + 0.030*\"irak\" + 0.023*\"zypern\" + 0.016*\"krieg\" + 0.011*\"bundesregierung\" + 0.010*\"politisch\"\n",
      "2021-06-09 18:13:54,434 : INFO : topic #30 (0.030): 0.143*\"thoma\" + 0.095*\"norbert\" + 0.037*\"bettina\" + 0.029*\"langzeitarbeitslose\" + 0.020*\"schüler\" + 0.019*\"ralph\" + 0.018*\"schülerin\" + 0.016*\"schülerin_schüler\" + 0.014*\"dr._kirsten\" + 0.014*\"lenkert\"\n",
      "2021-06-09 18:13:54,436 : INFO : topic #45 (0.128): 0.019*\"kollege\" + 0.013*\"kollegin\" + 0.009*\"fall\" + 0.007*\"frau\" + 0.007*\"gesetzentwurf\" + 0.006*\"staatssekretär\" + 0.005*\"sagen\" + 0.005*\"verfahren\" + 0.005*\"abs.\" + 0.005*\"stehen\"\n",
      "2021-06-09 18:13:54,438 : INFO : topic #11 (0.133): 0.013*\"bundesregierung\" + 0.008*\"regierung\" + 0.007*\"petra\" + 0.006*\"deutsch\" + 0.006*\"auswärtige\" + 0.006*\"amt\" + 0.005*\"deutschland\" + 0.005*\"land\" + 0.004*\"stehen\" + 0.004*\"frau\"\n",
      "2021-06-09 18:13:54,440 : INFO : topic #43 (0.224): 0.011*\"antrag\" + 0.011*\"dame\" + 0.009*\"dame_herr\" + 0.005*\"mensch\" + 0.005*\"lassen\" + 0.004*\"deutschland\" + 0.004*\"fordern\" + 0.004*\"leben\" + 0.003*\"forderung\" + 0.003*\"grund\"\n",
      "2021-06-09 18:13:54,454 : INFO : topic diff=0.041344, rho=0.169031\n",
      "2021-06-09 18:13:54,729 : INFO : PROGRESS: pass 0, at document #72000/486612\n",
      "2021-06-09 18:14:01,361 : INFO : optimized alpha [0.078334, 0.037636902, 0.06294758, 0.044325348, 0.042367514, 0.09994633, 0.11840775, 0.042600546, 0.08112246, 0.040111046, 0.03896995, 0.13561143, 0.051646642, 0.059010733, 0.04085546, 0.08950952, 0.053442568, 0.08169769, 0.111239135, 0.043572422, 0.11751981, 0.042878825, 0.06127579, 0.06522501, 0.054829556, 0.04804, 0.032138098, 0.043429997, 0.0525525, 0.054754402, 0.029654328, 0.08185635, 0.025948659, 0.043793716, 0.092264116, 0.07648417, 0.038016424, 0.117038004, 0.053442813, 0.07411174, 0.05727472, 0.03069857, 0.054780744, 0.23294653, 0.036840305, 0.13334692, 0.06259469, 0.041808438, 0.03434469, 0.051988926]\n",
      "2021-06-09 18:14:01,609 : INFO : merging changes from 2000 documents into a model of 486612 documents\n",
      "2021-06-09 18:14:01,902 : INFO : topic #32 (0.026): 0.086*\"türkei\" + 0.081*\"syrien\" + 0.052*\"waffe\" + 0.036*\"gewalt\" + 0.030*\"türkisch\" + 0.027*\"irak\" + 0.021*\"zypern\" + 0.016*\"krieg\" + 0.011*\"bundesregierung\" + 0.011*\"extremismus\"\n",
      "2021-06-09 18:14:01,904 : INFO : topic #30 (0.030): 0.141*\"thoma\" + 0.094*\"norbert\" + 0.035*\"bettina\" + 0.027*\"langzeitarbeitslose\" + 0.022*\"schüler\" + 0.021*\"schülerin\" + 0.020*\"myanmar\" + 0.020*\"schülerin_schüler\" + 0.018*\"ralph\" + 0.014*\"lenkert\"\n",
      "2021-06-09 18:14:01,906 : INFO : topic #45 (0.133): 0.019*\"kollege\" + 0.013*\"kollegin\" + 0.009*\"fall\" + 0.007*\"staatssekretär\" + 0.007*\"frau\" + 0.007*\"gesetzentwurf\" + 0.005*\"abs.\" + 0.005*\"verfahren\" + 0.005*\"sagen\" + 0.005*\"herr_staatssekretär\"\n",
      "2021-06-09 18:14:01,908 : INFO : topic #11 (0.136): 0.013*\"bundesregierung\" + 0.008*\"regierung\" + 0.007*\"petra\" + 0.006*\"deutsch\" + 0.006*\"auswärtige\" + 0.006*\"amt\" + 0.005*\"deutschland\" + 0.005*\"land\" + 0.004*\"stehen\" + 0.004*\"frau\"\n",
      "2021-06-09 18:14:01,910 : INFO : topic #43 (0.233): 0.013*\"antrag\" + 0.010*\"dame\" + 0.008*\"dame_herr\" + 0.005*\"mensch\" + 0.004*\"lassen\" + 0.004*\"deutschland\" + 0.004*\"fordern\" + 0.004*\"forderung\" + 0.003*\"leben\" + 0.003*\"problem\"\n",
      "2021-06-09 18:14:01,924 : INFO : topic diff=0.035354, rho=0.166667\n",
      "2021-06-09 18:14:02,200 : INFO : PROGRESS: pass 0, at document #74000/486612\n",
      "2021-06-09 18:14:08,567 : INFO : optimized alpha [0.081333265, 0.038105197, 0.064191654, 0.044594552, 0.042972054, 0.10161491, 0.121676646, 0.043159015, 0.083168216, 0.04052582, 0.038997088, 0.137595, 0.05212899, 0.060252726, 0.041315347, 0.09157832, 0.054215405, 0.08368525, 0.11455326, 0.04419524, 0.121491686, 0.043121632, 0.062157646, 0.06618066, 0.055294383, 0.048461296, 0.032371327, 0.043798413, 0.053423665, 0.05571286, 0.029811999, 0.08282297, 0.025855832, 0.04429782, 0.09499675, 0.07749659, 0.03837132, 0.1205023, 0.053873457, 0.07466015, 0.05791607, 0.030955011, 0.05518701, 0.24287976, 0.0370933, 0.13851985, 0.06278232, 0.042567372, 0.034791663, 0.052853]\n",
      "2021-06-09 18:14:08,832 : INFO : merging changes from 2000 documents into a model of 486612 documents\n",
      "2021-06-09 18:14:09,115 : INFO : topic #32 (0.026): 0.094*\"türkei\" + 0.071*\"syrien\" + 0.067*\"waffe\" + 0.034*\"gewalt\" + 0.033*\"türkisch\" + 0.023*\"irak\" + 0.018*\"zypern\" + 0.014*\"krieg\" + 0.012*\"extremismus\" + 0.011*\"organisation\"\n",
      "2021-06-09 18:14:09,117 : INFO : topic #30 (0.030): 0.137*\"thoma\" + 0.095*\"norbert\" + 0.034*\"bettina\" + 0.027*\"langzeitarbeitslose\" + 0.021*\"schüler\" + 0.021*\"schülerin\" + 0.019*\"ralph\" + 0.019*\"schülerin_schüler\" + 0.018*\"myanmar\" + 0.014*\"lenkert\"\n",
      "2021-06-09 18:14:09,118 : INFO : topic #11 (0.138): 0.014*\"bundesregierung\" + 0.008*\"regierung\" + 0.007*\"petra\" + 0.007*\"deutsch\" + 0.006*\"amt\" + 0.006*\"auswärtige\" + 0.005*\"deutschland\" + 0.005*\"land\" + 0.004*\"stehen\" + 0.004*\"frau\"\n",
      "2021-06-09 18:14:09,120 : INFO : topic #45 (0.139): 0.019*\"kollege\" + 0.013*\"kollegin\" + 0.009*\"fall\" + 0.008*\"staatssekretär\" + 0.007*\"frau\" + 0.007*\"gesetzentwurf\" + 0.005*\"abs.\" + 0.005*\"herr_staatssekretär\" + 0.005*\"verfahren\" + 0.005*\"sagen\"\n",
      "2021-06-09 18:14:09,122 : INFO : topic #43 (0.243): 0.014*\"antrag\" + 0.009*\"dame\" + 0.008*\"dame_herr\" + 0.005*\"mensch\" + 0.004*\"fordern\" + 0.004*\"lassen\" + 0.004*\"deutschland\" + 0.004*\"forderung\" + 0.003*\"leben\" + 0.003*\"problem\"\n",
      "2021-06-09 18:14:09,137 : INFO : topic diff=0.044639, rho=0.164399\n",
      "2021-06-09 18:14:09,413 : INFO : PROGRESS: pass 0, at document #76000/486612\n",
      "2021-06-09 18:14:15,539 : INFO : optimized alpha [0.08310663, 0.03840613, 0.06540604, 0.04514152, 0.043487772, 0.1020534, 0.12486209, 0.043683965, 0.08398279, 0.041072708, 0.03951676, 0.14138149, 0.052783217, 0.06205919, 0.041551434, 0.09376618, 0.054795157, 0.085463315, 0.11698291, 0.044702105, 0.12607466, 0.043285772, 0.06342168, 0.06733203, 0.055876948, 0.049135964, 0.032797497, 0.044163894, 0.054138076, 0.05671148, 0.029911315, 0.0841095, 0.025967732, 0.04450336, 0.097202085, 0.07901748, 0.038795266, 0.12146083, 0.054547437, 0.07495313, 0.05836401, 0.031204809, 0.05550199, 0.25008768, 0.03749308, 0.14345764, 0.063200906, 0.04329373, 0.03503467, 0.05351049]\n",
      "2021-06-09 18:14:15,808 : INFO : merging changes from 2000 documents into a model of 486612 documents\n",
      "2021-06-09 18:14:16,110 : INFO : topic #32 (0.026): 0.086*\"syrien\" + 0.083*\"türkei\" + 0.060*\"waffe\" + 0.037*\"gewalt\" + 0.030*\"türkisch\" + 0.020*\"irak\" + 0.015*\"zypern\" + 0.014*\"krieg\" + 0.011*\"extremismus\" + 0.011*\"organisation\"\n",
      "2021-06-09 18:14:16,112 : INFO : topic #30 (0.030): 0.136*\"thoma\" + 0.095*\"norbert\" + 0.033*\"bettina\" + 0.026*\"langzeitarbeitslose\" + 0.020*\"schüler\" + 0.020*\"schülerin\" + 0.020*\"ralph\" + 0.018*\"schülerin_schüler\" + 0.017*\"myanmar\" + 0.014*\"dr._kirsten\"\n",
      "2021-06-09 18:14:16,114 : INFO : topic #11 (0.141): 0.014*\"bundesregierung\" + 0.008*\"regierung\" + 0.007*\"petra\" + 0.007*\"deutsch\" + 0.006*\"amt\" + 0.006*\"auswärtige\" + 0.005*\"land\" + 0.005*\"deutschland\" + 0.004*\"stehen\" + 0.004*\"frau\"\n",
      "2021-06-09 18:14:16,116 : INFO : topic #45 (0.143): 0.019*\"kollege\" + 0.013*\"kollegin\" + 0.009*\"staatssekretär\" + 0.009*\"fall\" + 0.007*\"frau\" + 0.006*\"gesetzentwurf\" + 0.005*\"herr_staatssekretär\" + 0.005*\"abs.\" + 0.005*\"verfahren\" + 0.005*\"sagen\"\n",
      "2021-06-09 18:14:16,118 : INFO : topic #43 (0.250): 0.014*\"antrag\" + 0.009*\"dame\" + 0.008*\"dame_herr\" + 0.005*\"mensch\" + 0.004*\"fordern\" + 0.004*\"lassen\" + 0.004*\"deutschland\" + 0.004*\"forderung\" + 0.003*\"leben\" + 0.003*\"problem\"\n",
      "2021-06-09 18:14:16,133 : INFO : topic diff=0.043069, rho=0.162221\n",
      "2021-06-09 18:14:16,424 : INFO : PROGRESS: pass 0, at document #78000/486612\n",
      "2021-06-09 18:14:23,068 : INFO : optimized alpha [0.08474135, 0.038769703, 0.0666702, 0.045748383, 0.043888513, 0.10562821, 0.12878664, 0.044351716, 0.085923776, 0.04144833, 0.03984117, 0.14435609, 0.053339936, 0.06325166, 0.041922502, 0.095563985, 0.055361304, 0.08710096, 0.119982, 0.045102358, 0.13196234, 0.04353311, 0.064463794, 0.06857697, 0.056399085, 0.04980065, 0.03324457, 0.044655103, 0.05520523, 0.057763707, 0.030024564, 0.0858108, 0.026108176, 0.044726804, 0.09965299, 0.08051373, 0.03923582, 0.12381297, 0.05554067, 0.075267196, 0.059016682, 0.031612184, 0.05617709, 0.2582392, 0.03768077, 0.14743927, 0.06366118, 0.044211566, 0.035431694, 0.054201648]\n",
      "2021-06-09 18:14:23,331 : INFO : merging changes from 2000 documents into a model of 486612 documents\n",
      "2021-06-09 18:14:23,622 : INFO : topic #32 (0.026): 0.075*\"türkei\" + 0.070*\"syrien\" + 0.055*\"gewalt\" + 0.052*\"waffe\" + 0.039*\"türkisch\" + 0.018*\"irak\" + 0.017*\"extremismus\" + 0.014*\"krieg\" + 0.012*\"zypern\" + 0.011*\"organisation\"\n",
      "2021-06-09 18:14:23,624 : INFO : topic #30 (0.030): 0.143*\"thoma\" + 0.098*\"norbert\" + 0.034*\"bettina\" + 0.027*\"langzeitarbeitslose\" + 0.021*\"ralph\" + 0.018*\"schüler\" + 0.018*\"schülerin\" + 0.016*\"schülerin_schüler\" + 0.015*\"myanmar\" + 0.015*\"nord\"\n",
      "2021-06-09 18:14:23,626 : INFO : topic #11 (0.144): 0.014*\"bundesregierung\" + 0.008*\"regierung\" + 0.007*\"petra\" + 0.007*\"deutsch\" + 0.006*\"amt\" + 0.006*\"auswärtige\" + 0.005*\"land\" + 0.004*\"deutschland\" + 0.004*\"stehen\" + 0.004*\"frau\"\n",
      "2021-06-09 18:14:23,627 : INFO : topic #45 (0.147): 0.020*\"kollege\" + 0.013*\"kollegin\" + 0.009*\"staatssekretär\" + 0.008*\"fall\" + 0.007*\"frau\" + 0.006*\"gesetzentwurf\" + 0.006*\"herr_staatssekretär\" + 0.005*\"abs.\" + 0.005*\"verfahren\" + 0.005*\"sagen\"\n",
      "2021-06-09 18:14:23,629 : INFO : topic #43 (0.258): 0.014*\"antrag\" + 0.009*\"dame\" + 0.008*\"dame_herr\" + 0.005*\"mensch\" + 0.005*\"fordern\" + 0.004*\"lassen\" + 0.004*\"deutschland\" + 0.004*\"forderung\" + 0.003*\"leben\" + 0.003*\"problem\"\n",
      "2021-06-09 18:14:23,644 : INFO : topic diff=0.033692, rho=0.160128\n",
      "2021-06-09 18:14:23,955 : INFO : PROGRESS: pass 0, at document #80000/486612\n",
      "2021-06-09 18:14:30,161 : INFO : optimized alpha [0.08671543, 0.039257634, 0.067791656, 0.04638157, 0.044388235, 0.10860422, 0.13274592, 0.044927042, 0.08775447, 0.04184521, 0.04013343, 0.14728174, 0.053846847, 0.0647023, 0.04229755, 0.09730224, 0.055879574, 0.088453464, 0.122960016, 0.045406926, 0.1374383, 0.04370532, 0.065391876, 0.06970624, 0.05690698, 0.050227534, 0.033639826, 0.04533175, 0.05624367, 0.058760334, 0.030120585, 0.086471245, 0.026139086, 0.045002043, 0.10130777, 0.08197939, 0.039608654, 0.12632659, 0.056578886, 0.07566063, 0.06003072, 0.031951476, 0.056516897, 0.2664214, 0.03780731, 0.15219243, 0.06381904, 0.045166895, 0.03578335, 0.05467051]\n",
      "2021-06-09 18:14:30,426 : INFO : merging changes from 2000 documents into a model of 486612 documents\n",
      "2021-06-09 18:14:30,722 : INFO : topic #32 (0.026): 0.070*\"türkei\" + 0.062*\"syrien\" + 0.055*\"gewalt\" + 0.051*\"waffe\" + 0.036*\"türkisch\" + 0.022*\"extremismus\" + 0.017*\"irak\" + 0.014*\"krieg\" + 0.012*\"zypern\" + 0.011*\"politisch\"\n",
      "2021-06-09 18:14:30,724 : INFO : topic #30 (0.030): 0.148*\"thoma\" + 0.097*\"norbert\" + 0.034*\"bettina\" + 0.033*\"langzeitarbeitslose\" + 0.021*\"ralph\" + 0.018*\"schülerin\" + 0.018*\"schüler\" + 0.016*\"schülerin_schüler\" + 0.015*\"lenkert\" + 0.015*\"nord\"\n",
      "2021-06-09 18:14:30,726 : INFO : topic #11 (0.147): 0.014*\"bundesregierung\" + 0.009*\"regierung\" + 0.007*\"petra\" + 0.007*\"deutsch\" + 0.006*\"amt\" + 0.005*\"auswärtige\" + 0.005*\"land\" + 0.004*\"deutschland\" + 0.004*\"stehen\" + 0.004*\"frau\"\n",
      "2021-06-09 18:14:30,728 : INFO : topic #45 (0.152): 0.020*\"kollege\" + 0.013*\"kollegin\" + 0.010*\"staatssekretär\" + 0.009*\"fall\" + 0.007*\"frau\" + 0.006*\"herr_staatssekretär\" + 0.006*\"gesetzentwurf\" + 0.005*\"abs.\" + 0.005*\"verfahren\" + 0.005*\"sagen\"\n",
      "2021-06-09 18:14:30,729 : INFO : topic #43 (0.266): 0.014*\"antrag\" + 0.009*\"dame\" + 0.007*\"dame_herr\" + 0.005*\"mensch\" + 0.005*\"fordern\" + 0.004*\"lassen\" + 0.004*\"deutschland\" + 0.004*\"forderung\" + 0.003*\"problem\" + 0.003*\"linke\"\n",
      "2021-06-09 18:14:30,744 : INFO : topic diff=0.031891, rho=0.158114\n",
      "2021-06-09 18:14:31,031 : INFO : PROGRESS: pass 0, at document #82000/486612\n",
      "2021-06-09 18:14:37,940 : INFO : optimized alpha [0.08942982, 0.039816752, 0.06898607, 0.047057036, 0.04510765, 0.110497735, 0.1354123, 0.045438994, 0.08963319, 0.042217016, 0.040613286, 0.15139312, 0.054503605, 0.066117465, 0.042676404, 0.09920062, 0.05656266, 0.090170145, 0.12509815, 0.046124842, 0.14216477, 0.043912612, 0.066847205, 0.07131226, 0.05754993, 0.050921723, 0.033980068, 0.04581223, 0.0571208, 0.059437446, 0.03028895, 0.08798003, 0.02622986, 0.04544307, 0.1035387, 0.08269832, 0.040173054, 0.12893522, 0.057537653, 0.07629526, 0.060869932, 0.03221413, 0.05718771, 0.27714497, 0.038163636, 0.15801841, 0.064100064, 0.04602567, 0.03602095, 0.05539435]\n",
      "2021-06-09 18:14:38,178 : INFO : merging changes from 2000 documents into a model of 486612 documents\n",
      "2021-06-09 18:14:38,459 : INFO : topic #32 (0.026): 0.071*\"türkei\" + 0.066*\"syrien\" + 0.052*\"gewalt\" + 0.052*\"waffe\" + 0.036*\"türkisch\" + 0.019*\"extremismus\" + 0.016*\"irak\" + 0.014*\"krieg\" + 0.013*\"dresden\" + 0.012*\"liefern\"\n",
      "2021-06-09 18:14:38,461 : INFO : topic #30 (0.030): 0.153*\"thoma\" + 0.098*\"norbert\" + 0.039*\"langzeitarbeitslose\" + 0.034*\"bettina\" + 0.021*\"ralph\" + 0.017*\"schülerin\" + 0.016*\"schüler\" + 0.016*\"winkler\" + 0.015*\"schülerin_schüler\" + 0.015*\"lenkert\"\n",
      "2021-06-09 18:14:38,462 : INFO : topic #11 (0.151): 0.014*\"bundesregierung\" + 0.009*\"regierung\" + 0.007*\"deutsch\" + 0.007*\"petra\" + 0.005*\"amt\" + 0.005*\"auswärtige\" + 0.005*\"land\" + 0.004*\"deutschland\" + 0.004*\"stehen\" + 0.003*\"israel\"\n",
      "2021-06-09 18:14:38,464 : INFO : topic #45 (0.158): 0.020*\"kollege\" + 0.013*\"kollegin\" + 0.010*\"staatssekretär\" + 0.009*\"fall\" + 0.007*\"frau\" + 0.006*\"herr_staatssekretär\" + 0.005*\"gesetzentwurf\" + 0.005*\"abs.\" + 0.005*\"verfahren\" + 0.005*\"entscheidung\"\n",
      "2021-06-09 18:14:38,465 : INFO : topic #43 (0.277): 0.015*\"antrag\" + 0.008*\"dame\" + 0.007*\"dame_herr\" + 0.005*\"mensch\" + 0.005*\"fordern\" + 0.004*\"lassen\" + 0.004*\"deutschland\" + 0.004*\"forderung\" + 0.003*\"problem\" + 0.003*\"linke\"\n",
      "2021-06-09 18:14:38,481 : INFO : topic diff=0.033583, rho=0.156174\n",
      "2021-06-09 18:14:38,755 : INFO : PROGRESS: pass 0, at document #84000/486612\n",
      "2021-06-09 18:14:44,809 : INFO : optimized alpha [0.09254379, 0.040326025, 0.06961337, 0.047721647, 0.04576966, 0.11077311, 0.138257, 0.046069987, 0.09134286, 0.04254307, 0.04101965, 0.15465534, 0.055332642, 0.06740338, 0.043190204, 0.10045065, 0.057339095, 0.09187842, 0.12805957, 0.04656796, 0.14755836, 0.04406623, 0.067468144, 0.07303904, 0.057978332, 0.05101086, 0.03431825, 0.046191454, 0.05780787, 0.0603326, 0.030400964, 0.08885039, 0.02619702, 0.045674067, 0.10559025, 0.083730064, 0.04077455, 0.13033763, 0.05831518, 0.07684691, 0.061704963, 0.032430835, 0.057545904, 0.28681257, 0.038289484, 0.16424581, 0.064419486, 0.047058295, 0.0362962, 0.05587989]\n",
      "2021-06-09 18:14:45,071 : INFO : merging changes from 2000 documents into a model of 486612 documents\n",
      "2021-06-09 18:14:45,357 : INFO : topic #32 (0.026): 0.091*\"türkei\" + 0.059*\"syrien\" + 0.057*\"waffe\" + 0.053*\"gewalt\" + 0.035*\"türkisch\" + 0.017*\"extremismus\" + 0.016*\"irak\" + 0.015*\"krieg\" + 0.014*\"liefern\" + 0.012*\"dresden\"\n",
      "2021-06-09 18:14:45,359 : INFO : topic #30 (0.030): 0.145*\"thoma\" + 0.095*\"norbert\" + 0.035*\"langzeitarbeitslose\" + 0.032*\"bettina\" + 0.020*\"ralph\" + 0.017*\"winkler\" + 0.017*\"schülerin\" + 0.015*\"schüler\" + 0.015*\"schülerin_schüler\" + 0.015*\"lenkert\"\n",
      "2021-06-09 18:14:45,361 : INFO : topic #11 (0.155): 0.015*\"bundesregierung\" + 0.008*\"regierung\" + 0.007*\"deutsch\" + 0.007*\"petra\" + 0.005*\"amt\" + 0.005*\"auswärtige\" + 0.005*\"land\" + 0.004*\"deutschland\" + 0.004*\"stehen\" + 0.003*\"frau\"\n",
      "2021-06-09 18:14:45,362 : INFO : topic #45 (0.164): 0.020*\"kollege\" + 0.013*\"kollegin\" + 0.010*\"staatssekretär\" + 0.009*\"fall\" + 0.007*\"frau\" + 0.007*\"herr_staatssekretär\" + 0.006*\"abs.\" + 0.005*\"verfahren\" + 0.005*\"gesetzentwurf\" + 0.005*\"entscheidung\"\n",
      "2021-06-09 18:14:45,364 : INFO : topic #43 (0.287): 0.015*\"antrag\" + 0.008*\"dame\" + 0.007*\"dame_herr\" + 0.005*\"mensch\" + 0.005*\"fordern\" + 0.004*\"lassen\" + 0.004*\"deutschland\" + 0.004*\"forderung\" + 0.003*\"linke\" + 0.003*\"leben\"\n",
      "2021-06-09 18:14:45,379 : INFO : topic diff=0.041121, rho=0.154303\n",
      "2021-06-09 18:14:45,657 : INFO : PROGRESS: pass 0, at document #86000/486612\n",
      "2021-06-09 18:14:52,183 : INFO : optimized alpha [0.09449039, 0.040846426, 0.07047495, 0.048167396, 0.046576206, 0.11175555, 0.14135933, 0.04670911, 0.09298409, 0.042880006, 0.041535318, 0.15801397, 0.05595201, 0.06865076, 0.043496653, 0.10222054, 0.057606317, 0.09323964, 0.12992495, 0.046810143, 0.15436517, 0.04434197, 0.06816172, 0.07448089, 0.058241233, 0.051680293, 0.034907363, 0.04673891, 0.05874674, 0.06116887, 0.03063443, 0.09016828, 0.026260298, 0.045985624, 0.107730456, 0.08529645, 0.041045625, 0.13237023, 0.059400707, 0.077282846, 0.062153842, 0.032756165, 0.058107875, 0.29881433, 0.038793575, 0.16998133, 0.06454786, 0.04775402, 0.03655789, 0.056142222]\n",
      "2021-06-09 18:14:52,444 : INFO : merging changes from 2000 documents into a model of 486612 documents\n",
      "2021-06-09 18:14:52,735 : INFO : topic #32 (0.026): 0.089*\"türkei\" + 0.055*\"gewalt\" + 0.053*\"waffe\" + 0.049*\"syrien\" + 0.037*\"türkisch\" + 0.021*\"extremismus\" + 0.019*\"irak\" + 0.014*\"krieg\" + 0.013*\"liefern\" + 0.011*\"dresden\"\n",
      "2021-06-09 18:14:52,737 : INFO : topic #30 (0.031): 0.142*\"thoma\" + 0.091*\"norbert\" + 0.032*\"bettina\" + 0.031*\"langzeitarbeitslose\" + 0.022*\"equal\" + 0.022*\"ralph\" + 0.019*\"pay\" + 0.018*\"equal_pay\" + 0.017*\"winkler\" + 0.016*\"schülerin\"\n",
      "2021-06-09 18:14:52,739 : INFO : topic #11 (0.158): 0.014*\"bundesregierung\" + 0.009*\"regierung\" + 0.007*\"deutsch\" + 0.007*\"petra\" + 0.005*\"amt\" + 0.005*\"auswärtige\" + 0.005*\"land\" + 0.004*\"deutschland\" + 0.004*\"stehen\" + 0.004*\"ägypten\"\n",
      "2021-06-09 18:14:52,740 : INFO : topic #45 (0.170): 0.020*\"kollege\" + 0.013*\"kollegin\" + 0.010*\"staatssekretär\" + 0.009*\"fall\" + 0.007*\"frau\" + 0.006*\"herr_staatssekretär\" + 0.006*\"abs.\" + 0.005*\"verfahren\" + 0.005*\"gesetzentwurf\" + 0.005*\"stehen\"\n",
      "2021-06-09 18:14:52,742 : INFO : topic #43 (0.299): 0.015*\"antrag\" + 0.008*\"dame\" + 0.007*\"dame_herr\" + 0.005*\"mensch\" + 0.005*\"fordern\" + 0.004*\"lassen\" + 0.004*\"deutschland\" + 0.004*\"forderung\" + 0.004*\"linke\" + 0.003*\"problem\"\n",
      "2021-06-09 18:14:52,757 : INFO : topic diff=0.035523, rho=0.152499\n",
      "2021-06-09 18:14:53,037 : INFO : PROGRESS: pass 0, at document #88000/486612\n",
      "2021-06-09 18:14:59,558 : INFO : optimized alpha [0.09645611, 0.04139543, 0.07184315, 0.0486993, 0.04709477, 0.11523637, 0.14442287, 0.047608867, 0.095131435, 0.043367796, 0.041847106, 0.16028516, 0.0568751, 0.06973228, 0.04395703, 0.103644736, 0.058294643, 0.09477528, 0.13255078, 0.047172084, 0.16163729, 0.044670794, 0.069124885, 0.07571989, 0.058405884, 0.052225247, 0.035249498, 0.047082234, 0.059834417, 0.061667662, 0.030868785, 0.09093551, 0.02622579, 0.04640251, 0.109672084, 0.08659295, 0.041446373, 0.13573526, 0.060196083, 0.077272475, 0.06303762, 0.033248615, 0.058355708, 0.30856368, 0.038993176, 0.17292489, 0.06477858, 0.04840374, 0.036860712, 0.05654567]\n",
      "2021-06-09 18:14:59,833 : INFO : merging changes from 2000 documents into a model of 486612 documents\n",
      "2021-06-09 18:15:00,119 : INFO : topic #32 (0.026): 0.085*\"türkei\" + 0.057*\"gewalt\" + 0.050*\"waffe\" + 0.046*\"syrien\" + 0.034*\"türkisch\" + 0.020*\"extremismus\" + 0.020*\"irak\" + 0.017*\"elektromobilität\" + 0.014*\"krieg\" + 0.012*\"liefern\"\n",
      "2021-06-09 18:15:00,121 : INFO : topic #30 (0.031): 0.160*\"thoma\" + 0.096*\"norbert\" + 0.036*\"bettina\" + 0.030*\"langzeitarbeitslose\" + 0.022*\"ralph\" + 0.020*\"bildungspaket\" + 0.018*\"winkler\" + 0.018*\"schülerin\" + 0.017*\"equal\" + 0.016*\"schülerin_schüler\"\n",
      "2021-06-09 18:15:00,123 : INFO : topic #20 (0.162): 0.031*\"sagen\" + 0.013*\"glauben\" + 0.012*\"frage\" + 0.010*\"finden\" + 0.009*\"land\" + 0.008*\"eigentlich\" + 0.008*\"sage\" + 0.008*\"problem\" + 0.008*\"reden\" + 0.008*\"geben\"\n",
      "2021-06-09 18:15:00,125 : INFO : topic #45 (0.173): 0.020*\"kollege\" + 0.013*\"kollegin\" + 0.010*\"staatssekretär\" + 0.009*\"fall\" + 0.007*\"frau\" + 0.006*\"herr_staatssekretär\" + 0.006*\"abs.\" + 0.005*\"verfahren\" + 0.005*\"gesetzentwurf\" + 0.005*\"herr_kollege\"\n",
      "2021-06-09 18:15:00,127 : INFO : topic #43 (0.309): 0.014*\"antrag\" + 0.008*\"dame\" + 0.007*\"dame_herr\" + 0.005*\"mensch\" + 0.005*\"fordern\" + 0.004*\"lassen\" + 0.004*\"deutschland\" + 0.004*\"forderung\" + 0.003*\"linke\" + 0.003*\"grüne\"\n",
      "2021-06-09 18:15:00,141 : INFO : topic diff=0.041064, rho=0.150756\n",
      "2021-06-09 18:15:00,416 : INFO : PROGRESS: pass 0, at document #90000/486612\n",
      "2021-06-09 18:15:06,954 : INFO : optimized alpha [0.0981395, 0.041930806, 0.0729744, 0.048889197, 0.047681753, 0.119584195, 0.14708579, 0.04859382, 0.09761133, 0.04387104, 0.04195494, 0.16165952, 0.057807688, 0.07119556, 0.044305, 0.10534872, 0.058433577, 0.09603134, 0.1339724, 0.04743038, 0.1696003, 0.04484916, 0.069984965, 0.07713007, 0.058544483, 0.052865718, 0.035572574, 0.047325537, 0.060944382, 0.0623531, 0.031029895, 0.091595165, 0.026250277, 0.046638355, 0.11188506, 0.0879198, 0.04175075, 0.14006083, 0.060977157, 0.077137165, 0.06390395, 0.033641692, 0.058774926, 0.3188996, 0.039209925, 0.17707346, 0.064982325, 0.0493993, 0.03737572, 0.05671806]\n",
      "2021-06-09 18:15:07,201 : INFO : merging changes from 2000 documents into a model of 486612 documents\n",
      "2021-06-09 18:15:07,486 : INFO : topic #32 (0.026): 0.082*\"türkei\" + 0.064*\"gewalt\" + 0.048*\"waffe\" + 0.041*\"syrien\" + 0.031*\"türkisch\" + 0.023*\"extremismus\" + 0.019*\"irak\" + 0.017*\"elektromobilität\" + 0.017*\"krieg\" + 0.012*\"liefern\"\n",
      "2021-06-09 18:15:07,488 : INFO : topic #30 (0.031): 0.150*\"thoma\" + 0.093*\"norbert\" + 0.034*\"bettina\" + 0.033*\"langzeitarbeitslose\" + 0.022*\"bildungspaket\" + 0.021*\"ralph\" + 0.019*\"schülerin\" + 0.017*\"winkler\" + 0.017*\"schülerin_schüler\" + 0.017*\"equal\"\n",
      "2021-06-09 18:15:07,490 : INFO : topic #20 (0.170): 0.031*\"sagen\" + 0.012*\"glauben\" + 0.012*\"frage\" + 0.010*\"finden\" + 0.009*\"land\" + 0.009*\"eigentlich\" + 0.008*\"sage\" + 0.008*\"geben\" + 0.008*\"reden\" + 0.008*\"genau\"\n",
      "2021-06-09 18:15:07,492 : INFO : topic #45 (0.177): 0.020*\"kollege\" + 0.013*\"kollegin\" + 0.010*\"staatssekretär\" + 0.009*\"fall\" + 0.007*\"frau\" + 0.006*\"herr_staatssekretär\" + 0.006*\"abs.\" + 0.005*\"verfahren\" + 0.005*\"herr_kollege\" + 0.005*\"gesetzentwurf\"\n",
      "2021-06-09 18:15:07,494 : INFO : topic #43 (0.319): 0.014*\"antrag\" + 0.008*\"dame\" + 0.007*\"dame_herr\" + 0.005*\"fordern\" + 0.005*\"mensch\" + 0.004*\"lassen\" + 0.004*\"deutschland\" + 0.004*\"forderung\" + 0.004*\"linke\" + 0.003*\"problem\"\n",
      "2021-06-09 18:15:07,509 : INFO : topic diff=0.042066, rho=0.149071\n",
      "2021-06-09 18:15:07,788 : INFO : PROGRESS: pass 0, at document #92000/486612\n",
      "2021-06-09 18:15:14,233 : INFO : optimized alpha [0.10110589, 0.042328343, 0.07454744, 0.049326528, 0.04831197, 0.12277837, 0.15025355, 0.049334656, 0.100156836, 0.0440985, 0.04224889, 0.16410516, 0.05839169, 0.07255516, 0.044767205, 0.10695834, 0.059009295, 0.09736999, 0.13730185, 0.047940023, 0.17564277, 0.04505423, 0.07110292, 0.07837017, 0.058720548, 0.052974768, 0.035816103, 0.047849476, 0.06191141, 0.06298639, 0.03121383, 0.0932036, 0.02621262, 0.047043934, 0.1142378, 0.088920966, 0.04211965, 0.14277674, 0.061934527, 0.07751331, 0.064367056, 0.03394503, 0.058958203, 0.328339, 0.039143834, 0.18201135, 0.06530236, 0.050441332, 0.0379872, 0.057091743]\n",
      "2021-06-09 18:15:14,488 : INFO : merging changes from 2000 documents into a model of 486612 documents\n",
      "2021-06-09 18:15:14,784 : INFO : topic #32 (0.026): 0.075*\"türkei\" + 0.069*\"gewalt\" + 0.054*\"waffe\" + 0.038*\"syrien\" + 0.030*\"türkisch\" + 0.021*\"extremismus\" + 0.017*\"irak\" + 0.016*\"krieg\" + 0.016*\"elektromobilität\" + 0.013*\"linksextremismus\"\n",
      "2021-06-09 18:15:14,785 : INFO : topic #30 (0.031): 0.164*\"thoma\" + 0.094*\"norbert\" + 0.036*\"bettina\" + 0.035*\"langzeitarbeitslose\" + 0.024*\"ralph\" + 0.019*\"schülerin\" + 0.018*\"bildungspaket\" + 0.017*\"winkler\" + 0.016*\"schülerin_schüler\" + 0.016*\"schüler\"\n",
      "2021-06-09 18:15:14,787 : INFO : topic #20 (0.176): 0.031*\"sagen\" + 0.012*\"glauben\" + 0.012*\"frage\" + 0.009*\"finden\" + 0.009*\"land\" + 0.009*\"eigentlich\" + 0.008*\"sage\" + 0.008*\"geben\" + 0.008*\"reden\" + 0.008*\"genau\"\n",
      "2021-06-09 18:15:14,789 : INFO : topic #45 (0.182): 0.020*\"kollege\" + 0.013*\"kollegin\" + 0.010*\"staatssekretär\" + 0.010*\"fall\" + 0.007*\"frau\" + 0.006*\"herr_staatssekretär\" + 0.006*\"abs.\" + 0.005*\"verfahren\" + 0.005*\"herr_kollege\" + 0.005*\"entscheidung\"\n",
      "2021-06-09 18:15:14,791 : INFO : topic #43 (0.328): 0.015*\"antrag\" + 0.008*\"dame\" + 0.007*\"dame_herr\" + 0.005*\"fordern\" + 0.005*\"mensch\" + 0.004*\"lassen\" + 0.004*\"forderung\" + 0.004*\"deutschland\" + 0.004*\"linke\" + 0.003*\"grüne\"\n",
      "2021-06-09 18:15:14,805 : INFO : topic diff=0.035371, rho=0.147442\n",
      "2021-06-09 18:15:15,080 : INFO : PROGRESS: pass 0, at document #94000/486612\n",
      "2021-06-09 18:15:21,219 : INFO : optimized alpha [0.102354884, 0.04279552, 0.07573531, 0.049543343, 0.04894574, 0.12635793, 0.15313046, 0.049882457, 0.10272831, 0.0444101, 0.042308297, 0.16593505, 0.058783773, 0.07368596, 0.04527586, 0.1083548, 0.059333306, 0.09945047, 0.13897198, 0.048340928, 0.18337406, 0.04534298, 0.07217672, 0.079515696, 0.058869734, 0.05344021, 0.036162335, 0.04809669, 0.06284927, 0.06342657, 0.03126076, 0.0937046, 0.026186688, 0.04734731, 0.117041945, 0.090493985, 0.042238597, 0.14579134, 0.06266179, 0.07762228, 0.065073125, 0.034281544, 0.059003673, 0.33908588, 0.03916091, 0.18712851, 0.0655332, 0.05121483, 0.038395986, 0.05755314]\n",
      "2021-06-09 18:15:21,464 : INFO : merging changes from 2000 documents into a model of 486612 documents\n",
      "2021-06-09 18:15:21,763 : INFO : topic #32 (0.026): 0.082*\"türkei\" + 0.069*\"gewalt\" + 0.051*\"waffe\" + 0.035*\"syrien\" + 0.033*\"türkisch\" + 0.021*\"extremismus\" + 0.020*\"elektromobilität\" + 0.016*\"krieg\" + 0.016*\"irak\" + 0.013*\"linksextremismus\"\n",
      "2021-06-09 18:15:21,765 : INFO : topic #30 (0.031): 0.165*\"thoma\" + 0.095*\"norbert\" + 0.040*\"langzeitarbeitslose\" + 0.035*\"bettina\" + 0.024*\"ralph\" + 0.018*\"schülerin\" + 0.018*\"winkler\" + 0.017*\"schülerin_schüler\" + 0.016*\"schüler\" + 0.016*\"bildungspaket\"\n",
      "2021-06-09 18:15:21,767 : INFO : topic #20 (0.183): 0.031*\"sagen\" + 0.012*\"glauben\" + 0.012*\"frage\" + 0.009*\"finden\" + 0.009*\"eigentlich\" + 0.009*\"sage\" + 0.009*\"land\" + 0.008*\"geben\" + 0.008*\"genau\" + 0.008*\"reden\"\n",
      "2021-06-09 18:15:21,769 : INFO : topic #45 (0.187): 0.020*\"kollege\" + 0.013*\"kollegin\" + 0.010*\"staatssekretär\" + 0.010*\"fall\" + 0.008*\"frau\" + 0.006*\"herr_staatssekretär\" + 0.005*\"herr_kollege\" + 0.005*\"abs.\" + 0.005*\"verfahren\" + 0.005*\"entscheidung\"\n",
      "2021-06-09 18:15:21,771 : INFO : topic #43 (0.339): 0.015*\"antrag\" + 0.008*\"dame\" + 0.006*\"dame_herr\" + 0.005*\"fordern\" + 0.005*\"mensch\" + 0.004*\"lassen\" + 0.004*\"forderung\" + 0.004*\"linke\" + 0.004*\"deutschland\" + 0.003*\"grüne\"\n",
      "2021-06-09 18:15:21,786 : INFO : topic diff=0.036269, rho=0.145865\n",
      "2021-06-09 18:15:22,061 : INFO : PROGRESS: pass 0, at document #96000/486612\n",
      "2021-06-09 18:15:27,793 : INFO : optimized alpha [0.10357922, 0.043167338, 0.07689767, 0.050506417, 0.04930175, 0.12875353, 0.15374444, 0.05027088, 0.10419187, 0.0447404, 0.042943686, 0.16918123, 0.05920072, 0.07477688, 0.04544461, 0.109155916, 0.059582002, 0.10161106, 0.14008416, 0.048497815, 0.19085656, 0.045483567, 0.07290787, 0.08147813, 0.05896974, 0.053914174, 0.036349364, 0.04839262, 0.06358333, 0.06388191, 0.031290367, 0.094600014, 0.02622614, 0.047548376, 0.11894648, 0.09124531, 0.042379703, 0.14764503, 0.06330463, 0.07774517, 0.06548819, 0.034550063, 0.059224065, 0.3464015, 0.03934095, 0.19232719, 0.06568475, 0.052131232, 0.03872304, 0.058065675]\n",
      "2021-06-09 18:15:28,021 : INFO : merging changes from 2000 documents into a model of 486612 documents\n"
     ]
    }
   ],
   "source": [
    "# Set training parameters.\n",
    "num_topics = 50\n",
    "chunksize = 2000\n",
    "passes = 20\n",
    "iterations = 400\n",
    "eval_every = None  # Don't evaluate model perplexity, takes too much time.\n",
    "\n",
    "# Make a index to word dictionary.\n",
    "temp = dictionary[0]  # This is only to \"load\" the dictionary.\n",
    "id2word = dictionary.id2token\n",
    "\n",
    "model = LdaModel(\n",
    "    corpus=corpus,\n",
    "    id2word=id2word,\n",
    "    chunksize=chunksize,\n",
    "    alpha='auto',\n",
    "    eta='auto',\n",
    "    iterations=iterations,\n",
    "    num_topics=num_topics,\n",
    "    passes=passes,\n",
    "    eval_every=eval_every\n",
    ")"
   ]
  },
  {
   "cell_type": "code",
   "execution_count": null,
   "id": "90541347-e1ee-479f-95bb-da8a68d14566",
   "metadata": {},
   "outputs": [],
   "source": [
    "model.save('data/dump/lda_model_50_topics')"
   ]
  },
  {
   "cell_type": "code",
   "execution_count": null,
   "id": "cae5439d-16d2-4a8e-857e-105738adceec",
   "metadata": {},
   "outputs": [],
   "source": []
  }
 ],
 "metadata": {
  "kernelspec": {
   "display_name": "Python 3",
   "language": "python",
   "name": "python3"
  },
  "language_info": {
   "codemirror_mode": {
    "name": "ipython",
    "version": 3
   },
   "file_extension": ".py",
   "mimetype": "text/x-python",
   "name": "python",
   "nbconvert_exporter": "python",
   "pygments_lexer": "ipython3",
   "version": "3.8.10"
  }
 },
 "nbformat": 4,
 "nbformat_minor": 5
}
