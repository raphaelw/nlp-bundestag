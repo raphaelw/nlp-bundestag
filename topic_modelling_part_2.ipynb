{
 "cells": [
  {
   "cell_type": "markdown",
   "id": "95ee10c9-5829-44a5-8c3a-bdf3294488f2",
   "metadata": {},
   "source": [
    "# Topic modelling (cont.)"
   ]
  },
  {
   "cell_type": "code",
   "execution_count": 1,
   "id": "1ff18765-a98b-43c4-a14b-76781c960fc6",
   "metadata": {},
   "outputs": [],
   "source": [
    "from wordcloud import WordCloud, get_single_color_func\n",
    "import random"
   ]
  },
  {
   "cell_type": "code",
   "execution_count": 2,
   "id": "f6346d10-8337-43e5-86d8-9a163fabee47",
   "metadata": {},
   "outputs": [],
   "source": [
    "import json"
   ]
  },
  {
   "cell_type": "markdown",
   "id": "300ca814-1b94-4947-97a0-0ff9d2d44b53",
   "metadata": {},
   "source": [
    "## Load trained LDA model"
   ]
  },
  {
   "cell_type": "code",
   "execution_count": 3,
   "id": "06cdd9bb-e980-40ec-81d0-4832b21f6cc4",
   "metadata": {},
   "outputs": [],
   "source": [
    "def load_lda_model():\n",
    "    model = LdaModel.load('data/dump/lda_model_50_topics')\n",
    "    with open('data/dump/corpus.json', 'r', encoding='ascii') as fp:\n",
    "        corpus = json.load(fp)\n",
    "        \n",
    "    topics = model.top_topics(corpus=corpus, topn=50)\n",
    "    return model, corpus, topics"
   ]
  },
  {
   "cell_type": "code",
   "execution_count": 4,
   "id": "ff5980aa-accc-4293-bd2c-2554ba3bff1b",
   "metadata": {},
   "outputs": [],
   "source": [
    "#from gensim.models import LdaModel\n",
    "#model,corpus,topics = load_lda_model()"
   ]
  },
  {
   "cell_type": "markdown",
   "id": "8ddef9bd-5bce-4b97-8ef5-360bf8d934d2",
   "metadata": {},
   "source": [
    "## Save results"
   ]
  },
  {
   "cell_type": "code",
   "execution_count": 5,
   "id": "2fd2b603-877f-4d44-9a8f-343645e912fd",
   "metadata": {},
   "outputs": [],
   "source": [
    "def save_results():\n",
    "    with open('data/topics_50_gen1.json', 'w', encoding='ascii') as fp:\n",
    "        json.dump(topics, fp, default=float, indent=True)"
   ]
  },
  {
   "cell_type": "code",
   "execution_count": 6,
   "id": "d24d6465-8247-41d5-ae91-31200f9095ff",
   "metadata": {},
   "outputs": [],
   "source": [
    "#save_results()"
   ]
  },
  {
   "cell_type": "markdown",
   "id": "083748da-8986-4304-acb6-139691cb33e6",
   "metadata": {},
   "source": [
    "## Generate WordClouds"
   ]
  },
  {
   "cell_type": "code",
   "execution_count": 7,
   "id": "66f831b9-9ffb-4a2d-a0b6-15d548942ada",
   "metadata": {},
   "outputs": [],
   "source": [
    "def custom_color_func(*args,**kwargs):\n",
    "    return \"hsl({}, 30%, {}%)\".format(random.randint(0, 250),random.randint(60, 80))"
   ]
  },
  {
   "cell_type": "code",
   "execution_count": 8,
   "id": "bf7a557f-7dd1-4a5c-bd5b-7d0797d74f15",
   "metadata": {},
   "outputs": [],
   "source": [
    "def wordclouds_from_gensim_topics(gensim_topics, bg_color='black', text_color='white'):\n",
    "    \"\"\"gensim_topics : result of LdaModel.top_topics\"\"\"\n",
    "    clouds = []\n",
    "    for n,(topic,coherence_score) in enumerate(gensim_topics):\n",
    "        frequencies = {token:frequency for frequency,token in topic}\n",
    "        \n",
    "        kwargs = dict(background_color=bg_color, color_func=lambda *args, **kwargs: text_color)\n",
    "        kwargs = dict(background_color=bg_color, color_func=custom_color_func)\n",
    "        wc = WordCloud(width=1000, height=500, margin=16, min_font_size=25, **kwargs)\n",
    "        \n",
    "        wc.generate_from_frequencies(frequencies)\n",
    "        clouds.append(wc)\n",
    "        wc.to_file(f'wordclouds/wordcloud_{n}.png')\n",
    "        #if n > 5: break"
   ]
  },
  {
   "cell_type": "code",
   "execution_count": 9,
   "id": "3bdcca8a-f5e0-4c60-9c7a-a8469b3bbda8",
   "metadata": {},
   "outputs": [],
   "source": [
    "with open('data/topics_50_gen1.json', 'r', encoding='ascii') as fp:\n",
    "    topics_ = json.load(fp)"
   ]
  },
  {
   "cell_type": "code",
   "execution_count": 10,
   "id": "3ce8c837-c547-4768-ad47-554b9b5539d6",
   "metadata": {},
   "outputs": [],
   "source": [
    "wordclouds_from_gensim_topics(topics_)"
   ]
  }
 ],
 "metadata": {
  "kernelspec": {
   "display_name": "Python 3",
   "language": "python",
   "name": "python3"
  },
  "language_info": {
   "codemirror_mode": {
    "name": "ipython",
    "version": 3
   },
   "file_extension": ".py",
   "mimetype": "text/x-python",
   "name": "python",
   "nbconvert_exporter": "python",
   "pygments_lexer": "ipython3",
   "version": "3.8.10"
  }
 },
 "nbformat": 4,
 "nbformat_minor": 5
}
