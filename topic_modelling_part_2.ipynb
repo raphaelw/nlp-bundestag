{
 "cells": [
  {
   "cell_type": "markdown",
   "id": "95ee10c9-5829-44a5-8c3a-bdf3294488f2",
   "metadata": {},
   "source": [
    "# Topic modelling (cont.)"
   ]
  },
  {
   "cell_type": "code",
   "execution_count": 15,
   "id": "1ff18765-a98b-43c4-a14b-76781c960fc6",
   "metadata": {},
   "outputs": [],
   "source": [
    "import numpy as np\n",
    "import pandas as pd\n",
    "import matplotlib.pyplot as plt\n",
    "import seaborn as sns\n",
    "from wordcloud import WordCloud"
   ]
  },
  {
   "cell_type": "code",
   "execution_count": 16,
   "id": "f6346d10-8337-43e5-86d8-9a163fabee47",
   "metadata": {},
   "outputs": [],
   "source": [
    "import json"
   ]
  },
  {
   "cell_type": "code",
   "execution_count": 17,
   "id": "13ddfc05-ce6f-4f2e-a7b3-5ad66d302b61",
   "metadata": {},
   "outputs": [],
   "source": [
    "plt.rcParams['figure.figsize'] = (14,5)"
   ]
  },
  {
   "cell_type": "markdown",
   "id": "300ca814-1b94-4947-97a0-0ff9d2d44b53",
   "metadata": {},
   "source": [
    "## Load trained LDA model"
   ]
  },
  {
   "cell_type": "code",
   "execution_count": 4,
   "id": "c59874ba-c3db-4538-bae8-feee16383b75",
   "metadata": {},
   "outputs": [],
   "source": [
    "from gensim.models import LdaModel"
   ]
  },
  {
   "cell_type": "code",
   "execution_count": 5,
   "id": "c92f5bdb-38ca-4a14-951e-bfae415154ca",
   "metadata": {},
   "outputs": [],
   "source": [
    "model = LdaModel.load('data/dump/lda_model_50_topics')"
   ]
  },
  {
   "cell_type": "code",
   "execution_count": 6,
   "id": "b0057b46-f18f-421b-bb90-6f4076313cea",
   "metadata": {},
   "outputs": [],
   "source": [
    "with open('data/dump/corpus.json', 'r', encoding='ascii') as fp:\n",
    "    corpus = json.load(fp)"
   ]
  },
  {
   "cell_type": "code",
   "execution_count": 8,
   "id": "c69f99d9-6a69-4ca8-8d86-44ed9dbe8984",
   "metadata": {},
   "outputs": [],
   "source": [
    "topics = model.top_topics(corpus=corpus)"
   ]
  },
  {
   "cell_type": "code",
   "execution_count": 42,
   "id": "b98eea7f-892b-41bd-b7c2-12c8c3f6858b",
   "metadata": {},
   "outputs": [
    {
     "data": {
      "text/plain": [
       "[(0.052766487, 'dame'),\n",
       " (0.047605798, 'dame_herr'),\n",
       " (0.032756764, 'sagen'),\n",
       " (0.016485142, 'regierung'),\n",
       " (0.015465404, 'sprechen'),\n",
       " (0.012373464, 'hören'),\n",
       " (0.011941109, 'wissen'),\n",
       " (0.01188191, 'wort'),\n",
       " (0.010813584, 'ding'),\n",
       " (0.009821477, 'weiß'),\n",
       " (0.009241923, 'müssen'),\n",
       " (0.0087827295, 'genau'),\n",
       " (0.008362875, 'nämlich'),\n",
       " (0.008307464, 'lassen'),\n",
       " (0.00819255, 'nehmen'),\n",
       " (0.008045479, 'tun'),\n",
       " (0.007843474, 'eigentlich'),\n",
       " (0.0069949315, 'rede'),\n",
       " (0.006894977, 'stehen'),\n",
       " (0.006821896, 'bekommen')]"
      ]
     },
     "execution_count": 42,
     "metadata": {},
     "output_type": "execute_result"
    }
   ],
   "source": [
    "topics[0][0]"
   ]
  },
  {
   "cell_type": "code",
   "execution_count": 45,
   "id": "bf7a557f-7dd1-4a5c-bd5b-7d0797d74f15",
   "metadata": {},
   "outputs": [],
   "source": [
    "def wordclouds_from_gensim_topics(gensim_topics, bg='white'):\n",
    "    \"\"\"gensim_topics : result of LdaModel.top_topics\"\"\"\n",
    "    clouds = []\n",
    "    for n,(topic,coherence_score) in enumerate(gensim_topics):\n",
    "        frequencies = {token:frequency for frequency,token in topic}\n",
    "        cloud = WordCloud(background_color=bg)\n",
    "        cloud.generate_from_frequencies(frequencies)\n",
    "        clouds.append(cloud)\n",
    "        cloud.to_file(f'wordcloud_{n}.png')"
   ]
  },
  {
   "cell_type": "code",
   "execution_count": 44,
   "id": "3ce8c837-c547-4768-ad47-554b9b5539d6",
   "metadata": {},
   "outputs": [],
   "source": [
    "wordclouds_from_gensim_topics(topics)"
   ]
  },
  {
   "cell_type": "code",
   "execution_count": null,
   "id": "7eda781e-5e38-4656-9a81-e91a94c244cf",
   "metadata": {},
   "outputs": [],
   "source": []
  }
 ],
 "metadata": {
  "kernelspec": {
   "display_name": "Python 3",
   "language": "python",
   "name": "python3"
  },
  "language_info": {
   "codemirror_mode": {
    "name": "ipython",
    "version": 3
   },
   "file_extension": ".py",
   "mimetype": "text/x-python",
   "name": "python",
   "nbconvert_exporter": "python",
   "pygments_lexer": "ipython3",
   "version": "3.8.10"
  }
 },
 "nbformat": 4,
 "nbformat_minor": 5
}
