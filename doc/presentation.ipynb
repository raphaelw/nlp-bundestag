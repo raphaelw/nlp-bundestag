{
 "cells": [
  {
   "cell_type": "markdown",
   "id": "7d5c9899",
   "metadata": {
    "slideshow": {
     "slide_type": "slide"
    },
    "tags": []
   },
   "source": [
    "# Topic Modelling\n",
    "\n",
    "## Speeches by German Parliament (Bundestag)\n",
    "\n",
    "*github.com/raphaelw*"
   ]
  },
  {
   "cell_type": "markdown",
   "id": "bff975b3",
   "metadata": {
    "slideshow": {
     "slide_type": "slide"
    },
    "tags": []
   },
   "source": [
    "## Idea (Blackbox)\n",
    "\n",
    "![Image](figures/pipeline_blackbox.png)"
   ]
  },
  {
   "cell_type": "markdown",
   "id": "a64f628f-16bf-4c6a-bb80-df328347bc10",
   "metadata": {
    "slideshow": {
     "slide_type": "slide"
    },
    "tags": []
   },
   "source": [
    "## Idea (Greybox)\n",
    "\n",
    "![Image](figures/pipeline_greybox.png)"
   ]
  },
  {
   "cell_type": "markdown",
   "id": "f2142f5a-5ed8-4814-b7dc-bffcf0454982",
   "metadata": {
    "slideshow": {
     "slide_type": "slide"
    },
    "tags": []
   },
   "source": [
    "## Topic 16: Family policy (Familienpolitik)\n",
    "\n",
    "![Topic 16](../wordclouds/wordcloud_16.png \"Topic 16\")"
   ]
  },
  {
   "cell_type": "code",
   "execution_count": null,
   "id": "12bc0173-803b-43a9-beff-68e2d25ac9b0",
   "metadata": {
    "slideshow": {
     "slide_type": "slide"
    },
    "tags": []
   },
   "outputs": [],
   "source": []
  }
 ],
 "metadata": {
  "kernelspec": {
   "display_name": "Python 3",
   "language": "python",
   "name": "python3"
  },
  "language_info": {
   "codemirror_mode": {
    "name": "ipython",
    "version": 3
   },
   "file_extension": ".py",
   "mimetype": "text/x-python",
   "name": "python",
   "nbconvert_exporter": "python",
   "pygments_lexer": "ipython3",
   "version": "3.8.10"
  }
 },
 "nbformat": 4,
 "nbformat_minor": 5
}
